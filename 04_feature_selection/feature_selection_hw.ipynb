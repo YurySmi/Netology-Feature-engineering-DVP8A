{
 "cells": [
  {
   "cell_type": "markdown",
   "metadata": {},
   "source": [
    "# Feature Selection"
   ]
  },
  {
   "cell_type": "markdown",
   "metadata": {},
   "source": [
    "Представлен датасет центра приюта животных, и вашей задачей будет обучить модель таким образом, чтобы  по определенным признакам была возможность максимально уверенно предсказать метки 'Adoption' и 'Transfer' (столбец “outcome_type”).\n",
    "\n",
    "Здесь вы вольны делать что угодно. Я хочу видеть от вас:\n",
    "1. Проверка наличия/обработка пропусков\n",
    "2. Проверьте взаимосвязи между признаками\n",
    "3. Попробуйте создать свои признаки\n",
    "4. Удалите лишние\n",
    "5. Обратите внимание на текстовые столбцы. Подумайте, что можно извлечь полезного оттуда\n",
    "6. Использование профайлера вам поможет.\n",
    "7. Не забывайте, что у вас есть PCA (Метод главных компонент). Он может пригодиться."
   ]
  },
  {
   "cell_type": "code",
   "execution_count": 1,
   "metadata": {},
   "outputs": [],
   "source": [
    "import pandas as pd\n",
    "import numpy as np\n",
    "import seaborn as sns\n",
    "\n",
    "from matplotlib import pyplot as plt"
   ]
  },
  {
   "cell_type": "markdown",
   "metadata": {},
   "source": [
    "---"
   ]
  },
  {
   "cell_type": "markdown",
   "metadata": {},
   "source": [
    "## Загрузка данных"
   ]
  },
  {
   "cell_type": "code",
   "execution_count": 2,
   "metadata": {},
   "outputs": [
    {
     "data": {
      "text/html": [
       "<div>\n",
       "<style scoped>\n",
       "    .dataframe tbody tr th:only-of-type {\n",
       "        vertical-align: middle;\n",
       "    }\n",
       "\n",
       "    .dataframe tbody tr th {\n",
       "        vertical-align: top;\n",
       "    }\n",
       "\n",
       "    .dataframe thead th {\n",
       "        text-align: right;\n",
       "    }\n",
       "</style>\n",
       "<table border=\"1\" class=\"dataframe\">\n",
       "  <thead>\n",
       "    <tr style=\"text-align: right;\">\n",
       "      <th></th>\n",
       "      <th>age_upon_outcome</th>\n",
       "      <th>animal_id</th>\n",
       "      <th>animal_type</th>\n",
       "      <th>breed</th>\n",
       "      <th>color</th>\n",
       "      <th>date_of_birth</th>\n",
       "      <th>datetime</th>\n",
       "      <th>monthyear</th>\n",
       "      <th>name</th>\n",
       "      <th>outcome_subtype</th>\n",
       "      <th>outcome_type</th>\n",
       "      <th>sex_upon_outcome</th>\n",
       "    </tr>\n",
       "  </thead>\n",
       "  <tbody>\n",
       "    <tr>\n",
       "      <th>0</th>\n",
       "      <td>2 weeks</td>\n",
       "      <td>A684346</td>\n",
       "      <td>Cat</td>\n",
       "      <td>Domestic Shorthair Mix</td>\n",
       "      <td>Orange Tabby</td>\n",
       "      <td>2014-07-07T00:00:00</td>\n",
       "      <td>2014-07-22T16:04:00</td>\n",
       "      <td>2014-07-22T16:04:00</td>\n",
       "      <td>NaN</td>\n",
       "      <td>Partner</td>\n",
       "      <td>Transfer</td>\n",
       "      <td>Intact Male</td>\n",
       "    </tr>\n",
       "    <tr>\n",
       "      <th>1</th>\n",
       "      <td>1 year</td>\n",
       "      <td>A666430</td>\n",
       "      <td>Dog</td>\n",
       "      <td>Beagle Mix</td>\n",
       "      <td>White/Brown</td>\n",
       "      <td>2012-11-06T00:00:00</td>\n",
       "      <td>2013-11-07T11:47:00</td>\n",
       "      <td>2013-11-07T11:47:00</td>\n",
       "      <td>Lucy</td>\n",
       "      <td>Partner</td>\n",
       "      <td>Transfer</td>\n",
       "      <td>Spayed Female</td>\n",
       "    </tr>\n",
       "    <tr>\n",
       "      <th>2</th>\n",
       "      <td>1 year</td>\n",
       "      <td>A675708</td>\n",
       "      <td>Dog</td>\n",
       "      <td>Pit Bull</td>\n",
       "      <td>Blue/White</td>\n",
       "      <td>2013-03-31T00:00:00</td>\n",
       "      <td>2014-06-03T14:20:00</td>\n",
       "      <td>2014-06-03T14:20:00</td>\n",
       "      <td>*Johnny</td>\n",
       "      <td>NaN</td>\n",
       "      <td>Adoption</td>\n",
       "      <td>Neutered Male</td>\n",
       "    </tr>\n",
       "    <tr>\n",
       "      <th>3</th>\n",
       "      <td>9 years</td>\n",
       "      <td>A680386</td>\n",
       "      <td>Dog</td>\n",
       "      <td>Miniature Schnauzer Mix</td>\n",
       "      <td>White</td>\n",
       "      <td>2005-06-02T00:00:00</td>\n",
       "      <td>2014-06-15T15:50:00</td>\n",
       "      <td>2014-06-15T15:50:00</td>\n",
       "      <td>Monday</td>\n",
       "      <td>Partner</td>\n",
       "      <td>Transfer</td>\n",
       "      <td>Neutered Male</td>\n",
       "    </tr>\n",
       "    <tr>\n",
       "      <th>4</th>\n",
       "      <td>5 months</td>\n",
       "      <td>A683115</td>\n",
       "      <td>Other</td>\n",
       "      <td>Bat Mix</td>\n",
       "      <td>Brown</td>\n",
       "      <td>2014-01-07T00:00:00</td>\n",
       "      <td>2014-07-07T14:04:00</td>\n",
       "      <td>2014-07-07T14:04:00</td>\n",
       "      <td>NaN</td>\n",
       "      <td>Rabies Risk</td>\n",
       "      <td>Euthanasia</td>\n",
       "      <td>Unknown</td>\n",
       "    </tr>\n",
       "  </tbody>\n",
       "</table>\n",
       "</div>"
      ],
      "text/plain": [
       "  age_upon_outcome animal_id animal_type                    breed  \\\n",
       "0          2 weeks   A684346         Cat   Domestic Shorthair Mix   \n",
       "1           1 year   A666430         Dog               Beagle Mix   \n",
       "2           1 year   A675708         Dog                 Pit Bull   \n",
       "3          9 years   A680386         Dog  Miniature Schnauzer Mix   \n",
       "4         5 months   A683115       Other                  Bat Mix   \n",
       "\n",
       "          color        date_of_birth             datetime  \\\n",
       "0  Orange Tabby  2014-07-07T00:00:00  2014-07-22T16:04:00   \n",
       "1   White/Brown  2012-11-06T00:00:00  2013-11-07T11:47:00   \n",
       "2    Blue/White  2013-03-31T00:00:00  2014-06-03T14:20:00   \n",
       "3         White  2005-06-02T00:00:00  2014-06-15T15:50:00   \n",
       "4         Brown  2014-01-07T00:00:00  2014-07-07T14:04:00   \n",
       "\n",
       "             monthyear     name outcome_subtype outcome_type sex_upon_outcome  \n",
       "0  2014-07-22T16:04:00      NaN         Partner     Transfer      Intact Male  \n",
       "1  2013-11-07T11:47:00     Lucy         Partner     Transfer    Spayed Female  \n",
       "2  2014-06-03T14:20:00  *Johnny             NaN     Adoption    Neutered Male  \n",
       "3  2014-06-15T15:50:00   Monday         Partner     Transfer    Neutered Male  \n",
       "4  2014-07-07T14:04:00      NaN     Rabies Risk   Euthanasia          Unknown  "
      ]
     },
     "execution_count": 2,
     "metadata": {},
     "output_type": "execute_result"
    }
   ],
   "source": [
    "data = pd.read_csv('aac_shelter_outcomes.csv')\n",
    "data.head(5)"
   ]
  },
  {
   "cell_type": "code",
   "execution_count": 3,
   "metadata": {},
   "outputs": [],
   "source": [
    "# import pandas_profiling\n",
    "# pandas_profiling.ProfileReport(data)"
   ]
  },
  {
   "cell_type": "code",
   "execution_count": 4,
   "metadata": {},
   "outputs": [],
   "source": [
    "# **При запуске ProfileReport у меня выдает ошибку (приведена ниже). Как побороть - не знаю.**\n",
    "\n",
    "# ---------------------------------------------------------------------------\n",
    "# TypeError                                 Traceback (most recent call last)\n",
    "# <ipython-input-3-4f326df48213> in <module>\n",
    "#       1 import pandas_profiling\n",
    "# ----> 2 pandas_profiling.ProfileReport(data)\n",
    "\n",
    "# ~\\anaconda3\\lib\\site-packages\\pandas_profiling\\__init__.py in __init__(self, df, **kwargs)\n",
    "#      64         sample = kwargs.get('sample', df.head())\n",
    "#      65 \n",
    "# ---> 66         description_set = describe(df, **kwargs)\n",
    "#      67 \n",
    "#      68         self.html = to_html(sample,\n",
    "\n",
    "# ~\\anaconda3\\lib\\site-packages\\pandas_profiling\\describe.py in describe(df, bins, check_correlation, correlation_threshold, correlation_overrides, check_recoded, pool_size, **kwargs)\n",
    "#     390             if name not in names:\n",
    "#     391                 names.append(name)\n",
    "# --> 392     variable_stats = pd.concat(ldesc, join_axes=pd.Index([names]), axis=1)\n",
    "#     393     variable_stats.columns.names = df.columns.names\n",
    "#     394 \n",
    "\n",
    "# TypeError: concat() got an unexpected keyword argument 'join_axes'"
   ]
  },
  {
   "cell_type": "markdown",
   "metadata": {},
   "source": [
    "---"
   ]
  },
  {
   "cell_type": "markdown",
   "metadata": {},
   "source": [
    "## Задача: \n",
    "\"по определенным признакам была возможность максимально уверенно предсказать метки 'Adoption' и 'Transfer' (столбец “outcome_type”)\""
   ]
  },
  {
   "cell_type": "markdown",
   "metadata": {},
   "source": [
    "## Аномалии:\n",
    "- все типы данных строковые"
   ]
  },
  {
   "cell_type": "markdown",
   "metadata": {},
   "source": [
    "## Предообработка (to do):\n",
    "1. В соответствии с задачей в столбце outcome_type оставить только целевые значения (Adoption, Transfer), остальные перевести в 'Other'\n",
    "1. Привести типы данных к нужным: числа - в числа, даты - в даты (если останутся для анализаа)"
   ]
  },
  {
   "cell_type": "markdown",
   "metadata": {},
   "source": [
    "---"
   ]
  },
  {
   "cell_type": "markdown",
   "metadata": {},
   "source": [
    "## Первичный анализ данных"
   ]
  },
  {
   "cell_type": "code",
   "execution_count": 5,
   "metadata": {},
   "outputs": [
    {
     "data": {
      "text/plain": [
       "Index(['age_upon_outcome', 'animal_id', 'animal_type', 'breed', 'color',\n",
       "       'date_of_birth', 'datetime', 'monthyear', 'name', 'outcome_subtype',\n",
       "       'outcome_type', 'sex_upon_outcome'],\n",
       "      dtype='object')"
      ]
     },
     "execution_count": 5,
     "metadata": {},
     "output_type": "execute_result"
    }
   ],
   "source": [
    "data.columns"
   ]
  },
  {
   "cell_type": "code",
   "execution_count": 6,
   "metadata": {},
   "outputs": [
    {
     "name": "stdout",
     "output_type": "stream",
     "text": [
      "<class 'pandas.core.frame.DataFrame'>\n",
      "RangeIndex: 78256 entries, 0 to 78255\n",
      "Data columns (total 12 columns):\n",
      " #   Column            Non-Null Count  Dtype \n",
      "---  ------            --------------  ----- \n",
      " 0   age_upon_outcome  78248 non-null  object\n",
      " 1   animal_id         78256 non-null  object\n",
      " 2   animal_type       78256 non-null  object\n",
      " 3   breed             78256 non-null  object\n",
      " 4   color             78256 non-null  object\n",
      " 5   date_of_birth     78256 non-null  object\n",
      " 6   datetime          78256 non-null  object\n",
      " 7   monthyear         78256 non-null  object\n",
      " 8   name              54370 non-null  object\n",
      " 9   outcome_subtype   35963 non-null  object\n",
      " 10  outcome_type      78244 non-null  object\n",
      " 11  sex_upon_outcome  78254 non-null  object\n",
      "dtypes: object(12)\n",
      "memory usage: 7.2+ MB\n"
     ]
    }
   ],
   "source": [
    "data.info()"
   ]
  },
  {
   "cell_type": "markdown",
   "metadata": {},
   "source": [
    "> Привести типы данных к нужным: числа - в числа, даты - в даты (если останутся для анализаа)"
   ]
  },
  {
   "cell_type": "markdown",
   "metadata": {},
   "source": [
    "**Целевая переменная:** outcome_type, значения 'Adoption' и 'Transfer'"
   ]
  },
  {
   "cell_type": "code",
   "execution_count": 7,
   "metadata": {},
   "outputs": [
    {
     "name": "stdout",
     "output_type": "stream",
     "text": [
      "Варианты в стобце outcome_type:\n",
      " ['Transfer' 'Adoption' 'Euthanasia' 'Return to Owner' 'Died' 'Disposal'\n",
      " 'Relocate' 'Missing' nan 'Rto-Adopt']\n",
      "Всего данных: (78256, 12)\n",
      "Из них Adoption, Transfer (56611, 12)\n"
     ]
    }
   ],
   "source": [
    "print('Варианты в стобце outcome_type:\\n', data.outcome_type.unique())\n",
    "print('Всего данных:', data.shape)\n",
    "print('Из них Adoption, Transfer', data[data.outcome_type.isin(['Adoption', 'Transfer'])].shape) "
   ]
  },
  {
   "cell_type": "code",
   "execution_count": 8,
   "metadata": {},
   "outputs": [
    {
     "data": {
      "text/html": [
       "<div>\n",
       "<style scoped>\n",
       "    .dataframe tbody tr th:only-of-type {\n",
       "        vertical-align: middle;\n",
       "    }\n",
       "\n",
       "    .dataframe tbody tr th {\n",
       "        vertical-align: top;\n",
       "    }\n",
       "\n",
       "    .dataframe thead th {\n",
       "        text-align: right;\n",
       "    }\n",
       "</style>\n",
       "<table border=\"1\" class=\"dataframe\">\n",
       "  <thead>\n",
       "    <tr style=\"text-align: right;\">\n",
       "      <th></th>\n",
       "      <th>age_upon_outcome</th>\n",
       "      <th>animal_id</th>\n",
       "      <th>animal_type</th>\n",
       "      <th>breed</th>\n",
       "      <th>color</th>\n",
       "      <th>date_of_birth</th>\n",
       "      <th>datetime</th>\n",
       "      <th>monthyear</th>\n",
       "      <th>name</th>\n",
       "      <th>outcome_subtype</th>\n",
       "      <th>sex_upon_outcome</th>\n",
       "    </tr>\n",
       "    <tr>\n",
       "      <th>outcome_type</th>\n",
       "      <th></th>\n",
       "      <th></th>\n",
       "      <th></th>\n",
       "      <th></th>\n",
       "      <th></th>\n",
       "      <th></th>\n",
       "      <th></th>\n",
       "      <th></th>\n",
       "      <th></th>\n",
       "      <th></th>\n",
       "      <th></th>\n",
       "    </tr>\n",
       "  </thead>\n",
       "  <tbody>\n",
       "    <tr>\n",
       "      <th>Adoption</th>\n",
       "      <td>33112</td>\n",
       "      <td>33112</td>\n",
       "      <td>33112</td>\n",
       "      <td>33112</td>\n",
       "      <td>33112</td>\n",
       "      <td>33112</td>\n",
       "      <td>33112</td>\n",
       "      <td>33112</td>\n",
       "      <td>27554</td>\n",
       "      <td>5926</td>\n",
       "      <td>33112</td>\n",
       "    </tr>\n",
       "    <tr>\n",
       "      <th>Died</th>\n",
       "      <td>680</td>\n",
       "      <td>680</td>\n",
       "      <td>680</td>\n",
       "      <td>680</td>\n",
       "      <td>680</td>\n",
       "      <td>680</td>\n",
       "      <td>680</td>\n",
       "      <td>680</td>\n",
       "      <td>222</td>\n",
       "      <td>593</td>\n",
       "      <td>680</td>\n",
       "    </tr>\n",
       "    <tr>\n",
       "      <th>Disposal</th>\n",
       "      <td>307</td>\n",
       "      <td>307</td>\n",
       "      <td>307</td>\n",
       "      <td>307</td>\n",
       "      <td>307</td>\n",
       "      <td>307</td>\n",
       "      <td>307</td>\n",
       "      <td>307</td>\n",
       "      <td>23</td>\n",
       "      <td>0</td>\n",
       "      <td>307</td>\n",
       "    </tr>\n",
       "    <tr>\n",
       "      <th>Euthanasia</th>\n",
       "      <td>6076</td>\n",
       "      <td>6080</td>\n",
       "      <td>6080</td>\n",
       "      <td>6080</td>\n",
       "      <td>6080</td>\n",
       "      <td>6080</td>\n",
       "      <td>6080</td>\n",
       "      <td>6080</td>\n",
       "      <td>1379</td>\n",
       "      <td>5910</td>\n",
       "      <td>6080</td>\n",
       "    </tr>\n",
       "    <tr>\n",
       "      <th>Missing</th>\n",
       "      <td>46</td>\n",
       "      <td>46</td>\n",
       "      <td>46</td>\n",
       "      <td>46</td>\n",
       "      <td>46</td>\n",
       "      <td>46</td>\n",
       "      <td>46</td>\n",
       "      <td>46</td>\n",
       "      <td>36</td>\n",
       "      <td>35</td>\n",
       "      <td>46</td>\n",
       "    </tr>\n",
       "    <tr>\n",
       "      <th>Relocate</th>\n",
       "      <td>16</td>\n",
       "      <td>16</td>\n",
       "      <td>16</td>\n",
       "      <td>16</td>\n",
       "      <td>16</td>\n",
       "      <td>16</td>\n",
       "      <td>16</td>\n",
       "      <td>16</td>\n",
       "      <td>0</td>\n",
       "      <td>0</td>\n",
       "      <td>16</td>\n",
       "    </tr>\n",
       "    <tr>\n",
       "      <th>Return to Owner</th>\n",
       "      <td>14354</td>\n",
       "      <td>14354</td>\n",
       "      <td>14354</td>\n",
       "      <td>14354</td>\n",
       "      <td>14354</td>\n",
       "      <td>14354</td>\n",
       "      <td>14354</td>\n",
       "      <td>14354</td>\n",
       "      <td>13898</td>\n",
       "      <td>0</td>\n",
       "      <td>14353</td>\n",
       "    </tr>\n",
       "    <tr>\n",
       "      <th>Rto-Adopt</th>\n",
       "      <td>150</td>\n",
       "      <td>150</td>\n",
       "      <td>150</td>\n",
       "      <td>150</td>\n",
       "      <td>150</td>\n",
       "      <td>150</td>\n",
       "      <td>150</td>\n",
       "      <td>150</td>\n",
       "      <td>145</td>\n",
       "      <td>0</td>\n",
       "      <td>150</td>\n",
       "    </tr>\n",
       "    <tr>\n",
       "      <th>Transfer</th>\n",
       "      <td>23497</td>\n",
       "      <td>23499</td>\n",
       "      <td>23499</td>\n",
       "      <td>23499</td>\n",
       "      <td>23499</td>\n",
       "      <td>23499</td>\n",
       "      <td>23499</td>\n",
       "      <td>23499</td>\n",
       "      <td>11106</td>\n",
       "      <td>23499</td>\n",
       "      <td>23499</td>\n",
       "    </tr>\n",
       "  </tbody>\n",
       "</table>\n",
       "</div>"
      ],
      "text/plain": [
       "                 age_upon_outcome  animal_id  animal_type  breed  color  \\\n",
       "outcome_type                                                              \n",
       "Adoption                    33112      33112        33112  33112  33112   \n",
       "Died                          680        680          680    680    680   \n",
       "Disposal                      307        307          307    307    307   \n",
       "Euthanasia                   6076       6080         6080   6080   6080   \n",
       "Missing                        46         46           46     46     46   \n",
       "Relocate                       16         16           16     16     16   \n",
       "Return to Owner             14354      14354        14354  14354  14354   \n",
       "Rto-Adopt                     150        150          150    150    150   \n",
       "Transfer                    23497      23499        23499  23499  23499   \n",
       "\n",
       "                 date_of_birth  datetime  monthyear   name  outcome_subtype  \\\n",
       "outcome_type                                                                  \n",
       "Adoption                 33112     33112      33112  27554             5926   \n",
       "Died                       680       680        680    222              593   \n",
       "Disposal                   307       307        307     23                0   \n",
       "Euthanasia                6080      6080       6080   1379             5910   \n",
       "Missing                     46        46         46     36               35   \n",
       "Relocate                    16        16         16      0                0   \n",
       "Return to Owner          14354     14354      14354  13898                0   \n",
       "Rto-Adopt                  150       150        150    145                0   \n",
       "Transfer                 23499     23499      23499  11106            23499   \n",
       "\n",
       "                 sex_upon_outcome  \n",
       "outcome_type                       \n",
       "Adoption                    33112  \n",
       "Died                          680  \n",
       "Disposal                      307  \n",
       "Euthanasia                   6080  \n",
       "Missing                        46  \n",
       "Relocate                       16  \n",
       "Return to Owner             14353  \n",
       "Rto-Adopt                     150  \n",
       "Transfer                    23499  "
      ]
     },
     "metadata": {},
     "output_type": "display_data"
    }
   ],
   "source": [
    "display(data.groupby(by='outcome_type').count())"
   ]
  },
  {
   "cell_type": "markdown",
   "metadata": {},
   "source": [
    "| столбец | аномалия | что делать |\n",
    "| --- | --- | --- |\n",
    "| | | |\n",
    "| outcome_type | Adoption, Transfer, Died, ... | Оставить Adoption, Transfer, остальное перевести в other|"
   ]
  },
  {
   "cell_type": "code",
   "execution_count": 9,
   "metadata": {},
   "outputs": [
    {
     "data": {
      "text/html": [
       "<div>\n",
       "<style scoped>\n",
       "    .dataframe tbody tr th:only-of-type {\n",
       "        vertical-align: middle;\n",
       "    }\n",
       "\n",
       "    .dataframe tbody tr th {\n",
       "        vertical-align: top;\n",
       "    }\n",
       "\n",
       "    .dataframe thead th {\n",
       "        text-align: right;\n",
       "    }\n",
       "</style>\n",
       "<table border=\"1\" class=\"dataframe\">\n",
       "  <thead>\n",
       "    <tr style=\"text-align: right;\">\n",
       "      <th></th>\n",
       "      <th>age_upon_outcome</th>\n",
       "      <th>animal_id</th>\n",
       "      <th>animal_type</th>\n",
       "      <th>breed</th>\n",
       "      <th>color</th>\n",
       "      <th>date_of_birth</th>\n",
       "      <th>datetime</th>\n",
       "      <th>monthyear</th>\n",
       "      <th>name</th>\n",
       "      <th>outcome_subtype</th>\n",
       "      <th>outcome_type</th>\n",
       "      <th>sex_upon_outcome</th>\n",
       "    </tr>\n",
       "  </thead>\n",
       "  <tbody>\n",
       "    <tr>\n",
       "      <th>count</th>\n",
       "      <td>78248</td>\n",
       "      <td>78256</td>\n",
       "      <td>78256</td>\n",
       "      <td>78256</td>\n",
       "      <td>78256</td>\n",
       "      <td>78256</td>\n",
       "      <td>78256</td>\n",
       "      <td>78256</td>\n",
       "      <td>54370</td>\n",
       "      <td>35963</td>\n",
       "      <td>78244</td>\n",
       "      <td>78254</td>\n",
       "    </tr>\n",
       "    <tr>\n",
       "      <th>unique</th>\n",
       "      <td>46</td>\n",
       "      <td>70855</td>\n",
       "      <td>5</td>\n",
       "      <td>2128</td>\n",
       "      <td>525</td>\n",
       "      <td>5869</td>\n",
       "      <td>64361</td>\n",
       "      <td>64361</td>\n",
       "      <td>14574</td>\n",
       "      <td>19</td>\n",
       "      <td>9</td>\n",
       "      <td>5</td>\n",
       "    </tr>\n",
       "    <tr>\n",
       "      <th>top</th>\n",
       "      <td>1 year</td>\n",
       "      <td>A706536</td>\n",
       "      <td>Dog</td>\n",
       "      <td>Domestic Shorthair Mix</td>\n",
       "      <td>Black/White</td>\n",
       "      <td>2014-05-05T00:00:00</td>\n",
       "      <td>2016-04-18T00:00:00</td>\n",
       "      <td>2016-04-18T00:00:00</td>\n",
       "      <td>Bella</td>\n",
       "      <td>Partner</td>\n",
       "      <td>Adoption</td>\n",
       "      <td>Neutered Male</td>\n",
       "    </tr>\n",
       "    <tr>\n",
       "      <th>freq</th>\n",
       "      <td>14355</td>\n",
       "      <td>11</td>\n",
       "      <td>44242</td>\n",
       "      <td>23335</td>\n",
       "      <td>8153</td>\n",
       "      <td>112</td>\n",
       "      <td>39</td>\n",
       "      <td>39</td>\n",
       "      <td>344</td>\n",
       "      <td>19660</td>\n",
       "      <td>33112</td>\n",
       "      <td>27784</td>\n",
       "    </tr>\n",
       "  </tbody>\n",
       "</table>\n",
       "</div>"
      ],
      "text/plain": [
       "       age_upon_outcome animal_id animal_type                   breed  \\\n",
       "count             78248     78256       78256                   78256   \n",
       "unique               46     70855           5                    2128   \n",
       "top              1 year   A706536         Dog  Domestic Shorthair Mix   \n",
       "freq              14355        11       44242                   23335   \n",
       "\n",
       "              color        date_of_birth             datetime  \\\n",
       "count         78256                78256                78256   \n",
       "unique          525                 5869                64361   \n",
       "top     Black/White  2014-05-05T00:00:00  2016-04-18T00:00:00   \n",
       "freq           8153                  112                   39   \n",
       "\n",
       "                  monthyear   name outcome_subtype outcome_type  \\\n",
       "count                 78256  54370           35963        78244   \n",
       "unique                64361  14574              19            9   \n",
       "top     2016-04-18T00:00:00  Bella         Partner     Adoption   \n",
       "freq                     39    344           19660        33112   \n",
       "\n",
       "       sex_upon_outcome  \n",
       "count             78254  \n",
       "unique                5  \n",
       "top       Neutered Male  \n",
       "freq              27784  "
      ]
     },
     "execution_count": 9,
     "metadata": {},
     "output_type": "execute_result"
    }
   ],
   "source": [
    "data.describe()"
   ]
  },
  {
   "cell_type": "markdown",
   "metadata": {},
   "source": [
    "### Идеи:\n",
    "\n",
    "| столбец | аномалия | что делать |\n",
    "| :-- | :-- | :-- |\n",
    "|animal_id|не все характеристики влияют на результат (или можно объяснить)|часть столбцов удалить|\n",
    "|color||-\"-|\n",
    "|name|||\n",
    "||||\n",
    "||||"
   ]
  },
  {
   "cell_type": "code",
   "execution_count": 10,
   "metadata": {},
   "outputs": [
    {
     "data": {
      "text/plain": [
       "array(['2 weeks', '1 year', '9 years', '5 months', '4 months', '3 years',\n",
       "       '1 month', '3 months', '2 years', '2 months', '4 years', '8 years',\n",
       "       '3 weeks', '8 months', '12 years', '7 years', '5 years', '6 years',\n",
       "       '5 days', '10 months', '4 weeks', '10 years', '2 days', '6 months',\n",
       "       '14 years', '11 months', '15 years', '7 months', '13 years',\n",
       "       '11 years', '16 years', '9 months', '3 days', '6 days', '4 days',\n",
       "       '5 weeks', '1 week', '1 day', '1 weeks', '0 years', '17 years',\n",
       "       '20 years', '18 years', '19 years', '22 years', '25 years', nan],\n",
       "      dtype=object)"
      ]
     },
     "execution_count": 10,
     "metadata": {},
     "output_type": "execute_result"
    }
   ],
   "source": [
    "data.age_upon_outcome.unique()\n",
    "# data.age_upon_outcome.isna().sum()"
   ]
  },
  {
   "cell_type": "markdown",
   "metadata": {},
   "source": [
    "| столбец | аномалия | что делать |\n",
    "| :-- | :-- | :-- |\n",
    "| age_upon_outcome | day, week, month, years | преобразовать в число, привести к одному масштабу; |\n",
    "||есть nan|решить с пропусками |"
   ]
  },
  {
   "cell_type": "code",
   "execution_count": 11,
   "metadata": {},
   "outputs": [
    {
     "data": {
      "text/plain": [
       "Dog          44242\n",
       "Cat          29422\n",
       "Other         4249\n",
       "Bird           334\n",
       "Livestock        9\n",
       "Name: animal_type, dtype: int64"
      ]
     },
     "execution_count": 11,
     "metadata": {},
     "output_type": "execute_result"
    }
   ],
   "source": [
    "data.animal_type.value_counts()"
   ]
  },
  {
   "cell_type": "markdown",
   "metadata": {},
   "source": [
    "| столбец | аномалия | что делать |\n",
    "| :-- | :-- | :-- |\n",
    "|animal_type|слшиком мало данных по птицам и домашнему скоту|Bird, Livestock перевести в разряд Other|"
   ]
  },
  {
   "cell_type": "code",
   "execution_count": 12,
   "metadata": {
    "scrolled": true
   },
   "outputs": [
    {
     "name": "stdout",
     "output_type": "stream",
     "text": [
      "2128\n"
     ]
    },
    {
     "data": {
      "text/plain": [
       "Domestic Shorthair Mix                  23335\n",
       "Pit Bull Mix                             6135\n",
       "Chihuahua Shorthair Mix                  4733\n",
       "Labrador Retriever Mix                   4608\n",
       "Domestic Medium Hair Mix                 2323\n",
       "                                        ...  \n",
       "Shetland Sheepdog/Dachshund Longhair        1\n",
       "Miniature Schnauzer/Pug                     1\n",
       "Rat Terrier/Basenji                         1\n",
       "Golden Retriever/Whippet                    1\n",
       "Staffordshire/Australian Cattle Dog         1\n",
       "Name: breed, Length: 2128, dtype: int64"
      ]
     },
     "execution_count": 12,
     "metadata": {},
     "output_type": "execute_result"
    }
   ],
   "source": [
    "# breed = порода\n",
    "print(data.breed.nunique())\n",
    "data.breed.value_counts()"
   ]
  },
  {
   "cell_type": "markdown",
   "metadata": {},
   "source": [
    "| столбец | аномалия | что делать |\n",
    "|:--|:--|:--|\n",
    "|breed|слишком много вариантов, по некоторым мало строк - точной модели не получится. При этом наверняка некоторые породы расходятся быстрей|????|"
   ]
  },
  {
   "cell_type": "code",
   "execution_count": 13,
   "metadata": {},
   "outputs": [
    {
     "data": {
      "text/html": [
       "<div>\n",
       "<style scoped>\n",
       "    .dataframe tbody tr th:only-of-type {\n",
       "        vertical-align: middle;\n",
       "    }\n",
       "\n",
       "    .dataframe tbody tr th {\n",
       "        vertical-align: top;\n",
       "    }\n",
       "\n",
       "    .dataframe thead th {\n",
       "        text-align: right;\n",
       "    }\n",
       "</style>\n",
       "<table border=\"1\" class=\"dataframe\">\n",
       "  <thead>\n",
       "    <tr style=\"text-align: right;\">\n",
       "      <th></th>\n",
       "      <th>date_of_birth</th>\n",
       "      <th>datetime</th>\n",
       "      <th>monthyear</th>\n",
       "      <th>age_upon_outcome</th>\n",
       "    </tr>\n",
       "  </thead>\n",
       "  <tbody>\n",
       "    <tr>\n",
       "      <th>0</th>\n",
       "      <td>2014-07-07T00:00:00</td>\n",
       "      <td>2014-07-22T16:04:00</td>\n",
       "      <td>2014-07-22T16:04:00</td>\n",
       "      <td>2 weeks</td>\n",
       "    </tr>\n",
       "    <tr>\n",
       "      <th>1</th>\n",
       "      <td>2012-11-06T00:00:00</td>\n",
       "      <td>2013-11-07T11:47:00</td>\n",
       "      <td>2013-11-07T11:47:00</td>\n",
       "      <td>1 year</td>\n",
       "    </tr>\n",
       "    <tr>\n",
       "      <th>2</th>\n",
       "      <td>2013-03-31T00:00:00</td>\n",
       "      <td>2014-06-03T14:20:00</td>\n",
       "      <td>2014-06-03T14:20:00</td>\n",
       "      <td>1 year</td>\n",
       "    </tr>\n",
       "    <tr>\n",
       "      <th>3</th>\n",
       "      <td>2005-06-02T00:00:00</td>\n",
       "      <td>2014-06-15T15:50:00</td>\n",
       "      <td>2014-06-15T15:50:00</td>\n",
       "      <td>9 years</td>\n",
       "    </tr>\n",
       "    <tr>\n",
       "      <th>4</th>\n",
       "      <td>2014-01-07T00:00:00</td>\n",
       "      <td>2014-07-07T14:04:00</td>\n",
       "      <td>2014-07-07T14:04:00</td>\n",
       "      <td>5 months</td>\n",
       "    </tr>\n",
       "    <tr>\n",
       "      <th>...</th>\n",
       "      <td>...</td>\n",
       "      <td>...</td>\n",
       "      <td>...</td>\n",
       "      <td>...</td>\n",
       "    </tr>\n",
       "    <tr>\n",
       "      <th>78251</th>\n",
       "      <td>2017-12-04T00:00:00</td>\n",
       "      <td>2018-02-01T18:26:00</td>\n",
       "      <td>2018-02-01T18:26:00</td>\n",
       "      <td>1 month</td>\n",
       "    </tr>\n",
       "    <tr>\n",
       "      <th>78252</th>\n",
       "      <td>2014-12-30T00:00:00</td>\n",
       "      <td>2018-02-01T18:06:00</td>\n",
       "      <td>2018-02-01T18:06:00</td>\n",
       "      <td>3 years</td>\n",
       "    </tr>\n",
       "    <tr>\n",
       "      <th>78253</th>\n",
       "      <td>2017-02-01T00:00:00</td>\n",
       "      <td>2018-02-01T18:08:00</td>\n",
       "      <td>2018-02-01T18:08:00</td>\n",
       "      <td>NaN</td>\n",
       "    </tr>\n",
       "    <tr>\n",
       "      <th>78254</th>\n",
       "      <td>2017-11-13T00:00:00</td>\n",
       "      <td>2018-02-01T18:32:00</td>\n",
       "      <td>2018-02-01T18:32:00</td>\n",
       "      <td>2 months</td>\n",
       "    </tr>\n",
       "    <tr>\n",
       "      <th>78255</th>\n",
       "      <td>2017-11-13T00:00:00</td>\n",
       "      <td>2018-02-01T18:44:00</td>\n",
       "      <td>2018-02-01T18:44:00</td>\n",
       "      <td>2 months</td>\n",
       "    </tr>\n",
       "  </tbody>\n",
       "</table>\n",
       "<p>78256 rows × 4 columns</p>\n",
       "</div>"
      ],
      "text/plain": [
       "             date_of_birth             datetime            monthyear  \\\n",
       "0      2014-07-07T00:00:00  2014-07-22T16:04:00  2014-07-22T16:04:00   \n",
       "1      2012-11-06T00:00:00  2013-11-07T11:47:00  2013-11-07T11:47:00   \n",
       "2      2013-03-31T00:00:00  2014-06-03T14:20:00  2014-06-03T14:20:00   \n",
       "3      2005-06-02T00:00:00  2014-06-15T15:50:00  2014-06-15T15:50:00   \n",
       "4      2014-01-07T00:00:00  2014-07-07T14:04:00  2014-07-07T14:04:00   \n",
       "...                    ...                  ...                  ...   \n",
       "78251  2017-12-04T00:00:00  2018-02-01T18:26:00  2018-02-01T18:26:00   \n",
       "78252  2014-12-30T00:00:00  2018-02-01T18:06:00  2018-02-01T18:06:00   \n",
       "78253  2017-02-01T00:00:00  2018-02-01T18:08:00  2018-02-01T18:08:00   \n",
       "78254  2017-11-13T00:00:00  2018-02-01T18:32:00  2018-02-01T18:32:00   \n",
       "78255  2017-11-13T00:00:00  2018-02-01T18:44:00  2018-02-01T18:44:00   \n",
       "\n",
       "      age_upon_outcome  \n",
       "0              2 weeks  \n",
       "1               1 year  \n",
       "2               1 year  \n",
       "3              9 years  \n",
       "4             5 months  \n",
       "...                ...  \n",
       "78251          1 month  \n",
       "78252          3 years  \n",
       "78253              NaN  \n",
       "78254         2 months  \n",
       "78255         2 months  \n",
       "\n",
       "[78256 rows x 4 columns]"
      ]
     },
     "execution_count": 13,
     "metadata": {},
     "output_type": "execute_result"
    }
   ],
   "source": [
    "data[['date_of_birth','datetime', 'monthyear','age_upon_outcome']]"
   ]
  },
  {
   "cell_type": "code",
   "execution_count": 14,
   "metadata": {},
   "outputs": [
    {
     "data": {
      "text/plain": [
       "0       2014-07-07\n",
       "1       2012-11-06\n",
       "2       2013-03-31\n",
       "3       2005-06-02\n",
       "4       2014-01-07\n",
       "           ...    \n",
       "78251   2017-12-04\n",
       "78252   2014-12-30\n",
       "78253   2017-02-01\n",
       "78254   2017-11-13\n",
       "78255   2017-11-13\n",
       "Name: date_of_birth1, Length: 78256, dtype: datetime64[ns]"
      ]
     },
     "execution_count": 14,
     "metadata": {},
     "output_type": "execute_result"
    }
   ],
   "source": [
    "data['date_of_birth1'] = pd.to_datetime(data.date_of_birth, format='%Y-%m-%d', errors='coerce')\n",
    "# .isna().sum()\n",
    "# сумма равна 0 - значит все конвертировалось без ошибок\n",
    "data.date_of_birth1"
   ]
  },
  {
   "cell_type": "code",
   "execution_count": 15,
   "metadata": {},
   "outputs": [],
   "source": [
    "data['datetime1']=pd.to_datetime(data.datetime, format='%Y-%m-%d', errors='coerce')\n",
    "# .isna().sum()"
   ]
  },
  {
   "cell_type": "code",
   "execution_count": 16,
   "metadata": {},
   "outputs": [],
   "source": [
    "data['monthyear1'] =  pd.to_datetime(data.monthyear, format='%Y-%m-%d', errors='coerce')\n",
    "# .isna().sum()"
   ]
  },
  {
   "cell_type": "code",
   "execution_count": 17,
   "metadata": {},
   "outputs": [
    {
     "data": {
      "text/plain": [
       "Timedelta('0 days 00:00:00')"
      ]
     },
     "execution_count": 17,
     "metadata": {},
     "output_type": "execute_result"
    }
   ],
   "source": [
    "(data.datetime1 - data.monthyear1).sum()\n",
    "# столбцы идентичны - дубликаты - удалить один из"
   ]
  },
  {
   "cell_type": "code",
   "execution_count": 18,
   "metadata": {},
   "outputs": [
    {
     "data": {
      "text/html": [
       "<div>\n",
       "<style scoped>\n",
       "    .dataframe tbody tr th:only-of-type {\n",
       "        vertical-align: middle;\n",
       "    }\n",
       "\n",
       "    .dataframe tbody tr th {\n",
       "        vertical-align: top;\n",
       "    }\n",
       "\n",
       "    .dataframe thead th {\n",
       "        text-align: right;\n",
       "    }\n",
       "</style>\n",
       "<table border=\"1\" class=\"dataframe\">\n",
       "  <thead>\n",
       "    <tr style=\"text-align: right;\">\n",
       "      <th></th>\n",
       "      <th>age</th>\n",
       "      <th>age_upon_outcome</th>\n",
       "    </tr>\n",
       "  </thead>\n",
       "  <tbody>\n",
       "    <tr>\n",
       "      <th>0</th>\n",
       "      <td>15 days 16:04:00</td>\n",
       "      <td>2 weeks</td>\n",
       "    </tr>\n",
       "    <tr>\n",
       "      <th>1</th>\n",
       "      <td>366 days 11:47:00</td>\n",
       "      <td>1 year</td>\n",
       "    </tr>\n",
       "    <tr>\n",
       "      <th>2</th>\n",
       "      <td>429 days 14:20:00</td>\n",
       "      <td>1 year</td>\n",
       "    </tr>\n",
       "    <tr>\n",
       "      <th>3</th>\n",
       "      <td>3300 days 15:50:00</td>\n",
       "      <td>9 years</td>\n",
       "    </tr>\n",
       "    <tr>\n",
       "      <th>4</th>\n",
       "      <td>181 days 14:04:00</td>\n",
       "      <td>5 months</td>\n",
       "    </tr>\n",
       "    <tr>\n",
       "      <th>...</th>\n",
       "      <td>...</td>\n",
       "      <td>...</td>\n",
       "    </tr>\n",
       "    <tr>\n",
       "      <th>78251</th>\n",
       "      <td>59 days 18:26:00</td>\n",
       "      <td>1 month</td>\n",
       "    </tr>\n",
       "    <tr>\n",
       "      <th>78252</th>\n",
       "      <td>1129 days 18:06:00</td>\n",
       "      <td>3 years</td>\n",
       "    </tr>\n",
       "    <tr>\n",
       "      <th>78253</th>\n",
       "      <td>365 days 18:08:00</td>\n",
       "      <td>NaN</td>\n",
       "    </tr>\n",
       "    <tr>\n",
       "      <th>78254</th>\n",
       "      <td>80 days 18:32:00</td>\n",
       "      <td>2 months</td>\n",
       "    </tr>\n",
       "    <tr>\n",
       "      <th>78255</th>\n",
       "      <td>80 days 18:44:00</td>\n",
       "      <td>2 months</td>\n",
       "    </tr>\n",
       "  </tbody>\n",
       "</table>\n",
       "<p>78256 rows × 2 columns</p>\n",
       "</div>"
      ],
      "text/plain": [
       "                     age age_upon_outcome\n",
       "0       15 days 16:04:00          2 weeks\n",
       "1      366 days 11:47:00           1 year\n",
       "2      429 days 14:20:00           1 year\n",
       "3     3300 days 15:50:00          9 years\n",
       "4      181 days 14:04:00         5 months\n",
       "...                  ...              ...\n",
       "78251   59 days 18:26:00          1 month\n",
       "78252 1129 days 18:06:00          3 years\n",
       "78253  365 days 18:08:00              NaN\n",
       "78254   80 days 18:32:00         2 months\n",
       "78255   80 days 18:44:00         2 months\n",
       "\n",
       "[78256 rows x 2 columns]"
      ]
     },
     "execution_count": 18,
     "metadata": {},
     "output_type": "execute_result"
    }
   ],
   "source": [
    "data['age'] = data.datetime1 - data.date_of_birth1\n",
    "data[['age', 'age_upon_outcome']]"
   ]
  },
  {
   "cell_type": "code",
   "execution_count": 19,
   "metadata": {},
   "outputs": [],
   "source": [
    "data.drop(columns=['date_of_birth1','datetime1', 'monthyear1','age'], inplace=True)"
   ]
  },
  {
   "cell_type": "markdown",
   "metadata": {},
   "source": [
    "| столбец | аномалия | что делать |\n",
    "|:--|:--|:--|\n",
    "|monthyear|повторяет столбец datetime|удалить как дублирующий|\n",
    "|age_upon_outcome| равен datetie - day_of_birth, округленный до целых единиц (день, неделя, месяц, год), с пропусками| пересчитать в годах (для удобства обозвать 'age')|\n",
    "|day_of_birth, datetime||удалить|"
   ]
  },
  {
   "cell_type": "code",
   "execution_count": 20,
   "metadata": {},
   "outputs": [
    {
     "data": {
      "text/plain": [
       "Neutered Male    27784\n",
       "Spayed Female    25203\n",
       "Intact Male       9549\n",
       "Intact Female     9143\n",
       "Unknown           6575\n",
       "Name: sex_upon_outcome, dtype: int64"
      ]
     },
     "execution_count": 20,
     "metadata": {},
     "output_type": "execute_result"
    }
   ],
   "source": [
    "data.sex_upon_outcome.value_counts()"
   ]
  },
  {
   "cell_type": "code",
   "execution_count": 21,
   "metadata": {},
   "outputs": [
    {
     "data": {
      "text/plain": [
       "Neutered Male    27692\n",
       "Spayed Female    25119\n",
       "Intact Male       9183\n",
       "Intact Female     8904\n",
       "Unknown           2764\n",
       "Name: sex_upon_outcome, dtype: int64"
      ]
     },
     "execution_count": 21,
     "metadata": {},
     "output_type": "execute_result"
    }
   ],
   "source": [
    "data[data.animal_type.isin(['Dog','Cat'])].sex_upon_outcome.value_counts()"
   ]
  },
  {
   "cell_type": "markdown",
   "metadata": {},
   "source": [
    "| столбец | аномалия | что делать |\n",
    "|:--|:--|:--|\n",
    "| sex_upon_outcome|не всех сабак и кошек смогли в ветеренарке отнести к определенному полу||\n",
    "|||создать признак sex: male = 0, female = 1|\n",
    "|||создать признак sterilized: intact = 0; neutered, spayed = 1|\n",
    "|||проверить гипотезы - кого забирают/переводят чаще|"
   ]
  },
  {
   "cell_type": "code",
   "execution_count": 22,
   "metadata": {},
   "outputs": [
    {
     "data": {
      "text/plain": [
       "array(['Partner', nan, 'Rabies Risk', 'Suffering', 'Offsite', 'Foster',\n",
       "       'SCRP', 'In Kennel', 'Aggressive', 'Medical', 'Behavior', 'At Vet',\n",
       "       'In Foster', 'Enroute', 'In Surgery', 'Possible Theft',\n",
       "       'Court/Investigation', 'Barn', 'Snr', 'Underage'], dtype=object)"
      ]
     },
     "execution_count": 22,
     "metadata": {},
     "output_type": "execute_result"
    }
   ],
   "source": [
    "data['outcome_subtype'].unique()"
   ]
  },
  {
   "cell_type": "code",
   "execution_count": 23,
   "metadata": {},
   "outputs": [
    {
     "data": {
      "text/plain": [
       "array(['Partner', 'SCRP', 'Barn', 'Snr'], dtype=object)"
      ]
     },
     "execution_count": 23,
     "metadata": {},
     "output_type": "execute_result"
    }
   ],
   "source": [
    "data[data.outcome_type=='Transfer']['outcome_subtype'].unique()"
   ]
  },
  {
   "cell_type": "code",
   "execution_count": 24,
   "metadata": {},
   "outputs": [
    {
     "data": {
      "text/plain": [
       "array([nan, 'Offsite', 'Foster', 'Barn'], dtype=object)"
      ]
     },
     "execution_count": 24,
     "metadata": {},
     "output_type": "execute_result"
    }
   ],
   "source": [
    "data[data.outcome_type=='Adoption']['outcome_subtype'].unique()"
   ]
  },
  {
   "cell_type": "code",
   "execution_count": 25,
   "metadata": {},
   "outputs": [
    {
     "data": {
      "text/plain": [
       "array(['Rabies Risk', 'Suffering', nan, 'In Kennel', 'Aggressive',\n",
       "       'Medical', 'Behavior', 'At Vet', 'In Foster', 'Enroute',\n",
       "       'In Surgery', 'Possible Theft', 'Court/Investigation', 'Underage'],\n",
       "      dtype=object)"
      ]
     },
     "execution_count": 25,
     "metadata": {},
     "output_type": "execute_result"
    }
   ],
   "source": [
    "data[~data.outcome_type.isin(['Adoption','Transfer'])]['outcome_subtype'].unique()"
   ]
  },
  {
   "cell_type": "code",
   "execution_count": 26,
   "metadata": {},
   "outputs": [],
   "source": [
    "# Rabies Risk, Suffering, Aggressive,  Medical, Behavior"
   ]
  },
  {
   "cell_type": "markdown",
   "metadata": {},
   "source": [
    "outcome_subtype - дополняет информацию по исходу - либо где/куда, либо причина (Rabies Risk, Suffering, Aggressive,  Medical, Behavior ).\n",
    "Вариант с причиной не сочитается с outcome_type в виде Adoption, Tranfer, может быть характеристикой (медицинской или поведенческой) животного, препятствующей к  переводу или \"забору в семью\".\n",
    "\n",
    "| столбец | аномалия | что делать |\n",
    "|:--|:--|:--|\n",
    "|outcome_subtype||создать признак: = 1 если Rabies Risk, Suffering, Aggressive,  Medical, Behavior; иначе 0|\n",
    "|||стобец удалить|"
   ]
  },
  {
   "cell_type": "markdown",
   "metadata": {},
   "source": [
    "## Предобработка"
   ]
  },
  {
   "cell_type": "code",
   "execution_count": 27,
   "metadata": {},
   "outputs": [
    {
     "data": {
      "text/plain": [
       "(78256, 12)"
      ]
     },
     "execution_count": 27,
     "metadata": {},
     "output_type": "execute_result"
    }
   ],
   "source": [
    "data.shape"
   ]
  },
  {
   "cell_type": "markdown",
   "metadata": {},
   "source": [
    "| столбец | аномалия | что делать |\n",
    "| :-- | :-- | :-- |\n",
    "|1. outcome_type | Adoption, Transfer, Died, ... | Оставить Adoption, Transfer, остальное перевести в other|\n",
    "|2. outcome_subtype||создать признак: = 1 если Rabies Risk, Suffering, Aggressive,  Medical, Behavior; иначе 0|\n",
    "|||стобец удалить|\n",
    "|3. sex_upon_outcome|не всех сабак и кошек смогли в ветеренарке отнести к определенному полу||\n",
    "|||создать признак sex: male = 1, female = 2, unknown = 0|\n",
    "|||создать признак sterilized: intact = 0; neutered, spayed = 1|\n",
    "|||проверить гипотезы - кого забирают/переводят чаще|\n",
    "|||столбец удалить|\n",
    "|4. monthyear|повторяет столбец datetime|удалить как дублирующий|\n",
    "|5. age_upon_outcome| равен datetie - day_of_birth, округленный до целых единиц (день, неделя, месяц, год), с пропусками| пересчитать в годах (для удобства обозвать 'age')|\n",
    "|6. day_of_birth, datetime||удалить|\n",
    "|7. animal_type|слшиком мало данных по птицам и домашнему скоту|Bird, Livestock перевести в разряд Other|\n",
    "|8. breed|слишком много вариантов, по некоторым мало строк - точной модели не получится. При этом наверняка некоторые породы расходятся быстрей|????|\n",
    "|9. animal_id|не все характеристики влияют на результат (или можно объяснить)|часть столбцов удалить|\n",
    "|10. color||-\"-|\n",
    "|11. name|||"
   ]
  },
  {
   "cell_type": "code",
   "execution_count": 28,
   "metadata": {},
   "outputs": [
    {
     "data": {
      "text/plain": [
       "Adoption    33112\n",
       "Transfer    23499\n",
       "Other       21645\n",
       "Name: outcome_type, dtype: int64"
      ]
     },
     "execution_count": 28,
     "metadata": {},
     "output_type": "execute_result"
    }
   ],
   "source": [
    "#1\n",
    "# data.loc[~data.outcome_type.isin(['Adoption','Transfer']), 'outcome_type'].value_counts()\n",
    "data.loc[~data.outcome_type.isin(['Adoption','Transfer']), 'outcome_type']  = 'Other'\n",
    "data.outcome_type.value_counts()"
   ]
  },
  {
   "cell_type": "code",
   "execution_count": 29,
   "metadata": {},
   "outputs": [],
   "source": [
    "#2 противопоказания"
   ]
  },
  {
   "cell_type": "code",
   "execution_count": 30,
   "metadata": {},
   "outputs": [],
   "source": [
    "contraindications = [\n",
    "    'Rabies Risk', 'Suffering', 'Aggressive', 'Medical', 'Behavior', 'Court/Investigation'\n",
    "]"
   ]
  },
  {
   "cell_type": "code",
   "execution_count": 31,
   "metadata": {},
   "outputs": [
    {
     "data": {
      "text/plain": [
       "array(['Partner', nan, 'Offsite', 'Foster', 'SCRP', 'In Kennel', 'At Vet',\n",
       "       'In Foster', 'Enroute', 'In Surgery', 'Possible Theft', 'Barn',\n",
       "       'Snr', 'Underage'], dtype=object)"
      ]
     },
     "execution_count": 31,
     "metadata": {},
     "output_type": "execute_result"
    }
   ],
   "source": [
    "(data.loc[\n",
    "    ~data.outcome_subtype.isin(contraindications), 'outcome_subtype'].unique()\n",
    ")"
   ]
  },
  {
   "cell_type": "code",
   "execution_count": 32,
   "metadata": {},
   "outputs": [
    {
     "name": "stdout",
     "output_type": "stream",
     "text": [
      "0\n"
     ]
    },
    {
     "data": {
      "text/plain": [
       "0.0    72400\n",
       "1.0     5856\n",
       "Name: contraindications, dtype: int64"
      ]
     },
     "execution_count": 32,
     "metadata": {},
     "output_type": "execute_result"
    }
   ],
   "source": [
    "data.loc[data.outcome_subtype.isin(contraindications), 'contraindications'] = 1\n",
    "data.contraindications.fillna(0, inplace=True)\n",
    "print(data.contraindications.isna().sum())\n",
    "data.contraindications.value_counts()"
   ]
  },
  {
   "cell_type": "code",
   "execution_count": 33,
   "metadata": {},
   "outputs": [],
   "source": [
    "# 3"
   ]
  },
  {
   "cell_type": "code",
   "execution_count": 35,
   "metadata": {},
   "outputs": [
    {
     "data": {
      "text/plain": [
       "Neutered Male    27784\n",
       "Spayed Female    25203\n",
       "Intact Male       9549\n",
       "Intact Female     9143\n",
       "Unknown           6575\n",
       "Name: sex_upon_outcome, dtype: int64"
      ]
     },
     "execution_count": 35,
     "metadata": {},
     "output_type": "execute_result"
    }
   ],
   "source": [
    "data.sex_upon_outcome.value_counts()"
   ]
  },
  {
   "cell_type": "code",
   "execution_count": 36,
   "metadata": {},
   "outputs": [],
   "source": [
    "# data.loc[data.sex_upon_outcome.str.contains('Male|Female'), 'sex_upon_outcome']\n",
    "# data.loc[data.sex_upon_outcome.str.endswith('Male'), 'sex_upon_outcome'] \n",
    "data.loc[data.sex_upon_outcome.str.endswith('Male',  na=False), 'sex'] = 1 \n",
    "data.loc[data.sex_upon_outcome.str.endswith('Female',  na=False), 'sex'] = 2\n",
    "data.sex.fillna(0, inplace=True)\n",
    "data.loc[data.sex_upon_outcome.str.endswith('Male',  na=False), 'sex'] = 1 \n",
    "data.loc[data.sex_upon_outcome.str.endswith('Female',  na=False), 'sex'] = 2\n",
    "data.sex.fillna(0, inplace=True)\n",
    "\n",
    "# sterilized\n",
    "data.loc[data.sex_upon_outcome.str.contains('Female|Male',  na=False), 'sterilized'] = 1\n",
    "data.sterilized.fillna(0, inplace=True)"
   ]
  },
  {
   "cell_type": "code",
   "execution_count": 37,
   "metadata": {},
   "outputs": [
    {
     "data": {
      "text/plain": [
       "1.0    37333\n",
       "2.0    34346\n",
       "0.0     6577\n",
       "Name: sex, dtype: int64"
      ]
     },
     "execution_count": 37,
     "metadata": {},
     "output_type": "execute_result"
    }
   ],
   "source": [
    "data.sex.value_counts()"
   ]
  },
  {
   "cell_type": "code",
   "execution_count": 38,
   "metadata": {},
   "outputs": [
    {
     "data": {
      "text/plain": [
       "1.0    71679\n",
       "0.0     6577\n",
       "Name: sterilized, dtype: int64"
      ]
     },
     "execution_count": 38,
     "metadata": {},
     "output_type": "execute_result"
    }
   ],
   "source": [
    "data.sterilized.value_counts()"
   ]
  },
  {
   "cell_type": "code",
   "execution_count": 39,
   "metadata": {},
   "outputs": [
    {
     "data": {
      "text/html": [
       "<div>\n",
       "<style scoped>\n",
       "    .dataframe tbody tr th:only-of-type {\n",
       "        vertical-align: middle;\n",
       "    }\n",
       "\n",
       "    .dataframe tbody tr th {\n",
       "        vertical-align: top;\n",
       "    }\n",
       "\n",
       "    .dataframe thead th {\n",
       "        text-align: right;\n",
       "    }\n",
       "</style>\n",
       "<table border=\"1\" class=\"dataframe\">\n",
       "  <thead>\n",
       "    <tr style=\"text-align: right;\">\n",
       "      <th></th>\n",
       "      <th>age</th>\n",
       "      <th>age_upon_outcome</th>\n",
       "    </tr>\n",
       "  </thead>\n",
       "  <tbody>\n",
       "    <tr>\n",
       "      <th>0</th>\n",
       "      <td>0.042901</td>\n",
       "      <td>2 weeks</td>\n",
       "    </tr>\n",
       "    <tr>\n",
       "      <th>1</th>\n",
       "      <td>1.003418</td>\n",
       "      <td>1 year</td>\n",
       "    </tr>\n",
       "    <tr>\n",
       "      <th>2</th>\n",
       "      <td>1.176197</td>\n",
       "      <td>1 year</td>\n",
       "    </tr>\n",
       "    <tr>\n",
       "      <th>3</th>\n",
       "      <td>9.036899</td>\n",
       "      <td>9 years</td>\n",
       "    </tr>\n",
       "    <tr>\n",
       "      <th>4</th>\n",
       "      <td>0.497166</td>\n",
       "      <td>5 months</td>\n",
       "    </tr>\n",
       "  </tbody>\n",
       "</table>\n",
       "</div>"
      ],
      "text/plain": [
       "        age age_upon_outcome\n",
       "0  0.042901          2 weeks\n",
       "1  1.003418           1 year\n",
       "2  1.176197           1 year\n",
       "3  9.036899          9 years\n",
       "4  0.497166         5 months"
      ]
     },
     "execution_count": 39,
     "metadata": {},
     "output_type": "execute_result"
    }
   ],
   "source": [
    "# 5. \n",
    "data['date_of_birth'] = pd.to_datetime(data.date_of_birth, format='%Y-%m-%d', errors='coerce')\n",
    "data['datetime']=pd.to_datetime(data.datetime, format='%Y-%m-%d', errors='coerce')\n",
    "data['age'] = (data.datetime - data.date_of_birth)/np.timedelta64(1,'Y')\n",
    "data[['age', 'age_upon_outcome']].head()"
   ]
  },
  {
   "cell_type": "code",
   "execution_count": 40,
   "metadata": {},
   "outputs": [
    {
     "data": {
      "text/plain": [
       "Dog          44242\n",
       "Cat          29422\n",
       "Other         4249\n",
       "Bird           334\n",
       "Livestock        9\n",
       "Name: animal_type, dtype: int64"
      ]
     },
     "metadata": {},
     "output_type": "display_data"
    },
    {
     "data": {
      "text/plain": [
       "Dog      44242\n",
       "Cat      29422\n",
       "Other     4592\n",
       "Name: animal_type, dtype: int64"
      ]
     },
     "metadata": {},
     "output_type": "display_data"
    }
   ],
   "source": [
    "#7\n",
    "display(data.animal_type.value_counts())\n",
    "data.loc[data.animal_type.isin(['Bird', 'Livestock']),'animal_type'] = 'Other'\n",
    "display(data.animal_type.value_counts())"
   ]
  },
  {
   "cell_type": "code",
   "execution_count": 41,
   "metadata": {},
   "outputs": [
    {
     "name": "stdout",
     "output_type": "stream",
     "text": [
      "<class 'pandas.core.frame.DataFrame'>\n",
      "RangeIndex: 78256 entries, 0 to 78255\n",
      "Data columns (total 16 columns):\n",
      " #   Column             Non-Null Count  Dtype         \n",
      "---  ------             --------------  -----         \n",
      " 0   age_upon_outcome   78248 non-null  object        \n",
      " 1   animal_id          78256 non-null  object        \n",
      " 2   animal_type        78256 non-null  object        \n",
      " 3   breed              78256 non-null  object        \n",
      " 4   color              78256 non-null  object        \n",
      " 5   date_of_birth      78256 non-null  datetime64[ns]\n",
      " 6   datetime           78256 non-null  datetime64[ns]\n",
      " 7   monthyear          78256 non-null  object        \n",
      " 8   name               54370 non-null  object        \n",
      " 9   outcome_subtype    35963 non-null  object        \n",
      " 10  outcome_type       78256 non-null  object        \n",
      " 11  sex_upon_outcome   78254 non-null  object        \n",
      " 12  contraindications  78256 non-null  float64       \n",
      " 13  sex                78256 non-null  float64       \n",
      " 14  sterilized         78256 non-null  float64       \n",
      " 15  age                78256 non-null  float64       \n",
      "dtypes: datetime64[ns](2), float64(4), object(10)\n",
      "memory usage: 9.6+ MB\n"
     ]
    }
   ],
   "source": [
    "data.info()"
   ]
  },
  {
   "cell_type": "code",
   "execution_count": 42,
   "metadata": {},
   "outputs": [
    {
     "data": {
      "text/plain": [
       "Index(['age_upon_outcome', 'animal_id', 'animal_type', 'breed', 'color',\n",
       "       'date_of_birth', 'datetime', 'monthyear', 'name', 'outcome_subtype',\n",
       "       'outcome_type', 'sex_upon_outcome', 'contraindications', 'sex',\n",
       "       'sterilized', 'age'],\n",
       "      dtype='object')"
      ]
     },
     "execution_count": 42,
     "metadata": {},
     "output_type": "execute_result"
    }
   ],
   "source": [
    "data.columns"
   ]
  },
  {
   "cell_type": "code",
   "execution_count": 43,
   "metadata": {},
   "outputs": [],
   "source": [
    "data.drop(columns=\n",
    "          ['animal_id', 'outcome_subtype','sex_upon_outcome', \n",
    "           'monthyear', 'age_upon_outcome', 'date_of_birth', 'datetime',\n",
    "           'breed', 'animal_id', 'color', 'name'\n",
    "          ], inplace=True)"
   ]
  },
  {
   "cell_type": "code",
   "execution_count": 44,
   "metadata": {},
   "outputs": [
    {
     "name": "stdout",
     "output_type": "stream",
     "text": [
      "<class 'pandas.core.frame.DataFrame'>\n",
      "RangeIndex: 78256 entries, 0 to 78255\n",
      "Data columns (total 6 columns):\n",
      " #   Column             Non-Null Count  Dtype  \n",
      "---  ------             --------------  -----  \n",
      " 0   animal_type        78256 non-null  object \n",
      " 1   outcome_type       78256 non-null  object \n",
      " 2   contraindications  78256 non-null  float64\n",
      " 3   sex                78256 non-null  float64\n",
      " 4   sterilized         78256 non-null  float64\n",
      " 5   age                78256 non-null  float64\n",
      "dtypes: float64(4), object(2)\n",
      "memory usage: 3.6+ MB\n"
     ]
    }
   ],
   "source": [
    "data.info()"
   ]
  },
  {
   "cell_type": "code",
   "execution_count": 45,
   "metadata": {},
   "outputs": [
    {
     "data": {
      "text/html": [
       "<div>\n",
       "<style scoped>\n",
       "    .dataframe tbody tr th:only-of-type {\n",
       "        vertical-align: middle;\n",
       "    }\n",
       "\n",
       "    .dataframe tbody tr th {\n",
       "        vertical-align: top;\n",
       "    }\n",
       "\n",
       "    .dataframe thead th {\n",
       "        text-align: right;\n",
       "    }\n",
       "</style>\n",
       "<table border=\"1\" class=\"dataframe\">\n",
       "  <thead>\n",
       "    <tr style=\"text-align: right;\">\n",
       "      <th></th>\n",
       "      <th>animal_type</th>\n",
       "      <th>outcome_type</th>\n",
       "      <th>contraindications</th>\n",
       "      <th>sex</th>\n",
       "      <th>sterilized</th>\n",
       "      <th>age</th>\n",
       "    </tr>\n",
       "  </thead>\n",
       "  <tbody>\n",
       "    <tr>\n",
       "      <th>0</th>\n",
       "      <td>Cat</td>\n",
       "      <td>Transfer</td>\n",
       "      <td>0.0</td>\n",
       "      <td>1.0</td>\n",
       "      <td>1.0</td>\n",
       "      <td>0.042901</td>\n",
       "    </tr>\n",
       "    <tr>\n",
       "      <th>1</th>\n",
       "      <td>Dog</td>\n",
       "      <td>Transfer</td>\n",
       "      <td>0.0</td>\n",
       "      <td>2.0</td>\n",
       "      <td>1.0</td>\n",
       "      <td>1.003418</td>\n",
       "    </tr>\n",
       "    <tr>\n",
       "      <th>2</th>\n",
       "      <td>Dog</td>\n",
       "      <td>Adoption</td>\n",
       "      <td>0.0</td>\n",
       "      <td>1.0</td>\n",
       "      <td>1.0</td>\n",
       "      <td>1.176197</td>\n",
       "    </tr>\n",
       "    <tr>\n",
       "      <th>3</th>\n",
       "      <td>Dog</td>\n",
       "      <td>Transfer</td>\n",
       "      <td>0.0</td>\n",
       "      <td>1.0</td>\n",
       "      <td>1.0</td>\n",
       "      <td>9.036899</td>\n",
       "    </tr>\n",
       "    <tr>\n",
       "      <th>4</th>\n",
       "      <td>Other</td>\n",
       "      <td>Other</td>\n",
       "      <td>1.0</td>\n",
       "      <td>0.0</td>\n",
       "      <td>0.0</td>\n",
       "      <td>0.497166</td>\n",
       "    </tr>\n",
       "  </tbody>\n",
       "</table>\n",
       "</div>"
      ],
      "text/plain": [
       "  animal_type outcome_type  contraindications  sex  sterilized       age\n",
       "0         Cat     Transfer                0.0  1.0         1.0  0.042901\n",
       "1         Dog     Transfer                0.0  2.0         1.0  1.003418\n",
       "2         Dog     Adoption                0.0  1.0         1.0  1.176197\n",
       "3         Dog     Transfer                0.0  1.0         1.0  9.036899\n",
       "4       Other        Other                1.0  0.0         0.0  0.497166"
      ]
     },
     "execution_count": 45,
     "metadata": {},
     "output_type": "execute_result"
    }
   ],
   "source": [
    "data.head()"
   ]
  },
  {
   "cell_type": "code",
   "execution_count": 46,
   "metadata": {},
   "outputs": [],
   "source": [
    "# кодирование строковых значений\n",
    "from sklearn.preprocessing import LabelEncoder\n",
    "\n",
    "labelencoder = LabelEncoder()\n",
    "data['animal_type_code'] = labelencoder.fit_transform(data['animal_type'])"
   ]
  },
  {
   "cell_type": "code",
   "execution_count": 47,
   "metadata": {},
   "outputs": [],
   "source": [
    "# labelencoder_y = LabelEncoder()\n",
    "# data['outcome_type_code'] = labelencoder.fit_transform(data['outcome_type'])"
   ]
  },
  {
   "cell_type": "markdown",
   "metadata": {},
   "source": [
    "## Постоение модели предсказания исхода (outcome_type)"
   ]
  },
  {
   "cell_type": "code",
   "execution_count": 48,
   "metadata": {},
   "outputs": [],
   "source": [
    "input_x = data.drop(columns =['outcome_type', 'animal_type'])\n",
    "output_y = data.outcome_type"
   ]
  },
  {
   "cell_type": "code",
   "execution_count": 49,
   "metadata": {},
   "outputs": [
    {
     "data": {
      "text/plain": [
       "RandomForestClassifier(bootstrap=True, ccp_alpha=0.0, class_weight=None,\n",
       "                       criterion='gini', max_depth=None, max_features='auto',\n",
       "                       max_leaf_nodes=None, max_samples=None,\n",
       "                       min_impurity_decrease=0.0, min_impurity_split=None,\n",
       "                       min_samples_leaf=1, min_samples_split=2,\n",
       "                       min_weight_fraction_leaf=0.0, n_estimators=100,\n",
       "                       n_jobs=None, oob_score=False, random_state=None,\n",
       "                       verbose=0, warm_start=False)"
      ]
     },
     "execution_count": 49,
     "metadata": {},
     "output_type": "execute_result"
    }
   ],
   "source": [
    "from sklearn.model_selection import train_test_split\n",
    "# разделение данные на тренировочные и тестовые\n",
    "x_train, x_test, y_train, y_test = train_test_split(input_x, output_y, test_size=0.3) \n",
    "\n",
    "from sklearn.ensemble import RandomForestClassifier\n",
    "\n",
    "# создаем модель деревья решений\n",
    "# выбираем 100 деревьев в качестве параметра\n",
    "model=RandomForestClassifier(n_estimators=100)\n",
    "\n",
    "# обучаем модель\n",
    "model.fit(x_train, y_train)"
   ]
  },
  {
   "cell_type": "code",
   "execution_count": 50,
   "metadata": {
    "scrolled": true
   },
   "outputs": [
    {
     "data": {
      "image/png": "[encoded data removed]",
      "text/plain": [
       "<Figure size 432x432 with 1 Axes>"
      ]
     },
     "metadata": {
      "needs_background": "light"
     },
     "output_type": "display_data"
    }
   ],
   "source": [
    "# Наиболее важные атрибуты для модели Random Forest:\n",
    "headers = list(x_train.columns.values)\n",
    "\n",
    "feature_imp = pd.Series(model.feature_importances_,index=headers).sort_values(ascending=False)\n",
    "\n",
    "f, ax = plt.subplots(figsize=(6, 6))\n",
    "sns.barplot(x=feature_imp, y=feature_imp.index)\n",
    "\n",
    "plt.xlabel('Важность атрибутов')\n",
    "plt.ylabel('Атрибуты')\n",
    "plt.title(\"Наиболее важные атрибуты\")\n",
    "# plt.legend()\n",
    "plt.show()"
   ]
  },
  {
   "cell_type": "code",
   "execution_count": 51,
   "metadata": {},
   "outputs": [
    {
     "name": "stdout",
     "output_type": "stream",
     "text": [
      "              precision    recall  f1-score   support\n",
      "\n",
      "    Adoption       0.68      0.69      0.68      9818\n",
      "       Other       0.66      0.65      0.65      6544\n",
      "    Transfer       0.64      0.62      0.63      7115\n",
      "\n",
      "    accuracy                           0.66     23477\n",
      "   macro avg       0.66      0.65      0.65     23477\n",
      "weighted avg       0.66      0.66      0.66     23477\n",
      "\n",
      "Модель \"рандомных деревьев\" дала точность предсказания порядка 0.6578779230736466.\n"
     ]
    }
   ],
   "source": [
    "# Посчитаем качество модели - classification report:\n",
    "from sklearn.metrics import classification_report\n",
    "\n",
    "model_pred = model.predict(x_test)\n",
    "\n",
    "print(classification_report(y_test, model_pred))\n",
    "\n",
    "print(f'Модель \"рандомных деревьев\" дала точность предсказания порядка {model.score(x_test, y_test)}.')"
   ]
  },
  {
   "cell_type": "code",
   "execution_count": null,
   "metadata": {},
   "outputs": [],
   "source": []
  }
 ],
 "metadata": {
  "kernelspec": {
   "display_name": "Python 3",
   "language": "python",
   "name": "python3"
  },
  "language_info": {
   "codemirror_mode": {
    "name": "ipython",
    "version": 3
   },
   "file_extension": ".py",
   "mimetype": "text/x-python",
   "name": "python",
   "nbconvert_exporter": "python",
   "pygments_lexer": "ipython3",
   "version": "3.7.6"
  }
 },
 "nbformat": 4,
 "nbformat_minor": 4
}
