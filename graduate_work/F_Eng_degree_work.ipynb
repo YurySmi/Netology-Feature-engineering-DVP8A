{
 "cells": [
  {
   "cell_type": "markdown",
   "metadata": {},
   "source": [
    "# Netology: Feature Selection \n",
    "Итоговая работа\n",
    "\n",
    "Группа: DVP-8A, июнь-июль 2020 "
   ]
  },
  {
   "cell_type": "code",
   "execution_count": 1,
   "metadata": {},
   "outputs": [],
   "source": [
    "import pandas as pd\n",
    "import numpy as np\n",
    "import seaborn as sns\n",
    "\n",
    "from matplotlib import pyplot as plt\n",
    "import scipy.stats as sts"
   ]
  },
  {
   "cell_type": "markdown",
   "metadata": {},
   "source": [
    "Представлены данные такси, по которым мы должны предсказать возьмёт ли таксист заказ или нет(driver_response)."
   ]
  },
  {
   "cell_type": "markdown",
   "metadata": {},
   "source": [
    "1. Загрузите датасет taxi.csv.\n",
    "2. Посмотрите на данные. Отобразите общую информацию по признакам (вспомните о describe и info). Напишите в markdown свои наблюдения.\n",
    "3. Выявите пропуски, а также возможные причины их возникновения. Решите, что следует сделать с ними. Напишите в markdown свои наблюдения.\n",
    "4. Оцените зависимости переменных между собой. Используйте корреляции. Будет хорошо, если воспользуетесь profile_report. Напишите в markdown свои наблюдения.\n",
    "5. Определите стратегию преобразования категориальных признаков (т.е. как их сделать адекватными для моделей).\n",
    "6. Найдите признаки, которые можно разделить на другие, или преобразовать в другой тип данных. Удалите лишние, при необходимости.\n",
    "7. Разделите выборку на обучаемую и тестовую.\n",
    "8. Обучите модель. Напишите в markdown свои наблюдения по полученным результатам. Хорошие результаты дают классификаторы RandomForest и XGBoost"
   ]
  },
  {
   "cell_type": "markdown",
   "metadata": {},
   "source": [
    "## 1. Загрузка данных"
   ]
  },
  {
   "cell_type": "code",
   "execution_count": 2,
   "metadata": {},
   "outputs": [
    {
     "data": {
      "text/html": [
       "<div>\n",
       "<style scoped>\n",
       "    .dataframe tbody tr th:only-of-type {\n",
       "        vertical-align: middle;\n",
       "    }\n",
       "\n",
       "    .dataframe tbody tr th {\n",
       "        vertical-align: top;\n",
       "    }\n",
       "\n",
       "    .dataframe thead th {\n",
       "        text-align: right;\n",
       "    }\n",
       "</style>\n",
       "<table border=\"1\" class=\"dataframe\">\n",
       "  <thead>\n",
       "    <tr style=\"text-align: right;\">\n",
       "      <th></th>\n",
       "      <th>offer_gk</th>\n",
       "      <th>weekday_key</th>\n",
       "      <th>hour_key</th>\n",
       "      <th>driver_gk</th>\n",
       "      <th>order_gk</th>\n",
       "      <th>driver_latitude</th>\n",
       "      <th>driver_longitude</th>\n",
       "      <th>origin_order_latitude</th>\n",
       "      <th>origin_order_longitude</th>\n",
       "      <th>distance_km</th>\n",
       "      <th>duration_min</th>\n",
       "      <th>offer_class_group</th>\n",
       "      <th>ride_type_desc</th>\n",
       "      <th>driver_response</th>\n",
       "    </tr>\n",
       "  </thead>\n",
       "  <tbody>\n",
       "    <tr>\n",
       "      <th>0</th>\n",
       "      <td>1105373</td>\n",
       "      <td>5</td>\n",
       "      <td>20</td>\n",
       "      <td>6080</td>\n",
       "      <td>174182</td>\n",
       "      <td>55.818842</td>\n",
       "      <td>37.334562</td>\n",
       "      <td>55.814567</td>\n",
       "      <td>37.355010</td>\n",
       "      <td>-1.000</td>\n",
       "      <td>-1.000</td>\n",
       "      <td>Economy</td>\n",
       "      <td>private</td>\n",
       "      <td>0</td>\n",
       "    </tr>\n",
       "    <tr>\n",
       "      <th>1</th>\n",
       "      <td>759733</td>\n",
       "      <td>5</td>\n",
       "      <td>14</td>\n",
       "      <td>6080</td>\n",
       "      <td>358774</td>\n",
       "      <td>55.805342</td>\n",
       "      <td>37.515023</td>\n",
       "      <td>55.819329</td>\n",
       "      <td>37.466398</td>\n",
       "      <td>18.802</td>\n",
       "      <td>25.217</td>\n",
       "      <td>Standard</td>\n",
       "      <td>private</td>\n",
       "      <td>1</td>\n",
       "    </tr>\n",
       "    <tr>\n",
       "      <th>2</th>\n",
       "      <td>416977</td>\n",
       "      <td>6</td>\n",
       "      <td>14</td>\n",
       "      <td>6080</td>\n",
       "      <td>866260</td>\n",
       "      <td>55.813978</td>\n",
       "      <td>37.347688</td>\n",
       "      <td>55.814827</td>\n",
       "      <td>37.354074</td>\n",
       "      <td>6.747</td>\n",
       "      <td>9.800</td>\n",
       "      <td>Economy</td>\n",
       "      <td>private</td>\n",
       "      <td>0</td>\n",
       "    </tr>\n",
       "    <tr>\n",
       "      <th>3</th>\n",
       "      <td>889660</td>\n",
       "      <td>2</td>\n",
       "      <td>6</td>\n",
       "      <td>6080</td>\n",
       "      <td>163522</td>\n",
       "      <td>55.745922</td>\n",
       "      <td>37.421748</td>\n",
       "      <td>55.743469</td>\n",
       "      <td>37.431130</td>\n",
       "      <td>-1.000</td>\n",
       "      <td>-1.000</td>\n",
       "      <td>Economy</td>\n",
       "      <td>private</td>\n",
       "      <td>1</td>\n",
       "    </tr>\n",
       "    <tr>\n",
       "      <th>4</th>\n",
       "      <td>1120055</td>\n",
       "      <td>4</td>\n",
       "      <td>16</td>\n",
       "      <td>6080</td>\n",
       "      <td>506710</td>\n",
       "      <td>55.803578</td>\n",
       "      <td>37.521602</td>\n",
       "      <td>55.812559</td>\n",
       "      <td>37.527407</td>\n",
       "      <td>12.383</td>\n",
       "      <td>19.250</td>\n",
       "      <td>Economy</td>\n",
       "      <td>private</td>\n",
       "      <td>1</td>\n",
       "    </tr>\n",
       "  </tbody>\n",
       "</table>\n",
       "</div>"
      ],
      "text/plain": [
       "   offer_gk  weekday_key  hour_key  driver_gk  order_gk  driver_latitude  \\\n",
       "0   1105373            5        20       6080    174182        55.818842   \n",
       "1    759733            5        14       6080    358774        55.805342   \n",
       "2    416977            6        14       6080    866260        55.813978   \n",
       "3    889660            2         6       6080    163522        55.745922   \n",
       "4   1120055            4        16       6080    506710        55.803578   \n",
       "\n",
       "   driver_longitude  origin_order_latitude  origin_order_longitude  \\\n",
       "0         37.334562              55.814567               37.355010   \n",
       "1         37.515023              55.819329               37.466398   \n",
       "2         37.347688              55.814827               37.354074   \n",
       "3         37.421748              55.743469               37.431130   \n",
       "4         37.521602              55.812559               37.527407   \n",
       "\n",
       "   distance_km  duration_min offer_class_group ride_type_desc  driver_response  \n",
       "0       -1.000        -1.000           Economy        private                0  \n",
       "1       18.802        25.217          Standard        private                1  \n",
       "2        6.747         9.800           Economy        private                0  \n",
       "3       -1.000        -1.000           Economy        private                1  \n",
       "4       12.383        19.250           Economy        private                1  "
      ]
     },
     "execution_count": 2,
     "metadata": {},
     "output_type": "execute_result"
    }
   ],
   "source": [
    "data = pd.read_csv('taxi.csv')\n",
    "data.head(5)"
   ]
  },
  {
   "cell_type": "markdown",
   "metadata": {},
   "source": [
    "- offer_gk – unique offer identifier (INT)\n",
    "- weekday_key – day of week number (Sunday = 0, Monday = 1, etc.) (INT)\n",
    "- hour_key – hour of day representing an hour part of datetime (value from 0 to 23) (INT)\n",
    "- driver_gk – unique driver identifier (INT)\n",
    "- order_gk – unique order identifier (INT). Order may have multiple offers\n",
    "- driver_latitude – latitude of driver at the time of getting an offer (FLOAT) \n",
    "- driver_longitude – longitude of driver at the time of receiving an offer (FLOAT)\n",
    "- origin_order_latitude – latitude of the order start location at the time of receiving an offer (FLOAT)\n",
    "- origin_order_longitude – longitude of the order start location at the moment of receiving an offer (FLOAT)\n",
    "- distance_km – estimated distance from origin to destination in kilometres (FLOAT). Value -1 means that the destination is not set\n",
    "- duration_min – estimated duration from origin to destination in minutes (FLOAT). Value -1 means that the destination is not set\n",
    "- offer_class_group – class of the order, e.g. Economy, Business, XL (VARCHAR)\n",
    "- ride_type_desc – private or business order attribute (VARCHAR)\n",
    "- driver_response – driver choice of whether to accept the offer or not (VARCHAR) "
   ]
  },
  {
   "cell_type": "markdown",
   "metadata": {},
   "source": [
    "## 2. Обзор данных "
   ]
  },
  {
   "cell_type": "code",
   "execution_count": 3,
   "metadata": {},
   "outputs": [
    {
     "data": {
      "text/html": [
       "<div>\n",
       "<style scoped>\n",
       "    .dataframe tbody tr th:only-of-type {\n",
       "        vertical-align: middle;\n",
       "    }\n",
       "\n",
       "    .dataframe tbody tr th {\n",
       "        vertical-align: top;\n",
       "    }\n",
       "\n",
       "    .dataframe thead th {\n",
       "        text-align: right;\n",
       "    }\n",
       "</style>\n",
       "<table border=\"1\" class=\"dataframe\">\n",
       "  <thead>\n",
       "    <tr style=\"text-align: right;\">\n",
       "      <th></th>\n",
       "      <th>offer_gk</th>\n",
       "      <th>weekday_key</th>\n",
       "      <th>hour_key</th>\n",
       "      <th>driver_gk</th>\n",
       "      <th>order_gk</th>\n",
       "      <th>driver_latitude</th>\n",
       "      <th>driver_longitude</th>\n",
       "      <th>origin_order_latitude</th>\n",
       "      <th>origin_order_longitude</th>\n",
       "      <th>distance_km</th>\n",
       "      <th>duration_min</th>\n",
       "      <th>driver_response</th>\n",
       "    </tr>\n",
       "  </thead>\n",
       "  <tbody>\n",
       "    <tr>\n",
       "      <th>count</th>\n",
       "      <td>1.000000e+05</td>\n",
       "      <td>100000.000000</td>\n",
       "      <td>100000.000000</td>\n",
       "      <td>100000.000000</td>\n",
       "      <td>100000.00000</td>\n",
       "      <td>100000.000000</td>\n",
       "      <td>100000.000000</td>\n",
       "      <td>100000.000000</td>\n",
       "      <td>100000.000000</td>\n",
       "      <td>100000.000000</td>\n",
       "      <td>100000.000000</td>\n",
       "      <td>100000.000000</td>\n",
       "    </tr>\n",
       "    <tr>\n",
       "      <th>mean</th>\n",
       "      <td>5.662189e+05</td>\n",
       "      <td>3.159860</td>\n",
       "      <td>13.827790</td>\n",
       "      <td>3446.376360</td>\n",
       "      <td>460867.01291</td>\n",
       "      <td>55.700824</td>\n",
       "      <td>37.492292</td>\n",
       "      <td>55.772440</td>\n",
       "      <td>37.541637</td>\n",
       "      <td>18.393518</td>\n",
       "      <td>23.134841</td>\n",
       "      <td>0.492480</td>\n",
       "    </tr>\n",
       "    <tr>\n",
       "      <th>std</th>\n",
       "      <td>3.259360e+05</td>\n",
       "      <td>2.054222</td>\n",
       "      <td>7.306496</td>\n",
       "      <td>2038.738677</td>\n",
       "      <td>266064.98953</td>\n",
       "      <td>2.135903</td>\n",
       "      <td>1.454640</td>\n",
       "      <td>0.665985</td>\n",
       "      <td>0.467758</td>\n",
       "      <td>41.129296</td>\n",
       "      <td>33.890105</td>\n",
       "      <td>0.499946</td>\n",
       "    </tr>\n",
       "    <tr>\n",
       "      <th>min</th>\n",
       "      <td>4.000000e+00</td>\n",
       "      <td>0.000000</td>\n",
       "      <td>0.000000</td>\n",
       "      <td>14.000000</td>\n",
       "      <td>18.00000</td>\n",
       "      <td>-1.000000</td>\n",
       "      <td>-1.000000</td>\n",
       "      <td>-1.000000</td>\n",
       "      <td>-1.000000</td>\n",
       "      <td>-1.000000</td>\n",
       "      <td>-1.000000</td>\n",
       "      <td>0.000000</td>\n",
       "    </tr>\n",
       "    <tr>\n",
       "      <th>25%</th>\n",
       "      <td>2.855552e+05</td>\n",
       "      <td>1.000000</td>\n",
       "      <td>8.000000</td>\n",
       "      <td>1421.000000</td>\n",
       "      <td>229178.50000</td>\n",
       "      <td>55.708651</td>\n",
       "      <td>37.413497</td>\n",
       "      <td>55.708032</td>\n",
       "      <td>37.407117</td>\n",
       "      <td>-1.000000</td>\n",
       "      <td>-1.000000</td>\n",
       "      <td>0.000000</td>\n",
       "    </tr>\n",
       "    <tr>\n",
       "      <th>50%</th>\n",
       "      <td>5.656715e+05</td>\n",
       "      <td>3.000000</td>\n",
       "      <td>16.000000</td>\n",
       "      <td>3506.500000</td>\n",
       "      <td>462420.00000</td>\n",
       "      <td>55.772904</td>\n",
       "      <td>37.533664</td>\n",
       "      <td>55.772561</td>\n",
       "      <td>37.532537</td>\n",
       "      <td>10.411500</td>\n",
       "      <td>19.700000</td>\n",
       "      <td>0.000000</td>\n",
       "    </tr>\n",
       "    <tr>\n",
       "      <th>75%</th>\n",
       "      <td>8.487198e+05</td>\n",
       "      <td>5.000000</td>\n",
       "      <td>20.000000</td>\n",
       "      <td>5242.000000</td>\n",
       "      <td>690894.00000</td>\n",
       "      <td>55.960667</td>\n",
       "      <td>37.624113</td>\n",
       "      <td>55.962000</td>\n",
       "      <td>37.624358</td>\n",
       "      <td>30.665250</td>\n",
       "      <td>37.867000</td>\n",
       "      <td>1.000000</td>\n",
       "    </tr>\n",
       "    <tr>\n",
       "      <th>max</th>\n",
       "      <td>1.130355e+06</td>\n",
       "      <td>6.000000</td>\n",
       "      <td>23.000000</td>\n",
       "      <td>6806.000000</td>\n",
       "      <td>920344.00000</td>\n",
       "      <td>56.174097</td>\n",
       "      <td>38.280547</td>\n",
       "      <td>56.311121</td>\n",
       "      <td>38.243608</td>\n",
       "      <td>5234.283000</td>\n",
       "      <td>3958.283000</td>\n",
       "      <td>1.000000</td>\n",
       "    </tr>\n",
       "  </tbody>\n",
       "</table>\n",
       "</div>"
      ],
      "text/plain": [
       "           offer_gk    weekday_key       hour_key      driver_gk  \\\n",
       "count  1.000000e+05  100000.000000  100000.000000  100000.000000   \n",
       "mean   5.662189e+05       3.159860      13.827790    3446.376360   \n",
       "std    3.259360e+05       2.054222       7.306496    2038.738677   \n",
       "min    4.000000e+00       0.000000       0.000000      14.000000   \n",
       "25%    2.855552e+05       1.000000       8.000000    1421.000000   \n",
       "50%    5.656715e+05       3.000000      16.000000    3506.500000   \n",
       "75%    8.487198e+05       5.000000      20.000000    5242.000000   \n",
       "max    1.130355e+06       6.000000      23.000000    6806.000000   \n",
       "\n",
       "           order_gk  driver_latitude  driver_longitude  origin_order_latitude  \\\n",
       "count  100000.00000    100000.000000     100000.000000          100000.000000   \n",
       "mean   460867.01291        55.700824         37.492292              55.772440   \n",
       "std    266064.98953         2.135903          1.454640               0.665985   \n",
       "min        18.00000        -1.000000         -1.000000              -1.000000   \n",
       "25%    229178.50000        55.708651         37.413497              55.708032   \n",
       "50%    462420.00000        55.772904         37.533664              55.772561   \n",
       "75%    690894.00000        55.960667         37.624113              55.962000   \n",
       "max    920344.00000        56.174097         38.280547              56.311121   \n",
       "\n",
       "       origin_order_longitude    distance_km   duration_min  driver_response  \n",
       "count           100000.000000  100000.000000  100000.000000    100000.000000  \n",
       "mean                37.541637      18.393518      23.134841         0.492480  \n",
       "std                  0.467758      41.129296      33.890105         0.499946  \n",
       "min                 -1.000000      -1.000000      -1.000000         0.000000  \n",
       "25%                 37.407117      -1.000000      -1.000000         0.000000  \n",
       "50%                 37.532537      10.411500      19.700000         0.000000  \n",
       "75%                 37.624358      30.665250      37.867000         1.000000  \n",
       "max                 38.243608    5234.283000    3958.283000         1.000000  "
      ]
     },
     "execution_count": 3,
     "metadata": {},
     "output_type": "execute_result"
    }
   ],
   "source": [
    "data.describe()"
   ]
  },
  {
   "cell_type": "code",
   "execution_count": 4,
   "metadata": {},
   "outputs": [
    {
     "name": "stdout",
     "output_type": "stream",
     "text": [
      "<class 'pandas.core.frame.DataFrame'>\n",
      "RangeIndex: 100000 entries, 0 to 99999\n",
      "Data columns (total 14 columns):\n",
      " #   Column                  Non-Null Count   Dtype  \n",
      "---  ------                  --------------   -----  \n",
      " 0   offer_gk                100000 non-null  int64  \n",
      " 1   weekday_key             100000 non-null  int64  \n",
      " 2   hour_key                100000 non-null  int64  \n",
      " 3   driver_gk               100000 non-null  int64  \n",
      " 4   order_gk                100000 non-null  int64  \n",
      " 5   driver_latitude         100000 non-null  float64\n",
      " 6   driver_longitude        100000 non-null  float64\n",
      " 7   origin_order_latitude   100000 non-null  float64\n",
      " 8   origin_order_longitude  100000 non-null  float64\n",
      " 9   distance_km             100000 non-null  float64\n",
      " 10  duration_min            100000 non-null  float64\n",
      " 11  offer_class_group       100000 non-null  object \n",
      " 12  ride_type_desc          100000 non-null  object \n",
      " 13  driver_response         100000 non-null  int64  \n",
      "dtypes: float64(6), int64(6), object(2)\n",
      "memory usage: 10.7+ MB\n"
     ]
    }
   ],
   "source": [
    "data.info()"
   ]
  },
  {
   "cell_type": "markdown",
   "metadata": {},
   "source": [
    "### целевая переменная: driver_response – driver choice of whether to accept the offer or not (VARCHAR)"
   ]
  },
  {
   "cell_type": "code",
   "execution_count": 5,
   "metadata": {},
   "outputs": [
    {
     "data": {
      "text/plain": [
       "<matplotlib.axes._subplots.AxesSubplot at 0x1b5bf893108>"
      ]
     },
     "execution_count": 5,
     "metadata": {},
     "output_type": "execute_result"
    },
    {
     "data": {
      "image/png": "[encoded data removed]",
      "text/plain": [
       "<Figure size 432x288 with 1 Axes>"
      ]
     },
     "metadata": {
      "needs_background": "light"
     },
     "output_type": "display_data"
    }
   ],
   "source": [
    "data.driver_response.value_counts()\n",
    "sns.countplot(x='driver_response', data=data)"
   ]
  },
  {
   "cell_type": "markdown",
   "metadata": {},
   "source": [
    "- примерно одинаковое количество принятых заказов и отказов"
   ]
  },
  {
   "cell_type": "code",
   "execution_count": 6,
   "metadata": {},
   "outputs": [
    {
     "data": {
      "text/html": [
       "<div>\n",
       "<style scoped>\n",
       "    .dataframe tbody tr th:only-of-type {\n",
       "        vertical-align: middle;\n",
       "    }\n",
       "\n",
       "    .dataframe tbody tr th {\n",
       "        vertical-align: top;\n",
       "    }\n",
       "\n",
       "    .dataframe thead th {\n",
       "        text-align: right;\n",
       "    }\n",
       "</style>\n",
       "<table border=\"1\" class=\"dataframe\">\n",
       "  <thead>\n",
       "    <tr style=\"text-align: right;\">\n",
       "      <th></th>\n",
       "      <th>offer_gk</th>\n",
       "      <th>weekday_key</th>\n",
       "      <th>hour_key</th>\n",
       "      <th>driver_gk</th>\n",
       "      <th>order_gk</th>\n",
       "      <th>driver_latitude</th>\n",
       "      <th>driver_longitude</th>\n",
       "      <th>origin_order_latitude</th>\n",
       "      <th>origin_order_longitude</th>\n",
       "      <th>distance_km</th>\n",
       "      <th>duration_min</th>\n",
       "    </tr>\n",
       "    <tr>\n",
       "      <th>driver_response</th>\n",
       "      <th></th>\n",
       "      <th></th>\n",
       "      <th></th>\n",
       "      <th></th>\n",
       "      <th></th>\n",
       "      <th></th>\n",
       "      <th></th>\n",
       "      <th></th>\n",
       "      <th></th>\n",
       "      <th></th>\n",
       "      <th></th>\n",
       "    </tr>\n",
       "  </thead>\n",
       "  <tbody>\n",
       "    <tr>\n",
       "      <th>0</th>\n",
       "      <td>564563.482405</td>\n",
       "      <td>3.081731</td>\n",
       "      <td>13.687204</td>\n",
       "      <td>3414.790708</td>\n",
       "      <td>460431.188131</td>\n",
       "      <td>55.810123</td>\n",
       "      <td>37.520704</td>\n",
       "      <td>55.804834</td>\n",
       "      <td>37.517102</td>\n",
       "      <td>24.104886</td>\n",
       "      <td>28.096894</td>\n",
       "    </tr>\n",
       "    <tr>\n",
       "      <th>1</th>\n",
       "      <td>567924.931083</td>\n",
       "      <td>3.240375</td>\n",
       "      <td>13.972669</td>\n",
       "      <td>3478.926616</td>\n",
       "      <td>461316.147478</td>\n",
       "      <td>55.588188</td>\n",
       "      <td>37.463013</td>\n",
       "      <td>55.739057</td>\n",
       "      <td>37.566922</td>\n",
       "      <td>12.507728</td>\n",
       "      <td>18.021251</td>\n",
       "    </tr>\n",
       "  </tbody>\n",
       "</table>\n",
       "</div>"
      ],
      "text/plain": [
       "                      offer_gk  weekday_key   hour_key    driver_gk  \\\n",
       "driver_response                                                       \n",
       "0                564563.482405     3.081731  13.687204  3414.790708   \n",
       "1                567924.931083     3.240375  13.972669  3478.926616   \n",
       "\n",
       "                      order_gk  driver_latitude  driver_longitude  \\\n",
       "driver_response                                                     \n",
       "0                460431.188131        55.810123         37.520704   \n",
       "1                461316.147478        55.588188         37.463013   \n",
       "\n",
       "                 origin_order_latitude  origin_order_longitude  distance_km  \\\n",
       "driver_response                                                               \n",
       "0                            55.804834               37.517102    24.104886   \n",
       "1                            55.739057               37.566922    12.507728   \n",
       "\n",
       "                 duration_min  \n",
       "driver_response                \n",
       "0                   28.096894  \n",
       "1                   18.021251  "
      ]
     },
     "execution_count": 6,
     "metadata": {},
     "output_type": "execute_result"
    }
   ],
   "source": [
    "data.groupby('driver_response').mean()"
   ]
  },
  {
   "cell_type": "markdown",
   "metadata": {},
   "source": [
    "- среднее значение расстояния и времени поездки у принятых и отвергнутых заказов отличается практически в два раза - параметры весьма важные для модели"
   ]
  },
  {
   "cell_type": "markdown",
   "metadata": {},
   "source": [
    "### offer_gk – уникальный идентификатор предложения\n",
    "- равномерное распределение\n",
    "- в итоговой модели роли не играет - убрать"
   ]
  },
  {
   "cell_type": "code",
   "execution_count": 7,
   "metadata": {},
   "outputs": [
    {
     "data": {
      "text/plain": [
       "100000"
      ]
     },
     "execution_count": 7,
     "metadata": {},
     "output_type": "execute_result"
    },
    {
     "data": {
      "image/png": "[encoded data removed]",
      "text/plain": [
       "<Figure size 432x288 with 1 Axes>"
      ]
     },
     "metadata": {
      "needs_background": "light"
     },
     "output_type": "display_data"
    }
   ],
   "source": [
    "data.offer_gk.hist()\n",
    "data.offer_gk.nunique()"
   ]
  },
  {
   "cell_type": "markdown",
   "metadata": {},
   "source": [
    "**driver_gk**"
   ]
  },
  {
   "cell_type": "code",
   "execution_count": 8,
   "metadata": {},
   "outputs": [
    {
     "data": {
      "text/plain": [
       "439"
      ]
     },
     "execution_count": 8,
     "metadata": {},
     "output_type": "execute_result"
    },
    {
     "data": {
      "image/png": "[encoded data removed]",
      "text/plain": [
       "<Figure size 432x288 with 1 Axes>"
      ]
     },
     "metadata": {
      "needs_background": "light"
     },
     "output_type": "display_data"
    }
   ],
   "source": [
    "data.driver_gk.hist()\n",
    "data.driver_gk.nunique()"
   ]
  },
  {
   "cell_type": "markdown",
   "metadata": {},
   "source": [
    "- 439 водителей рассматривают 100 тыс. заказов \n",
    "- можно проверить, все ли водители берут (всреднем) одинаковое количество заказов, вероятно, что водители имеют предпочтения по типам поездок, свой стиль\\режим работы\n",
    "- из распределения видно, что к некоторым водителям попадает больше заказов (по крайней мере, на рассмотрение) "
   ]
  },
  {
   "cell_type": "markdown",
   "metadata": {},
   "source": [
    "### order_gk – unique order identifier (INT). Order may have multiple offers\n",
    "- номер заказа\n",
    "- на вид - равномерное распределение\n",
    "- абсолютное значение номера не имеет значения"
   ]
  },
  {
   "cell_type": "code",
   "execution_count": 9,
   "metadata": {},
   "outputs": [
    {
     "data": {
      "text/plain": [
       "<matplotlib.axes._subplots.AxesSubplot at 0x1b5c2404588>"
      ]
     },
     "execution_count": 9,
     "metadata": {},
     "output_type": "execute_result"
    },
    {
     "data": {
      "image/png": "[encoded data removed]",
      "text/plain": [
       "<Figure size 432x288 with 1 Axes>"
      ]
     },
     "metadata": {
      "needs_background": "light"
     },
     "output_type": "display_data"
    }
   ],
   "source": [
    "data.order_gk.hist()"
   ]
  },
  {
   "cell_type": "code",
   "execution_count": 10,
   "metadata": {},
   "outputs": [
    {
     "name": "stdout",
     "output_type": "stream",
     "text": [
      "Возможные варианты количеств предложений (offer) по заявкам (orders):\n",
      " [ 1  3  5  4  2 10  6  7  8  9 11 12 13 14]\n",
      "Количество заявок, которые предлагались несколько раз: 9276\n"
     ]
    }
   ],
   "source": [
    "orders = data.groupby(by='order_gk').count()\n",
    "print('Возможные варианты количеств предложений (offer) по заявкам (orders):\\n', orders.offer_gk.unique())\n",
    "print('Количество заявок, которые предлагались несколько раз:', len(orders[orders.offer_gk > 1]))"
   ]
  },
  {
   "cell_type": "markdown",
   "metadata": {},
   "source": [
    "- некоторые заявки предлагаются разным (?) таксистам несоколько раз - вплоть до 14\n",
    "- ? отличается результат offer при повторных предложениях (order) (как влияют повторные order на судьбу offer)?\n",
    "- заявок, которые предлагались повторно - почти 10% - довольно много - как то это нужно учесть"
   ]
  },
  {
   "cell_type": "markdown",
   "metadata": {},
   "source": [
    "### weekday_key – day of week number (Sunday = 0, Monday = 1, etc.) (INT)\n",
    "- день недели\n",
    "- не корректных данных нет\n",
    "- распределение решений таксистов по дням недели не равномерное.\n",
    "- день недели важен - признак перекодировать"
   ]
  },
  {
   "cell_type": "code",
   "execution_count": 11,
   "metadata": {},
   "outputs": [
    {
     "data": {
      "text/plain": [
       "<matplotlib.axes._subplots.AxesSubplot at 0x1b5c24b10c8>"
      ]
     },
     "execution_count": 11,
     "metadata": {},
     "output_type": "execute_result"
    },
    {
     "data": {
      "image/png": "[encoded data removed]",
      "text/plain": [
       "<Figure size 432x288 with 1 Axes>"
      ]
     },
     "metadata": {
      "needs_background": "light"
     },
     "output_type": "display_data"
    }
   ],
   "source": [
    "pd.crosstab(data.weekday_key, data.driver_response).plot(kind='bar')"
   ]
  },
  {
   "cell_type": "markdown",
   "metadata": {},
   "source": [
    "### hour_key – hour of day representing an hour part of datetime (value from 0 to 23) \n",
    "- примерно с  20.00 до 6.00 (вечер и ночь) отказов больше\n",
    "- количество обращений по часам не равномерно"
   ]
  },
  {
   "cell_type": "code",
   "execution_count": 12,
   "metadata": {},
   "outputs": [
    {
     "data": {
      "text/plain": [
       "<matplotlib.axes._subplots.AxesSubplot at 0x1b5c2563d08>"
      ]
     },
     "execution_count": 12,
     "metadata": {},
     "output_type": "execute_result"
    },
    {
     "data": {
      "image/png": "[encoded data removed]",
      "text/plain": [
       "<Figure size 1224x360 with 1 Axes>"
      ]
     },
     "metadata": {
      "needs_background": "light"
     },
     "output_type": "display_data"
    }
   ],
   "source": [
    "pd.crosstab(data.hour_key, data.driver_response).plot(kind='bar', figsize=(17, 5))"
   ]
  },
  {
   "cell_type": "markdown",
   "metadata": {},
   "source": [
    "### Координаты водителя и клиента\n",
    "- driver_latitude – latitude of driver at the time of getting an offer (FLOAT)\n",
    "- driver_longitude – longitude of driver at the time of receiving an offer (FLOAT)\n",
    "- origin_order_latitude – latitude of the order start location at the time of receiving an offer (FLOAT)\n",
    "- origin_order_longitude – longitude of the order start location at the moment of receiving an offer (FLOAT)"
   ]
  },
  {
   "cell_type": "markdown",
   "metadata": {},
   "source": [
    "- пересчитать в расстояние между водителем и клиентом\n",
    "- проверить на выбросы\n",
    "- если найти информацию по районам города и уровнем благополучия в них, то, определив по координам район, можно создать признак \"благополучия\" (в плохие районы, вероятно, менее охотно поедут)"
   ]
  },
  {
   "cell_type": "code",
   "execution_count": 13,
   "metadata": {},
   "outputs": [
    {
     "data": {
      "text/plain": [
       "count    100000.000000\n",
       "mean         55.700824\n",
       "std           2.135903\n",
       "min          -1.000000\n",
       "25%          55.708651\n",
       "50%          55.772904\n",
       "75%          55.960667\n",
       "max          56.174097\n",
       "Name: driver_latitude, dtype: float64"
      ]
     },
     "execution_count": 13,
     "metadata": {},
     "output_type": "execute_result"
    }
   ],
   "source": [
    "data.driver_latitude.describe()"
   ]
  },
  {
   "cell_type": "markdown",
   "metadata": {},
   "source": [
    "- -1 в координате = пропуск"
   ]
  },
  {
   "cell_type": "markdown",
   "metadata": {},
   "source": [
    "### distance_km – estimated distance from origin to destination in kilometres (FLOAT). Value -1 means that the destination is not set\n",
    "- 75% поездок - не дальше 31 км \n",
    "- 99% поездок - в радиусе 75 км\n",
    "- 99.9% - 130 км\n",
    "- всеми дальними поездками (более 130 км) = 0.1% пренебречь"
   ]
  },
  {
   "cell_type": "code",
   "execution_count": 14,
   "metadata": {},
   "outputs": [
    {
     "data": {
      "text/plain": [
       "count    100000.000000\n",
       "mean         18.393518\n",
       "std          41.129296\n",
       "min          -1.000000\n",
       "25%          -1.000000\n",
       "50%          10.411500\n",
       "75%          30.665250\n",
       "max        5234.283000\n",
       "Name: distance_km, dtype: float64"
      ]
     },
     "execution_count": 14,
     "metadata": {},
     "output_type": "execute_result"
    },
    {
     "data": {
      "image/png": "[encoded data removed]",
      "text/plain": [
       "<Figure size 1440x360 with 1 Axes>"
      ]
     },
     "metadata": {
      "needs_background": "light"
     },
     "output_type": "display_data"
    }
   ],
   "source": [
    "plt.figure(figsize=(20,5))\n",
    "plt.boxplot(data.distance_km, vert=False)\n",
    "data.distance_km.describe()"
   ]
  },
  {
   "cell_type": "code",
   "execution_count": 15,
   "metadata": {},
   "outputs": [
    {
     "name": "stdout",
     "output_type": "stream",
     "text": [
      "99% заказов на дистанцию: 75.35114999999992 км.\n",
      "99.9% заказов на дистанцию: 129.06530700000116 км.\n",
      "100\n"
     ]
    },
    {
     "data": {
      "text/plain": [
       "{'whiskers': [<matplotlib.lines.Line2D at 0x1b5c26ec748>,\n",
       "  <matplotlib.lines.Line2D at 0x1b5c26ecd48>],\n",
       " 'caps': [<matplotlib.lines.Line2D at 0x1b5c26e1508>,\n",
       "  <matplotlib.lines.Line2D at 0x1b5c26e1d08>],\n",
       " 'boxes': [<matplotlib.lines.Line2D at 0x1b5c26dd808>],\n",
       " 'medians': [<matplotlib.lines.Line2D at 0x1b5c26e4c08>],\n",
       " 'fliers': [<matplotlib.lines.Line2D at 0x1b5c26e4448>],\n",
       " 'means': []}"
      ]
     },
     "execution_count": 15,
     "metadata": {},
     "output_type": "execute_result"
    },
    {
     "data": {
      "image/png": "[encoded data removed]",
      "text/plain": [
       "<Figure size 432x288 with 1 Axes>"
      ]
     },
     "metadata": {
      "needs_background": "light"
     },
     "output_type": "display_data"
    }
   ],
   "source": [
    "print('99% заказов на дистанцию:', data.distance_km.quantile(0.99), 'км.')\n",
    "print('99.9% заказов на дистанцию:', data.distance_km.quantile(0.999), 'км.')\n",
    "print(len(data[data.distance_km > data.distance_km.quantile(0.999)]))\n",
    "plt.boxplot(data[data.distance_km > data.distance_km.quantile(0.999)].distance_km, vert=False)"
   ]
  },
  {
   "cell_type": "code",
   "execution_count": 16,
   "metadata": {},
   "outputs": [
    {
     "data": {
      "text/plain": [
       "(99901, 14)"
      ]
     },
     "execution_count": 16,
     "metadata": {},
     "output_type": "execute_result"
    }
   ],
   "source": [
    "# исключиь дальние поездки\n",
    "data = data[data.distance_km < 130]\n",
    "data.shape"
   ]
  },
  {
   "cell_type": "code",
   "execution_count": 17,
   "metadata": {},
   "outputs": [
    {
     "data": {
      "text/plain": [
       "count    64.000000\n",
       "mean      0.202641\n",
       "std       0.161499\n",
       "min       0.005000\n",
       "25%       0.045500\n",
       "50%       0.176500\n",
       "75%       0.337000\n",
       "max       0.490000\n",
       "Name: distance_km, dtype: float64"
      ]
     },
     "execution_count": 17,
     "metadata": {},
     "output_type": "execute_result"
    }
   ],
   "source": [
    "# короткие поездки\n",
    "data[(data.distance_km > 0) & (data.distance_km < 0.5)].distance_km.describe()"
   ]
  },
  {
   "cell_type": "markdown",
   "metadata": {},
   "source": [
    "- 64 поездки на расстояние, меньше пол километра - скорее статистический выброс - исключить из рассмотрения"
   ]
  },
  {
   "cell_type": "code",
   "execution_count": 18,
   "metadata": {},
   "outputs": [],
   "source": [
    "data = data[(data.distance_km < 0) | (data.distance_km > 0.5)]"
   ]
  },
  {
   "cell_type": "code",
   "execution_count": 19,
   "metadata": {},
   "outputs": [
    {
     "data": {
      "text/plain": [
       "(26207, 14)"
      ]
     },
     "execution_count": 19,
     "metadata": {},
     "output_type": "execute_result"
    }
   ],
   "source": [
    "# неизвестные расстояния на момент заказа\n",
    "data[data.distance_km  < 0].shape"
   ]
  },
  {
   "cell_type": "markdown",
   "metadata": {},
   "source": [
    "- 26207 записей не содержат информацию о пункте назначения\n",
    "- это можно считать за пропуск"
   ]
  },
  {
   "cell_type": "markdown",
   "metadata": {},
   "source": [
    "### duration_min – estimated duration from origin to destination in minutes (FLOAT). Value -1 means that the destination is not set\n",
    "- параметр, по-идее, должен быть связан с distance_km\n",
    "- учитывает загруженность дорог"
   ]
  },
  {
   "cell_type": "markdown",
   "metadata": {},
   "source": [
    "### offer_class_group – class of the order, e.g. Economy, Business, XL (VARCHAR)"
   ]
  },
  {
   "cell_type": "code",
   "execution_count": 20,
   "metadata": {},
   "outputs": [
    {
     "data": {
      "text/plain": [
       "Economy     48189\n",
       "Standard    47144\n",
       "Premium      1765\n",
       "Delivery     1285\n",
       "Kids          586\n",
       "XL            457\n",
       "VIP           221\n",
       "VIP+           29\n",
       "Test            8\n",
       "Name: offer_class_group, dtype: int64"
      ]
     },
     "execution_count": 20,
     "metadata": {},
     "output_type": "execute_result"
    }
   ],
   "source": [
    "data.offer_class_group.value_counts()"
   ]
  },
  {
   "cell_type": "markdown",
   "metadata": {},
   "source": [
    "- много классов, большая часть классов имеет мало представителей\n",
    "- premium, vip, vip+ - объединить как близкие по смыслу"
   ]
  },
  {
   "cell_type": "code",
   "execution_count": 21,
   "metadata": {},
   "outputs": [],
   "source": [
    "data.loc[data.offer_class_group.isin(['VIP', 'VIP+']), 'offer_class_group'] = 'Premium'\n"
   ]
  },
  {
   "cell_type": "code",
   "execution_count": 22,
   "metadata": {},
   "outputs": [
    {
     "data": {
      "text/html": [
       "<div>\n",
       "<style scoped>\n",
       "    .dataframe tbody tr th:only-of-type {\n",
       "        vertical-align: middle;\n",
       "    }\n",
       "\n",
       "    .dataframe tbody tr th {\n",
       "        vertical-align: top;\n",
       "    }\n",
       "\n",
       "    .dataframe thead th {\n",
       "        text-align: right;\n",
       "    }\n",
       "</style>\n",
       "<table border=\"1\" class=\"dataframe\">\n",
       "  <thead>\n",
       "    <tr style=\"text-align: right;\">\n",
       "      <th></th>\n",
       "      <th>offer_gk</th>\n",
       "      <th>weekday_key</th>\n",
       "      <th>hour_key</th>\n",
       "      <th>driver_gk</th>\n",
       "      <th>order_gk</th>\n",
       "      <th>driver_latitude</th>\n",
       "      <th>driver_longitude</th>\n",
       "      <th>origin_order_latitude</th>\n",
       "      <th>origin_order_longitude</th>\n",
       "      <th>distance_km</th>\n",
       "      <th>duration_min</th>\n",
       "      <th>offer_class_group</th>\n",
       "      <th>ride_type_desc</th>\n",
       "      <th>driver_response</th>\n",
       "    </tr>\n",
       "  </thead>\n",
       "  <tbody>\n",
       "    <tr>\n",
       "      <th>12092</th>\n",
       "      <td>849177</td>\n",
       "      <td>5</td>\n",
       "      <td>20</td>\n",
       "      <td>3763</td>\n",
       "      <td>83260</td>\n",
       "      <td>55.820917</td>\n",
       "      <td>37.650258</td>\n",
       "      <td>55.827038</td>\n",
       "      <td>37.660981</td>\n",
       "      <td>-1.0</td>\n",
       "      <td>-1.0</td>\n",
       "      <td>Test</td>\n",
       "      <td>SMB</td>\n",
       "      <td>0</td>\n",
       "    </tr>\n",
       "    <tr>\n",
       "      <th>31035</th>\n",
       "      <td>1122239</td>\n",
       "      <td>3</td>\n",
       "      <td>23</td>\n",
       "      <td>6290</td>\n",
       "      <td>493264</td>\n",
       "      <td>55.959273</td>\n",
       "      <td>37.415073</td>\n",
       "      <td>55.962322</td>\n",
       "      <td>37.407117</td>\n",
       "      <td>-1.0</td>\n",
       "      <td>-1.0</td>\n",
       "      <td>Test</td>\n",
       "      <td>SMB</td>\n",
       "      <td>0</td>\n",
       "    </tr>\n",
       "    <tr>\n",
       "      <th>43940</th>\n",
       "      <td>897797</td>\n",
       "      <td>5</td>\n",
       "      <td>20</td>\n",
       "      <td>591</td>\n",
       "      <td>83260</td>\n",
       "      <td>55.821477</td>\n",
       "      <td>37.611275</td>\n",
       "      <td>55.827038</td>\n",
       "      <td>37.660981</td>\n",
       "      <td>-1.0</td>\n",
       "      <td>-1.0</td>\n",
       "      <td>Test</td>\n",
       "      <td>SMB</td>\n",
       "      <td>1</td>\n",
       "    </tr>\n",
       "    <tr>\n",
       "      <th>54657</th>\n",
       "      <td>954625</td>\n",
       "      <td>1</td>\n",
       "      <td>18</td>\n",
       "      <td>172</td>\n",
       "      <td>203179</td>\n",
       "      <td>55.823113</td>\n",
       "      <td>37.508883</td>\n",
       "      <td>55.829178</td>\n",
       "      <td>37.513307</td>\n",
       "      <td>-1.0</td>\n",
       "      <td>-1.0</td>\n",
       "      <td>Test</td>\n",
       "      <td>SMB</td>\n",
       "      <td>1</td>\n",
       "    </tr>\n",
       "    <tr>\n",
       "      <th>65028</th>\n",
       "      <td>1039723</td>\n",
       "      <td>1</td>\n",
       "      <td>15</td>\n",
       "      <td>1916</td>\n",
       "      <td>357476</td>\n",
       "      <td>55.881810</td>\n",
       "      <td>37.654255</td>\n",
       "      <td>55.872580</td>\n",
       "      <td>37.668403</td>\n",
       "      <td>-1.0</td>\n",
       "      <td>-1.0</td>\n",
       "      <td>Test</td>\n",
       "      <td>SMB</td>\n",
       "      <td>1</td>\n",
       "    </tr>\n",
       "    <tr>\n",
       "      <th>82848</th>\n",
       "      <td>990065</td>\n",
       "      <td>2</td>\n",
       "      <td>14</td>\n",
       "      <td>3371</td>\n",
       "      <td>325838</td>\n",
       "      <td>55.775556</td>\n",
       "      <td>37.582864</td>\n",
       "      <td>55.773730</td>\n",
       "      <td>37.591352</td>\n",
       "      <td>-1.0</td>\n",
       "      <td>-1.0</td>\n",
       "      <td>Test</td>\n",
       "      <td>SMB</td>\n",
       "      <td>1</td>\n",
       "    </tr>\n",
       "    <tr>\n",
       "      <th>95758</th>\n",
       "      <td>159224</td>\n",
       "      <td>5</td>\n",
       "      <td>17</td>\n",
       "      <td>1126</td>\n",
       "      <td>392645</td>\n",
       "      <td>55.761183</td>\n",
       "      <td>37.657616</td>\n",
       "      <td>55.757251</td>\n",
       "      <td>37.659064</td>\n",
       "      <td>-1.0</td>\n",
       "      <td>-1.0</td>\n",
       "      <td>Test</td>\n",
       "      <td>SMB</td>\n",
       "      <td>1</td>\n",
       "    </tr>\n",
       "    <tr>\n",
       "      <th>97311</th>\n",
       "      <td>1060685</td>\n",
       "      <td>3</td>\n",
       "      <td>23</td>\n",
       "      <td>6302</td>\n",
       "      <td>493264</td>\n",
       "      <td>55.964894</td>\n",
       "      <td>37.413532</td>\n",
       "      <td>55.962322</td>\n",
       "      <td>37.407117</td>\n",
       "      <td>-1.0</td>\n",
       "      <td>-1.0</td>\n",
       "      <td>Test</td>\n",
       "      <td>SMB</td>\n",
       "      <td>1</td>\n",
       "    </tr>\n",
       "  </tbody>\n",
       "</table>\n",
       "</div>"
      ],
      "text/plain": [
       "       offer_gk  weekday_key  hour_key  driver_gk  order_gk  driver_latitude  \\\n",
       "12092    849177            5        20       3763     83260        55.820917   \n",
       "31035   1122239            3        23       6290    493264        55.959273   \n",
       "43940    897797            5        20        591     83260        55.821477   \n",
       "54657    954625            1        18        172    203179        55.823113   \n",
       "65028   1039723            1        15       1916    357476        55.881810   \n",
       "82848    990065            2        14       3371    325838        55.775556   \n",
       "95758    159224            5        17       1126    392645        55.761183   \n",
       "97311   1060685            3        23       6302    493264        55.964894   \n",
       "\n",
       "       driver_longitude  origin_order_latitude  origin_order_longitude  \\\n",
       "12092         37.650258              55.827038               37.660981   \n",
       "31035         37.415073              55.962322               37.407117   \n",
       "43940         37.611275              55.827038               37.660981   \n",
       "54657         37.508883              55.829178               37.513307   \n",
       "65028         37.654255              55.872580               37.668403   \n",
       "82848         37.582864              55.773730               37.591352   \n",
       "95758         37.657616              55.757251               37.659064   \n",
       "97311         37.413532              55.962322               37.407117   \n",
       "\n",
       "       distance_km  duration_min offer_class_group ride_type_desc  \\\n",
       "12092         -1.0          -1.0              Test            SMB   \n",
       "31035         -1.0          -1.0              Test            SMB   \n",
       "43940         -1.0          -1.0              Test            SMB   \n",
       "54657         -1.0          -1.0              Test            SMB   \n",
       "65028         -1.0          -1.0              Test            SMB   \n",
       "82848         -1.0          -1.0              Test            SMB   \n",
       "95758         -1.0          -1.0              Test            SMB   \n",
       "97311         -1.0          -1.0              Test            SMB   \n",
       "\n",
       "       driver_response  \n",
       "12092                0  \n",
       "31035                0  \n",
       "43940                1  \n",
       "54657                1  \n",
       "65028                1  \n",
       "82848                1  \n",
       "95758                1  \n",
       "97311                1  "
      ]
     },
     "execution_count": 22,
     "metadata": {},
     "output_type": "execute_result"
    }
   ],
   "source": [
    "data[data.offer_class_group.isin(['Test'])]"
   ]
  },
  {
   "cell_type": "markdown",
   "metadata": {},
   "source": [
    "- 8 тестовых заказов\n",
    "- смысл их не ясен\n",
    "- у всех заказов задано расстояние, но нет продолжительности, т.е. поездки не состоялись\n",
    "- исключить их из рассмотрения"
   ]
  },
  {
   "cell_type": "code",
   "execution_count": 23,
   "metadata": {},
   "outputs": [],
   "source": [
    "data = data[~data.offer_class_group.isin(['Test'])]"
   ]
  },
  {
   "cell_type": "code",
   "execution_count": 24,
   "metadata": {},
   "outputs": [
    {
     "data": {
      "text/plain": [
       "Economy     48189\n",
       "Standard    47144\n",
       "Premium      2015\n",
       "Delivery     1285\n",
       "Kids          586\n",
       "XL            457\n",
       "Name: offer_class_group, dtype: int64"
      ]
     },
     "execution_count": 24,
     "metadata": {},
     "output_type": "execute_result"
    }
   ],
   "source": [
    "data.offer_class_group.value_counts()"
   ]
  },
  {
   "cell_type": "markdown",
   "metadata": {},
   "source": [
    "- Kids - вероятно, требует наличие спец. удерживающих устройств (кресел)\n",
    "- XL - вероятно, требования к размеру или классу автомобиля \n",
    "- два этих класса имеют мало представителей, можно объединить в категорию 'other' (возможно, вместе с Delivery)\n",
    "- проверить, улучшит ли это качество модели"
   ]
  },
  {
   "cell_type": "code",
   "execution_count": 25,
   "metadata": {},
   "outputs": [
    {
     "data": {
      "text/plain": [
       "Economy     48189\n",
       "Standard    47144\n",
       "Other        2328\n",
       "Premium      2015\n",
       "Name: offer_class_group, dtype: int64"
      ]
     },
     "execution_count": 25,
     "metadata": {},
     "output_type": "execute_result"
    }
   ],
   "source": [
    "data.loc[data.offer_class_group.isin(['Delivery', 'Kids', 'XL']), 'offer_class_group'] = 'Other'\n",
    "data.offer_class_group.value_counts()"
   ]
  },
  {
   "cell_type": "markdown",
   "metadata": {},
   "source": [
    "### ride_type_desc – private or business order attribute (VARCHAR)"
   ]
  },
  {
   "cell_type": "code",
   "execution_count": 26,
   "metadata": {
    "scrolled": true
   },
   "outputs": [
    {
     "data": {
      "text/plain": [
       "private      90892\n",
       "business      8532\n",
       "affiliate      224\n",
       "SMB             28\n",
       "Name: ride_type_desc, dtype: int64"
      ]
     },
     "execution_count": 26,
     "metadata": {},
     "output_type": "execute_result"
    }
   ],
   "source": [
    "data.ride_type_desc.value_counts()"
   ]
  },
  {
   "cell_type": "code",
   "execution_count": 27,
   "metadata": {},
   "outputs": [
    {
     "data": {
      "text/html": [
       "<div>\n",
       "<style scoped>\n",
       "    .dataframe tbody tr th:only-of-type {\n",
       "        vertical-align: middle;\n",
       "    }\n",
       "\n",
       "    .dataframe tbody tr th {\n",
       "        vertical-align: top;\n",
       "    }\n",
       "\n",
       "    .dataframe thead th {\n",
       "        text-align: right;\n",
       "    }\n",
       "</style>\n",
       "<table border=\"1\" class=\"dataframe\">\n",
       "  <thead>\n",
       "    <tr style=\"text-align: right;\">\n",
       "      <th></th>\n",
       "      <th>offer_gk</th>\n",
       "      <th>weekday_key</th>\n",
       "      <th>hour_key</th>\n",
       "      <th>driver_gk</th>\n",
       "      <th>order_gk</th>\n",
       "      <th>driver_latitude</th>\n",
       "      <th>driver_longitude</th>\n",
       "      <th>origin_order_latitude</th>\n",
       "      <th>origin_order_longitude</th>\n",
       "      <th>distance_km</th>\n",
       "      <th>duration_min</th>\n",
       "      <th>offer_class_group</th>\n",
       "      <th>ride_type_desc</th>\n",
       "      <th>driver_response</th>\n",
       "    </tr>\n",
       "  </thead>\n",
       "  <tbody>\n",
       "    <tr>\n",
       "      <th>3181</th>\n",
       "      <td>515011</td>\n",
       "      <td>4</td>\n",
       "      <td>14</td>\n",
       "      <td>1514</td>\n",
       "      <td>573660</td>\n",
       "      <td>55.679113</td>\n",
       "      <td>37.563873</td>\n",
       "      <td>55.681456</td>\n",
       "      <td>37.560491</td>\n",
       "      <td>5.593</td>\n",
       "      <td>17.517</td>\n",
       "      <td>Economy</td>\n",
       "      <td>SMB</td>\n",
       "      <td>1</td>\n",
       "    </tr>\n",
       "    <tr>\n",
       "      <th>7459</th>\n",
       "      <td>740895</td>\n",
       "      <td>4</td>\n",
       "      <td>18</td>\n",
       "      <td>1186</td>\n",
       "      <td>216586</td>\n",
       "      <td>55.828397</td>\n",
       "      <td>37.763599</td>\n",
       "      <td>55.839510</td>\n",
       "      <td>37.746035</td>\n",
       "      <td>23.270</td>\n",
       "      <td>44.667</td>\n",
       "      <td>Economy</td>\n",
       "      <td>SMB</td>\n",
       "      <td>1</td>\n",
       "    </tr>\n",
       "    <tr>\n",
       "      <th>8660</th>\n",
       "      <td>455304</td>\n",
       "      <td>3</td>\n",
       "      <td>17</td>\n",
       "      <td>3303</td>\n",
       "      <td>360015</td>\n",
       "      <td>55.781449</td>\n",
       "      <td>37.697605</td>\n",
       "      <td>55.777739</td>\n",
       "      <td>37.698990</td>\n",
       "      <td>-1.000</td>\n",
       "      <td>-1.000</td>\n",
       "      <td>Economy</td>\n",
       "      <td>SMB</td>\n",
       "      <td>1</td>\n",
       "    </tr>\n",
       "    <tr>\n",
       "      <th>13891</th>\n",
       "      <td>102542</td>\n",
       "      <td>3</td>\n",
       "      <td>9</td>\n",
       "      <td>6450</td>\n",
       "      <td>532434</td>\n",
       "      <td>55.686647</td>\n",
       "      <td>37.572028</td>\n",
       "      <td>55.676650</td>\n",
       "      <td>37.559384</td>\n",
       "      <td>12.060</td>\n",
       "      <td>25.783</td>\n",
       "      <td>Economy</td>\n",
       "      <td>SMB</td>\n",
       "      <td>1</td>\n",
       "    </tr>\n",
       "    <tr>\n",
       "      <th>18054</th>\n",
       "      <td>1115050</td>\n",
       "      <td>5</td>\n",
       "      <td>13</td>\n",
       "      <td>4014</td>\n",
       "      <td>134774</td>\n",
       "      <td>55.678207</td>\n",
       "      <td>37.580621</td>\n",
       "      <td>55.681456</td>\n",
       "      <td>37.560491</td>\n",
       "      <td>5.300</td>\n",
       "      <td>17.033</td>\n",
       "      <td>Economy</td>\n",
       "      <td>SMB</td>\n",
       "      <td>1</td>\n",
       "    </tr>\n",
       "    <tr>\n",
       "      <th>19067</th>\n",
       "      <td>495538</td>\n",
       "      <td>3</td>\n",
       "      <td>22</td>\n",
       "      <td>2221</td>\n",
       "      <td>671093</td>\n",
       "      <td>55.544830</td>\n",
       "      <td>37.563338</td>\n",
       "      <td>55.548082</td>\n",
       "      <td>37.534335</td>\n",
       "      <td>23.995</td>\n",
       "      <td>36.467</td>\n",
       "      <td>Economy</td>\n",
       "      <td>SMB</td>\n",
       "      <td>1</td>\n",
       "    </tr>\n",
       "    <tr>\n",
       "      <th>21925</th>\n",
       "      <td>575946</td>\n",
       "      <td>6</td>\n",
       "      <td>1</td>\n",
       "      <td>2939</td>\n",
       "      <td>887084</td>\n",
       "      <td>55.666110</td>\n",
       "      <td>37.484688</td>\n",
       "      <td>55.661958</td>\n",
       "      <td>37.476465</td>\n",
       "      <td>15.449</td>\n",
       "      <td>21.600</td>\n",
       "      <td>Economy</td>\n",
       "      <td>SMB</td>\n",
       "      <td>1</td>\n",
       "    </tr>\n",
       "    <tr>\n",
       "      <th>25651</th>\n",
       "      <td>386998</td>\n",
       "      <td>3</td>\n",
       "      <td>23</td>\n",
       "      <td>4100</td>\n",
       "      <td>126932</td>\n",
       "      <td>55.961238</td>\n",
       "      <td>37.413188</td>\n",
       "      <td>55.962322</td>\n",
       "      <td>37.407117</td>\n",
       "      <td>51.891</td>\n",
       "      <td>53.517</td>\n",
       "      <td>Economy</td>\n",
       "      <td>SMB</td>\n",
       "      <td>0</td>\n",
       "    </tr>\n",
       "    <tr>\n",
       "      <th>26819</th>\n",
       "      <td>755014</td>\n",
       "      <td>3</td>\n",
       "      <td>23</td>\n",
       "      <td>1793</td>\n",
       "      <td>126932</td>\n",
       "      <td>55.962122</td>\n",
       "      <td>37.409464</td>\n",
       "      <td>55.962322</td>\n",
       "      <td>37.407117</td>\n",
       "      <td>51.891</td>\n",
       "      <td>53.517</td>\n",
       "      <td>Economy</td>\n",
       "      <td>SMB</td>\n",
       "      <td>0</td>\n",
       "    </tr>\n",
       "    <tr>\n",
       "      <th>27226</th>\n",
       "      <td>319994</td>\n",
       "      <td>2</td>\n",
       "      <td>9</td>\n",
       "      <td>2381</td>\n",
       "      <td>611588</td>\n",
       "      <td>55.605225</td>\n",
       "      <td>37.286079</td>\n",
       "      <td>55.603777</td>\n",
       "      <td>37.290713</td>\n",
       "      <td>-1.000</td>\n",
       "      <td>-1.000</td>\n",
       "      <td>Economy</td>\n",
       "      <td>SMB</td>\n",
       "      <td>0</td>\n",
       "    </tr>\n",
       "    <tr>\n",
       "      <th>34361</th>\n",
       "      <td>627493</td>\n",
       "      <td>3</td>\n",
       "      <td>16</td>\n",
       "      <td>3292</td>\n",
       "      <td>450654</td>\n",
       "      <td>55.764815</td>\n",
       "      <td>37.617396</td>\n",
       "      <td>55.758634</td>\n",
       "      <td>37.623505</td>\n",
       "      <td>-1.000</td>\n",
       "      <td>-1.000</td>\n",
       "      <td>Economy</td>\n",
       "      <td>SMB</td>\n",
       "      <td>1</td>\n",
       "    </tr>\n",
       "    <tr>\n",
       "      <th>35271</th>\n",
       "      <td>157028</td>\n",
       "      <td>4</td>\n",
       "      <td>6</td>\n",
       "      <td>1944</td>\n",
       "      <td>378548</td>\n",
       "      <td>55.961722</td>\n",
       "      <td>37.405452</td>\n",
       "      <td>55.964892</td>\n",
       "      <td>37.413543</td>\n",
       "      <td>37.631</td>\n",
       "      <td>47.017</td>\n",
       "      <td>Economy</td>\n",
       "      <td>SMB</td>\n",
       "      <td>0</td>\n",
       "    </tr>\n",
       "    <tr>\n",
       "      <th>41663</th>\n",
       "      <td>846558</td>\n",
       "      <td>5</td>\n",
       "      <td>21</td>\n",
       "      <td>1537</td>\n",
       "      <td>895244</td>\n",
       "      <td>55.966309</td>\n",
       "      <td>37.415646</td>\n",
       "      <td>55.964892</td>\n",
       "      <td>37.413543</td>\n",
       "      <td>26.330</td>\n",
       "      <td>26.433</td>\n",
       "      <td>Economy</td>\n",
       "      <td>SMB</td>\n",
       "      <td>0</td>\n",
       "    </tr>\n",
       "    <tr>\n",
       "      <th>45541</th>\n",
       "      <td>601997</td>\n",
       "      <td>2</td>\n",
       "      <td>11</td>\n",
       "      <td>366</td>\n",
       "      <td>578212</td>\n",
       "      <td>55.611472</td>\n",
       "      <td>37.603327</td>\n",
       "      <td>55.600402</td>\n",
       "      <td>37.600737</td>\n",
       "      <td>-1.000</td>\n",
       "      <td>-1.000</td>\n",
       "      <td>Economy</td>\n",
       "      <td>SMB</td>\n",
       "      <td>1</td>\n",
       "    </tr>\n",
       "    <tr>\n",
       "      <th>53376</th>\n",
       "      <td>979548</td>\n",
       "      <td>1</td>\n",
       "      <td>16</td>\n",
       "      <td>1472</td>\n",
       "      <td>337372</td>\n",
       "      <td>55.821148</td>\n",
       "      <td>37.649114</td>\n",
       "      <td>55.807437</td>\n",
       "      <td>37.628056</td>\n",
       "      <td>-1.000</td>\n",
       "      <td>-1.000</td>\n",
       "      <td>Other</td>\n",
       "      <td>SMB</td>\n",
       "      <td>1</td>\n",
       "    </tr>\n",
       "    <tr>\n",
       "      <th>53476</th>\n",
       "      <td>784000</td>\n",
       "      <td>4</td>\n",
       "      <td>14</td>\n",
       "      <td>1472</td>\n",
       "      <td>510417</td>\n",
       "      <td>55.725107</td>\n",
       "      <td>37.571387</td>\n",
       "      <td>55.718679</td>\n",
       "      <td>37.576853</td>\n",
       "      <td>9.622</td>\n",
       "      <td>17.483</td>\n",
       "      <td>Economy</td>\n",
       "      <td>SMB</td>\n",
       "      <td>1</td>\n",
       "    </tr>\n",
       "    <tr>\n",
       "      <th>75601</th>\n",
       "      <td>837653</td>\n",
       "      <td>4</td>\n",
       "      <td>16</td>\n",
       "      <td>3719</td>\n",
       "      <td>567672</td>\n",
       "      <td>55.775663</td>\n",
       "      <td>37.697228</td>\n",
       "      <td>55.778897</td>\n",
       "      <td>37.690437</td>\n",
       "      <td>16.118</td>\n",
       "      <td>24.367</td>\n",
       "      <td>Economy</td>\n",
       "      <td>SMB</td>\n",
       "      <td>1</td>\n",
       "    </tr>\n",
       "    <tr>\n",
       "      <th>80038</th>\n",
       "      <td>336773</td>\n",
       "      <td>3</td>\n",
       "      <td>13</td>\n",
       "      <td>5420</td>\n",
       "      <td>649263</td>\n",
       "      <td>55.677257</td>\n",
       "      <td>37.549133</td>\n",
       "      <td>55.681456</td>\n",
       "      <td>37.560491</td>\n",
       "      <td>5.593</td>\n",
       "      <td>17.700</td>\n",
       "      <td>Economy</td>\n",
       "      <td>SMB</td>\n",
       "      <td>1</td>\n",
       "    </tr>\n",
       "    <tr>\n",
       "      <th>83710</th>\n",
       "      <td>46063</td>\n",
       "      <td>5</td>\n",
       "      <td>13</td>\n",
       "      <td>5578</td>\n",
       "      <td>488670</td>\n",
       "      <td>55.678126</td>\n",
       "      <td>37.574338</td>\n",
       "      <td>55.681456</td>\n",
       "      <td>37.560491</td>\n",
       "      <td>5.267</td>\n",
       "      <td>16.983</td>\n",
       "      <td>Economy</td>\n",
       "      <td>SMB</td>\n",
       "      <td>1</td>\n",
       "    </tr>\n",
       "    <tr>\n",
       "      <th>85115</th>\n",
       "      <td>670825</td>\n",
       "      <td>5</td>\n",
       "      <td>17</td>\n",
       "      <td>3416</td>\n",
       "      <td>321263</td>\n",
       "      <td>55.726554</td>\n",
       "      <td>37.560940</td>\n",
       "      <td>55.718679</td>\n",
       "      <td>37.576853</td>\n",
       "      <td>-1.000</td>\n",
       "      <td>-1.000</td>\n",
       "      <td>Economy</td>\n",
       "      <td>SMB</td>\n",
       "      <td>0</td>\n",
       "    </tr>\n",
       "    <tr>\n",
       "      <th>85233</th>\n",
       "      <td>546209</td>\n",
       "      <td>5</td>\n",
       "      <td>17</td>\n",
       "      <td>3416</td>\n",
       "      <td>406948</td>\n",
       "      <td>55.728046</td>\n",
       "      <td>37.567731</td>\n",
       "      <td>55.718679</td>\n",
       "      <td>37.576853</td>\n",
       "      <td>-1.000</td>\n",
       "      <td>-1.000</td>\n",
       "      <td>Economy</td>\n",
       "      <td>SMB</td>\n",
       "      <td>1</td>\n",
       "    </tr>\n",
       "    <tr>\n",
       "      <th>88692</th>\n",
       "      <td>1033539</td>\n",
       "      <td>4</td>\n",
       "      <td>22</td>\n",
       "      <td>1358</td>\n",
       "      <td>579479</td>\n",
       "      <td>55.964893</td>\n",
       "      <td>37.413543</td>\n",
       "      <td>55.962322</td>\n",
       "      <td>37.407117</td>\n",
       "      <td>43.201</td>\n",
       "      <td>50.683</td>\n",
       "      <td>Economy</td>\n",
       "      <td>SMB</td>\n",
       "      <td>0</td>\n",
       "    </tr>\n",
       "    <tr>\n",
       "      <th>89375</th>\n",
       "      <td>268316</td>\n",
       "      <td>3</td>\n",
       "      <td>23</td>\n",
       "      <td>1358</td>\n",
       "      <td>126932</td>\n",
       "      <td>55.964893</td>\n",
       "      <td>37.413543</td>\n",
       "      <td>55.962322</td>\n",
       "      <td>37.407117</td>\n",
       "      <td>51.891</td>\n",
       "      <td>53.517</td>\n",
       "      <td>Economy</td>\n",
       "      <td>SMB</td>\n",
       "      <td>0</td>\n",
       "    </tr>\n",
       "    <tr>\n",
       "      <th>90006</th>\n",
       "      <td>1091155</td>\n",
       "      <td>3</td>\n",
       "      <td>20</td>\n",
       "      <td>259</td>\n",
       "      <td>353513</td>\n",
       "      <td>55.717653</td>\n",
       "      <td>37.571924</td>\n",
       "      <td>55.717955</td>\n",
       "      <td>37.579622</td>\n",
       "      <td>-1.000</td>\n",
       "      <td>-1.000</td>\n",
       "      <td>Economy</td>\n",
       "      <td>SMB</td>\n",
       "      <td>1</td>\n",
       "    </tr>\n",
       "    <tr>\n",
       "      <th>95410</th>\n",
       "      <td>1103602</td>\n",
       "      <td>5</td>\n",
       "      <td>21</td>\n",
       "      <td>1126</td>\n",
       "      <td>895244</td>\n",
       "      <td>55.962987</td>\n",
       "      <td>37.413467</td>\n",
       "      <td>55.964892</td>\n",
       "      <td>37.413543</td>\n",
       "      <td>26.330</td>\n",
       "      <td>26.433</td>\n",
       "      <td>Economy</td>\n",
       "      <td>SMB</td>\n",
       "      <td>0</td>\n",
       "    </tr>\n",
       "    <tr>\n",
       "      <th>95438</th>\n",
       "      <td>536997</td>\n",
       "      <td>4</td>\n",
       "      <td>21</td>\n",
       "      <td>1126</td>\n",
       "      <td>555497</td>\n",
       "      <td>55.962987</td>\n",
       "      <td>37.413468</td>\n",
       "      <td>55.962322</td>\n",
       "      <td>37.407117</td>\n",
       "      <td>-1.000</td>\n",
       "      <td>-1.000</td>\n",
       "      <td>Standard</td>\n",
       "      <td>SMB</td>\n",
       "      <td>1</td>\n",
       "    </tr>\n",
       "    <tr>\n",
       "      <th>95656</th>\n",
       "      <td>292488</td>\n",
       "      <td>4</td>\n",
       "      <td>22</td>\n",
       "      <td>1126</td>\n",
       "      <td>579479</td>\n",
       "      <td>55.952110</td>\n",
       "      <td>37.415805</td>\n",
       "      <td>55.962322</td>\n",
       "      <td>37.407117</td>\n",
       "      <td>43.201</td>\n",
       "      <td>50.683</td>\n",
       "      <td>Economy</td>\n",
       "      <td>SMB</td>\n",
       "      <td>0</td>\n",
       "    </tr>\n",
       "    <tr>\n",
       "      <th>97421</th>\n",
       "      <td>474973</td>\n",
       "      <td>4</td>\n",
       "      <td>0</td>\n",
       "      <td>6302</td>\n",
       "      <td>665088</td>\n",
       "      <td>55.773701</td>\n",
       "      <td>37.591178</td>\n",
       "      <td>55.773730</td>\n",
       "      <td>37.591352</td>\n",
       "      <td>8.173</td>\n",
       "      <td>15.183</td>\n",
       "      <td>Economy</td>\n",
       "      <td>SMB</td>\n",
       "      <td>0</td>\n",
       "    </tr>\n",
       "  </tbody>\n",
       "</table>\n",
       "</div>"
      ],
      "text/plain": [
       "       offer_gk  weekday_key  hour_key  driver_gk  order_gk  driver_latitude  \\\n",
       "3181     515011            4        14       1514    573660        55.679113   \n",
       "7459     740895            4        18       1186    216586        55.828397   \n",
       "8660     455304            3        17       3303    360015        55.781449   \n",
       "13891    102542            3         9       6450    532434        55.686647   \n",
       "18054   1115050            5        13       4014    134774        55.678207   \n",
       "19067    495538            3        22       2221    671093        55.544830   \n",
       "21925    575946            6         1       2939    887084        55.666110   \n",
       "25651    386998            3        23       4100    126932        55.961238   \n",
       "26819    755014            3        23       1793    126932        55.962122   \n",
       "27226    319994            2         9       2381    611588        55.605225   \n",
       "34361    627493            3        16       3292    450654        55.764815   \n",
       "35271    157028            4         6       1944    378548        55.961722   \n",
       "41663    846558            5        21       1537    895244        55.966309   \n",
       "45541    601997            2        11        366    578212        55.611472   \n",
       "53376    979548            1        16       1472    337372        55.821148   \n",
       "53476    784000            4        14       1472    510417        55.725107   \n",
       "75601    837653            4        16       3719    567672        55.775663   \n",
       "80038    336773            3        13       5420    649263        55.677257   \n",
       "83710     46063            5        13       5578    488670        55.678126   \n",
       "85115    670825            5        17       3416    321263        55.726554   \n",
       "85233    546209            5        17       3416    406948        55.728046   \n",
       "88692   1033539            4        22       1358    579479        55.964893   \n",
       "89375    268316            3        23       1358    126932        55.964893   \n",
       "90006   1091155            3        20        259    353513        55.717653   \n",
       "95410   1103602            5        21       1126    895244        55.962987   \n",
       "95438    536997            4        21       1126    555497        55.962987   \n",
       "95656    292488            4        22       1126    579479        55.952110   \n",
       "97421    474973            4         0       6302    665088        55.773701   \n",
       "\n",
       "       driver_longitude  origin_order_latitude  origin_order_longitude  \\\n",
       "3181          37.563873              55.681456               37.560491   \n",
       "7459          37.763599              55.839510               37.746035   \n",
       "8660          37.697605              55.777739               37.698990   \n",
       "13891         37.572028              55.676650               37.559384   \n",
       "18054         37.580621              55.681456               37.560491   \n",
       "19067         37.563338              55.548082               37.534335   \n",
       "21925         37.484688              55.661958               37.476465   \n",
       "25651         37.413188              55.962322               37.407117   \n",
       "26819         37.409464              55.962322               37.407117   \n",
       "27226         37.286079              55.603777               37.290713   \n",
       "34361         37.617396              55.758634               37.623505   \n",
       "35271         37.405452              55.964892               37.413543   \n",
       "41663         37.415646              55.964892               37.413543   \n",
       "45541         37.603327              55.600402               37.600737   \n",
       "53376         37.649114              55.807437               37.628056   \n",
       "53476         37.571387              55.718679               37.576853   \n",
       "75601         37.697228              55.778897               37.690437   \n",
       "80038         37.549133              55.681456               37.560491   \n",
       "83710         37.574338              55.681456               37.560491   \n",
       "85115         37.560940              55.718679               37.576853   \n",
       "85233         37.567731              55.718679               37.576853   \n",
       "88692         37.413543              55.962322               37.407117   \n",
       "89375         37.413543              55.962322               37.407117   \n",
       "90006         37.571924              55.717955               37.579622   \n",
       "95410         37.413467              55.964892               37.413543   \n",
       "95438         37.413468              55.962322               37.407117   \n",
       "95656         37.415805              55.962322               37.407117   \n",
       "97421         37.591178              55.773730               37.591352   \n",
       "\n",
       "       distance_km  duration_min offer_class_group ride_type_desc  \\\n",
       "3181         5.593        17.517           Economy            SMB   \n",
       "7459        23.270        44.667           Economy            SMB   \n",
       "8660        -1.000        -1.000           Economy            SMB   \n",
       "13891       12.060        25.783           Economy            SMB   \n",
       "18054        5.300        17.033           Economy            SMB   \n",
       "19067       23.995        36.467           Economy            SMB   \n",
       "21925       15.449        21.600           Economy            SMB   \n",
       "25651       51.891        53.517           Economy            SMB   \n",
       "26819       51.891        53.517           Economy            SMB   \n",
       "27226       -1.000        -1.000           Economy            SMB   \n",
       "34361       -1.000        -1.000           Economy            SMB   \n",
       "35271       37.631        47.017           Economy            SMB   \n",
       "41663       26.330        26.433           Economy            SMB   \n",
       "45541       -1.000        -1.000           Economy            SMB   \n",
       "53376       -1.000        -1.000             Other            SMB   \n",
       "53476        9.622        17.483           Economy            SMB   \n",
       "75601       16.118        24.367           Economy            SMB   \n",
       "80038        5.593        17.700           Economy            SMB   \n",
       "83710        5.267        16.983           Economy            SMB   \n",
       "85115       -1.000        -1.000           Economy            SMB   \n",
       "85233       -1.000        -1.000           Economy            SMB   \n",
       "88692       43.201        50.683           Economy            SMB   \n",
       "89375       51.891        53.517           Economy            SMB   \n",
       "90006       -1.000        -1.000           Economy            SMB   \n",
       "95410       26.330        26.433           Economy            SMB   \n",
       "95438       -1.000        -1.000          Standard            SMB   \n",
       "95656       43.201        50.683           Economy            SMB   \n",
       "97421        8.173        15.183           Economy            SMB   \n",
       "\n",
       "       driver_response  \n",
       "3181                 1  \n",
       "7459                 1  \n",
       "8660                 1  \n",
       "13891                1  \n",
       "18054                1  \n",
       "19067                1  \n",
       "21925                1  \n",
       "25651                0  \n",
       "26819                0  \n",
       "27226                0  \n",
       "34361                1  \n",
       "35271                0  \n",
       "41663                0  \n",
       "45541                1  \n",
       "53376                1  \n",
       "53476                1  \n",
       "75601                1  \n",
       "80038                1  \n",
       "83710                1  \n",
       "85115                0  \n",
       "85233                1  \n",
       "88692                0  \n",
       "89375                0  \n",
       "90006                1  \n",
       "95410                0  \n",
       "95438                1  \n",
       "95656                0  \n",
       "97421                0  "
      ]
     },
     "execution_count": 27,
     "metadata": {},
     "output_type": "execute_result"
    }
   ],
   "source": [
    "data[data.ride_type_desc == 'SMB']"
   ]
  },
  {
   "cell_type": "markdown",
   "metadata": {},
   "source": [
    "- affiliate - партнерский заказ = business\n",
    "- SMB?"
   ]
  },
  {
   "cell_type": "code",
   "execution_count": 28,
   "metadata": {},
   "outputs": [
    {
     "data": {
      "text/plain": [
       "private     90892\n",
       "business     8784\n",
       "Name: ride_type_desc, dtype: int64"
      ]
     },
     "execution_count": 28,
     "metadata": {},
     "output_type": "execute_result"
    }
   ],
   "source": [
    "data.loc[data.ride_type_desc.isin(['affiliate', 'SMB']), 'ride_type_desc'] = 'business'\n",
    "data.ride_type_desc.value_counts()"
   ]
  },
  {
   "cell_type": "markdown",
   "metadata": {},
   "source": [
    "## 3. Обработка пропусков "
   ]
  },
  {
   "cell_type": "code",
   "execution_count": 29,
   "metadata": {},
   "outputs": [
    {
     "data": {
      "text/plain": [
       "0"
      ]
     },
     "execution_count": 29,
     "metadata": {},
     "output_type": "execute_result"
    }
   ],
   "source": [
    "data.duplicated().sum()"
   ]
  },
  {
   "cell_type": "code",
   "execution_count": 30,
   "metadata": {},
   "outputs": [
    {
     "data": {
      "text/plain": [
       "offer_gk                  0\n",
       "weekday_key               0\n",
       "hour_key                  0\n",
       "driver_gk                 0\n",
       "order_gk                  0\n",
       "driver_latitude           0\n",
       "driver_longitude          0\n",
       "origin_order_latitude     0\n",
       "origin_order_longitude    0\n",
       "distance_km               0\n",
       "duration_min              0\n",
       "offer_class_group         0\n",
       "ride_type_desc            0\n",
       "driver_response           0\n",
       "dtype: int64"
      ]
     },
     "execution_count": 30,
     "metadata": {},
     "output_type": "execute_result"
    }
   ],
   "source": [
    "data[data.isna()].count()"
   ]
  },
  {
   "cell_type": "markdown",
   "metadata": {},
   "source": [
    "- пропуски в датасете заданы через -1\n",
    "- неизвевстное расстояние и время поездки (== -1) приравнять к среднему"
   ]
  },
  {
   "cell_type": "code",
   "execution_count": 31,
   "metadata": {},
   "outputs": [
    {
     "data": {
      "text/html": [
       "<div>\n",
       "<style scoped>\n",
       "    .dataframe tbody tr th:only-of-type {\n",
       "        vertical-align: middle;\n",
       "    }\n",
       "\n",
       "    .dataframe tbody tr th {\n",
       "        vertical-align: top;\n",
       "    }\n",
       "\n",
       "    .dataframe thead th {\n",
       "        text-align: right;\n",
       "    }\n",
       "</style>\n",
       "<table border=\"1\" class=\"dataframe\">\n",
       "  <thead>\n",
       "    <tr style=\"text-align: right;\">\n",
       "      <th></th>\n",
       "      <th>distance_km</th>\n",
       "      <th>duration_min</th>\n",
       "    </tr>\n",
       "  </thead>\n",
       "  <tbody>\n",
       "    <tr>\n",
       "      <th>count</th>\n",
       "      <td>73477.000000</td>\n",
       "      <td>73477.000000</td>\n",
       "    </tr>\n",
       "    <tr>\n",
       "      <th>mean</th>\n",
       "      <td>24.458754</td>\n",
       "      <td>31.132730</td>\n",
       "    </tr>\n",
       "    <tr>\n",
       "      <th>std</th>\n",
       "      <td>19.552991</td>\n",
       "      <td>17.619597</td>\n",
       "    </tr>\n",
       "    <tr>\n",
       "      <th>min</th>\n",
       "      <td>0.505000</td>\n",
       "      <td>0.983000</td>\n",
       "    </tr>\n",
       "    <tr>\n",
       "      <th>25%</th>\n",
       "      <td>7.969000</td>\n",
       "      <td>16.633000</td>\n",
       "    </tr>\n",
       "    <tr>\n",
       "      <th>50%</th>\n",
       "      <td>18.647000</td>\n",
       "      <td>28.200000</td>\n",
       "    </tr>\n",
       "    <tr>\n",
       "      <th>75%</th>\n",
       "      <td>38.720000</td>\n",
       "      <td>44.333000</td>\n",
       "    </tr>\n",
       "    <tr>\n",
       "      <th>max</th>\n",
       "      <td>129.372000</td>\n",
       "      <td>139.500000</td>\n",
       "    </tr>\n",
       "  </tbody>\n",
       "</table>\n",
       "</div>"
      ],
      "text/plain": [
       "        distance_km  duration_min\n",
       "count  73477.000000  73477.000000\n",
       "mean      24.458754     31.132730\n",
       "std       19.552991     17.619597\n",
       "min        0.505000      0.983000\n",
       "25%        7.969000     16.633000\n",
       "50%       18.647000     28.200000\n",
       "75%       38.720000     44.333000\n",
       "max      129.372000    139.500000"
      ]
     },
     "metadata": {},
     "output_type": "display_data"
    }
   ],
   "source": [
    "display(data[data.distance_km > 0][['distance_km', 'duration_min']].describe())\n",
    "distance_mean = data[data.distance_km > 0].distance_km.mean()\n",
    "duration_mean = data[data.distance_km > 0].duration_min.mean()\n",
    "data.loc[data.distance_km < 0, 'distance_km'] = distance_mean\n",
    "data.loc[data.duration_min < 0, 'duration_min'] = duration_mean"
   ]
  },
  {
   "cell_type": "code",
   "execution_count": 32,
   "metadata": {},
   "outputs": [
    {
     "data": {
      "text/html": [
       "<div>\n",
       "<style scoped>\n",
       "    .dataframe tbody tr th:only-of-type {\n",
       "        vertical-align: middle;\n",
       "    }\n",
       "\n",
       "    .dataframe tbody tr th {\n",
       "        vertical-align: top;\n",
       "    }\n",
       "\n",
       "    .dataframe thead th {\n",
       "        text-align: right;\n",
       "    }\n",
       "</style>\n",
       "<table border=\"1\" class=\"dataframe\">\n",
       "  <thead>\n",
       "    <tr style=\"text-align: right;\">\n",
       "      <th></th>\n",
       "      <th>offer_gk</th>\n",
       "      <th>weekday_key</th>\n",
       "      <th>hour_key</th>\n",
       "      <th>driver_gk</th>\n",
       "      <th>order_gk</th>\n",
       "      <th>driver_latitude</th>\n",
       "      <th>driver_longitude</th>\n",
       "      <th>origin_order_latitude</th>\n",
       "      <th>origin_order_longitude</th>\n",
       "      <th>distance_km</th>\n",
       "      <th>duration_min</th>\n",
       "      <th>offer_class_group</th>\n",
       "      <th>ride_type_desc</th>\n",
       "      <th>driver_response</th>\n",
       "    </tr>\n",
       "  </thead>\n",
       "  <tbody>\n",
       "    <tr>\n",
       "      <th>565</th>\n",
       "      <td>638186</td>\n",
       "      <td>5</td>\n",
       "      <td>14</td>\n",
       "      <td>6272</td>\n",
       "      <td>817074</td>\n",
       "      <td>-1.0</td>\n",
       "      <td>-1.0</td>\n",
       "      <td>55.908664</td>\n",
       "      <td>37.597781</td>\n",
       "      <td>24.458754</td>\n",
       "      <td>31.13273</td>\n",
       "      <td>Standard</td>\n",
       "      <td>business</td>\n",
       "      <td>1</td>\n",
       "    </tr>\n",
       "    <tr>\n",
       "      <th>2111</th>\n",
       "      <td>567790</td>\n",
       "      <td>1</td>\n",
       "      <td>12</td>\n",
       "      <td>6792</td>\n",
       "      <td>820788</td>\n",
       "      <td>-1.0</td>\n",
       "      <td>-1.0</td>\n",
       "      <td>55.415361</td>\n",
       "      <td>37.898917</td>\n",
       "      <td>24.458754</td>\n",
       "      <td>31.13273</td>\n",
       "      <td>Standard</td>\n",
       "      <td>business</td>\n",
       "      <td>1</td>\n",
       "    </tr>\n",
       "    <tr>\n",
       "      <th>2129</th>\n",
       "      <td>302376</td>\n",
       "      <td>1</td>\n",
       "      <td>1</td>\n",
       "      <td>6792</td>\n",
       "      <td>548327</td>\n",
       "      <td>-1.0</td>\n",
       "      <td>-1.0</td>\n",
       "      <td>55.415361</td>\n",
       "      <td>37.898917</td>\n",
       "      <td>83.923000</td>\n",
       "      <td>81.35000</td>\n",
       "      <td>Standard</td>\n",
       "      <td>business</td>\n",
       "      <td>1</td>\n",
       "    </tr>\n",
       "    <tr>\n",
       "      <th>2137</th>\n",
       "      <td>427612</td>\n",
       "      <td>6</td>\n",
       "      <td>21</td>\n",
       "      <td>6792</td>\n",
       "      <td>32158</td>\n",
       "      <td>-1.0</td>\n",
       "      <td>-1.0</td>\n",
       "      <td>55.415361</td>\n",
       "      <td>37.898917</td>\n",
       "      <td>24.458754</td>\n",
       "      <td>31.13273</td>\n",
       "      <td>Standard</td>\n",
       "      <td>business</td>\n",
       "      <td>1</td>\n",
       "    </tr>\n",
       "    <tr>\n",
       "      <th>2142</th>\n",
       "      <td>202875</td>\n",
       "      <td>6</td>\n",
       "      <td>3</td>\n",
       "      <td>6792</td>\n",
       "      <td>346671</td>\n",
       "      <td>-1.0</td>\n",
       "      <td>-1.0</td>\n",
       "      <td>55.415361</td>\n",
       "      <td>37.898917</td>\n",
       "      <td>70.529000</td>\n",
       "      <td>65.00000</td>\n",
       "      <td>Standard</td>\n",
       "      <td>business</td>\n",
       "      <td>1</td>\n",
       "    </tr>\n",
       "    <tr>\n",
       "      <th>...</th>\n",
       "      <td>...</td>\n",
       "      <td>...</td>\n",
       "      <td>...</td>\n",
       "      <td>...</td>\n",
       "      <td>...</td>\n",
       "      <td>...</td>\n",
       "      <td>...</td>\n",
       "      <td>...</td>\n",
       "      <td>...</td>\n",
       "      <td>...</td>\n",
       "      <td>...</td>\n",
       "      <td>...</td>\n",
       "      <td>...</td>\n",
       "      <td>...</td>\n",
       "    </tr>\n",
       "    <tr>\n",
       "      <th>81694</th>\n",
       "      <td>698969</td>\n",
       "      <td>6</td>\n",
       "      <td>6</td>\n",
       "      <td>2470</td>\n",
       "      <td>862514</td>\n",
       "      <td>-1.0</td>\n",
       "      <td>-1.0</td>\n",
       "      <td>55.699097</td>\n",
       "      <td>37.317988</td>\n",
       "      <td>41.576000</td>\n",
       "      <td>43.55000</td>\n",
       "      <td>Standard</td>\n",
       "      <td>private</td>\n",
       "      <td>1</td>\n",
       "    </tr>\n",
       "    <tr>\n",
       "      <th>83631</th>\n",
       "      <td>1077757</td>\n",
       "      <td>1</td>\n",
       "      <td>7</td>\n",
       "      <td>5578</td>\n",
       "      <td>62551</td>\n",
       "      <td>-1.0</td>\n",
       "      <td>-1.0</td>\n",
       "      <td>55.600737</td>\n",
       "      <td>37.539690</td>\n",
       "      <td>24.458754</td>\n",
       "      <td>31.13273</td>\n",
       "      <td>Other</td>\n",
       "      <td>business</td>\n",
       "      <td>1</td>\n",
       "    </tr>\n",
       "    <tr>\n",
       "      <th>85335</th>\n",
       "      <td>75929</td>\n",
       "      <td>5</td>\n",
       "      <td>14</td>\n",
       "      <td>468</td>\n",
       "      <td>776944</td>\n",
       "      <td>-1.0</td>\n",
       "      <td>-1.0</td>\n",
       "      <td>55.387756</td>\n",
       "      <td>37.549058</td>\n",
       "      <td>24.458754</td>\n",
       "      <td>31.13273</td>\n",
       "      <td>Standard</td>\n",
       "      <td>business</td>\n",
       "      <td>1</td>\n",
       "    </tr>\n",
       "    <tr>\n",
       "      <th>89970</th>\n",
       "      <td>1110601</td>\n",
       "      <td>6</td>\n",
       "      <td>13</td>\n",
       "      <td>259</td>\n",
       "      <td>135435</td>\n",
       "      <td>-1.0</td>\n",
       "      <td>-1.0</td>\n",
       "      <td>55.962322</td>\n",
       "      <td>37.407117</td>\n",
       "      <td>24.458754</td>\n",
       "      <td>31.13273</td>\n",
       "      <td>Standard</td>\n",
       "      <td>business</td>\n",
       "      <td>1</td>\n",
       "    </tr>\n",
       "    <tr>\n",
       "      <th>92814</th>\n",
       "      <td>1033564</td>\n",
       "      <td>5</td>\n",
       "      <td>13</td>\n",
       "      <td>4850</td>\n",
       "      <td>322984</td>\n",
       "      <td>-1.0</td>\n",
       "      <td>-1.0</td>\n",
       "      <td>55.996121</td>\n",
       "      <td>37.381657</td>\n",
       "      <td>24.458754</td>\n",
       "      <td>31.13273</td>\n",
       "      <td>Standard</td>\n",
       "      <td>business</td>\n",
       "      <td>1</td>\n",
       "    </tr>\n",
       "  </tbody>\n",
       "</table>\n",
       "<p>140 rows × 14 columns</p>\n",
       "</div>"
      ],
      "text/plain": [
       "       offer_gk  weekday_key  hour_key  driver_gk  order_gk  driver_latitude  \\\n",
       "565      638186            5        14       6272    817074             -1.0   \n",
       "2111     567790            1        12       6792    820788             -1.0   \n",
       "2129     302376            1         1       6792    548327             -1.0   \n",
       "2137     427612            6        21       6792     32158             -1.0   \n",
       "2142     202875            6         3       6792    346671             -1.0   \n",
       "...         ...          ...       ...        ...       ...              ...   \n",
       "81694    698969            6         6       2470    862514             -1.0   \n",
       "83631   1077757            1         7       5578     62551             -1.0   \n",
       "85335     75929            5        14        468    776944             -1.0   \n",
       "89970   1110601            6        13        259    135435             -1.0   \n",
       "92814   1033564            5        13       4850    322984             -1.0   \n",
       "\n",
       "       driver_longitude  origin_order_latitude  origin_order_longitude  \\\n",
       "565                -1.0              55.908664               37.597781   \n",
       "2111               -1.0              55.415361               37.898917   \n",
       "2129               -1.0              55.415361               37.898917   \n",
       "2137               -1.0              55.415361               37.898917   \n",
       "2142               -1.0              55.415361               37.898917   \n",
       "...                 ...                    ...                     ...   \n",
       "81694              -1.0              55.699097               37.317988   \n",
       "83631              -1.0              55.600737               37.539690   \n",
       "85335              -1.0              55.387756               37.549058   \n",
       "89970              -1.0              55.962322               37.407117   \n",
       "92814              -1.0              55.996121               37.381657   \n",
       "\n",
       "       distance_km  duration_min offer_class_group ride_type_desc  \\\n",
       "565      24.458754      31.13273          Standard       business   \n",
       "2111     24.458754      31.13273          Standard       business   \n",
       "2129     83.923000      81.35000          Standard       business   \n",
       "2137     24.458754      31.13273          Standard       business   \n",
       "2142     70.529000      65.00000          Standard       business   \n",
       "...            ...           ...               ...            ...   \n",
       "81694    41.576000      43.55000          Standard        private   \n",
       "83631    24.458754      31.13273             Other       business   \n",
       "85335    24.458754      31.13273          Standard       business   \n",
       "89970    24.458754      31.13273          Standard       business   \n",
       "92814    24.458754      31.13273          Standard       business   \n",
       "\n",
       "       driver_response  \n",
       "565                  1  \n",
       "2111                 1  \n",
       "2129                 1  \n",
       "2137                 1  \n",
       "2142                 1  \n",
       "...                ...  \n",
       "81694                1  \n",
       "83631                1  \n",
       "85335                1  \n",
       "89970                1  \n",
       "92814                1  \n",
       "\n",
       "[140 rows x 14 columns]"
      ]
     },
     "execution_count": 32,
     "metadata": {},
     "output_type": "execute_result"
    }
   ],
   "source": [
    "data[data.driver_latitude < 0]"
   ]
  },
  {
   "cell_type": "code",
   "execution_count": 33,
   "metadata": {},
   "outputs": [
    {
     "data": {
      "text/html": [
       "<div>\n",
       "<style scoped>\n",
       "    .dataframe tbody tr th:only-of-type {\n",
       "        vertical-align: middle;\n",
       "    }\n",
       "\n",
       "    .dataframe tbody tr th {\n",
       "        vertical-align: top;\n",
       "    }\n",
       "\n",
       "    .dataframe thead th {\n",
       "        text-align: right;\n",
       "    }\n",
       "</style>\n",
       "<table border=\"1\" class=\"dataframe\">\n",
       "  <thead>\n",
       "    <tr style=\"text-align: right;\">\n",
       "      <th></th>\n",
       "      <th>offer_gk</th>\n",
       "      <th>weekday_key</th>\n",
       "      <th>hour_key</th>\n",
       "      <th>driver_gk</th>\n",
       "      <th>order_gk</th>\n",
       "      <th>driver_latitude</th>\n",
       "      <th>driver_longitude</th>\n",
       "      <th>origin_order_latitude</th>\n",
       "      <th>origin_order_longitude</th>\n",
       "      <th>distance_km</th>\n",
       "      <th>duration_min</th>\n",
       "      <th>offer_class_group</th>\n",
       "      <th>ride_type_desc</th>\n",
       "      <th>driver_response</th>\n",
       "    </tr>\n",
       "  </thead>\n",
       "  <tbody>\n",
       "    <tr>\n",
       "      <th>1687</th>\n",
       "      <td>760201</td>\n",
       "      <td>6</td>\n",
       "      <td>17</td>\n",
       "      <td>1479</td>\n",
       "      <td>217451</td>\n",
       "      <td>55.730637</td>\n",
       "      <td>37.491326</td>\n",
       "      <td>-1.0</td>\n",
       "      <td>-1.0</td>\n",
       "      <td>2.942000</td>\n",
       "      <td>6.30000</td>\n",
       "      <td>Economy</td>\n",
       "      <td>private</td>\n",
       "      <td>1</td>\n",
       "    </tr>\n",
       "    <tr>\n",
       "      <th>9407</th>\n",
       "      <td>729617</td>\n",
       "      <td>1</td>\n",
       "      <td>21</td>\n",
       "      <td>1835</td>\n",
       "      <td>404650</td>\n",
       "      <td>55.484133</td>\n",
       "      <td>37.850971</td>\n",
       "      <td>-1.0</td>\n",
       "      <td>-1.0</td>\n",
       "      <td>24.458754</td>\n",
       "      <td>31.13273</td>\n",
       "      <td>Standard</td>\n",
       "      <td>private</td>\n",
       "      <td>0</td>\n",
       "    </tr>\n",
       "    <tr>\n",
       "      <th>43328</th>\n",
       "      <td>1033378</td>\n",
       "      <td>3</td>\n",
       "      <td>10</td>\n",
       "      <td>5586</td>\n",
       "      <td>386108</td>\n",
       "      <td>55.762383</td>\n",
       "      <td>37.772572</td>\n",
       "      <td>-1.0</td>\n",
       "      <td>-1.0</td>\n",
       "      <td>14.127000</td>\n",
       "      <td>21.43300</td>\n",
       "      <td>Economy</td>\n",
       "      <td>private</td>\n",
       "      <td>1</td>\n",
       "    </tr>\n",
       "    <tr>\n",
       "      <th>43688</th>\n",
       "      <td>299807</td>\n",
       "      <td>3</td>\n",
       "      <td>18</td>\n",
       "      <td>14</td>\n",
       "      <td>69484</td>\n",
       "      <td>55.640164</td>\n",
       "      <td>37.534014</td>\n",
       "      <td>-1.0</td>\n",
       "      <td>-1.0</td>\n",
       "      <td>9.998000</td>\n",
       "      <td>22.13300</td>\n",
       "      <td>Standard</td>\n",
       "      <td>private</td>\n",
       "      <td>1</td>\n",
       "    </tr>\n",
       "    <tr>\n",
       "      <th>51365</th>\n",
       "      <td>833482</td>\n",
       "      <td>0</td>\n",
       "      <td>20</td>\n",
       "      <td>75</td>\n",
       "      <td>782429</td>\n",
       "      <td>55.619920</td>\n",
       "      <td>37.395172</td>\n",
       "      <td>-1.0</td>\n",
       "      <td>-1.0</td>\n",
       "      <td>28.607000</td>\n",
       "      <td>32.96700</td>\n",
       "      <td>Economy</td>\n",
       "      <td>private</td>\n",
       "      <td>0</td>\n",
       "    </tr>\n",
       "    <tr>\n",
       "      <th>56004</th>\n",
       "      <td>1009826</td>\n",
       "      <td>3</td>\n",
       "      <td>19</td>\n",
       "      <td>4185</td>\n",
       "      <td>247078</td>\n",
       "      <td>55.758792</td>\n",
       "      <td>37.749308</td>\n",
       "      <td>-1.0</td>\n",
       "      <td>-1.0</td>\n",
       "      <td>11.281000</td>\n",
       "      <td>21.16700</td>\n",
       "      <td>Economy</td>\n",
       "      <td>private</td>\n",
       "      <td>1</td>\n",
       "    </tr>\n",
       "    <tr>\n",
       "      <th>58769</th>\n",
       "      <td>212838</td>\n",
       "      <td>2</td>\n",
       "      <td>7</td>\n",
       "      <td>6304</td>\n",
       "      <td>542162</td>\n",
       "      <td>55.638462</td>\n",
       "      <td>37.335678</td>\n",
       "      <td>-1.0</td>\n",
       "      <td>-1.0</td>\n",
       "      <td>48.557000</td>\n",
       "      <td>47.30000</td>\n",
       "      <td>Economy</td>\n",
       "      <td>private</td>\n",
       "      <td>0</td>\n",
       "    </tr>\n",
       "    <tr>\n",
       "      <th>60245</th>\n",
       "      <td>753313</td>\n",
       "      <td>1</td>\n",
       "      <td>16</td>\n",
       "      <td>1168</td>\n",
       "      <td>583148</td>\n",
       "      <td>55.984804</td>\n",
       "      <td>37.159184</td>\n",
       "      <td>-1.0</td>\n",
       "      <td>-1.0</td>\n",
       "      <td>24.458754</td>\n",
       "      <td>31.13273</td>\n",
       "      <td>Economy</td>\n",
       "      <td>private</td>\n",
       "      <td>1</td>\n",
       "    </tr>\n",
       "    <tr>\n",
       "      <th>64117</th>\n",
       "      <td>936069</td>\n",
       "      <td>5</td>\n",
       "      <td>15</td>\n",
       "      <td>737</td>\n",
       "      <td>139197</td>\n",
       "      <td>55.753351</td>\n",
       "      <td>37.667157</td>\n",
       "      <td>-1.0</td>\n",
       "      <td>-1.0</td>\n",
       "      <td>2.252000</td>\n",
       "      <td>7.40000</td>\n",
       "      <td>Standard</td>\n",
       "      <td>private</td>\n",
       "      <td>1</td>\n",
       "    </tr>\n",
       "    <tr>\n",
       "      <th>64694</th>\n",
       "      <td>1095202</td>\n",
       "      <td>3</td>\n",
       "      <td>20</td>\n",
       "      <td>5669</td>\n",
       "      <td>659570</td>\n",
       "      <td>55.741113</td>\n",
       "      <td>37.618121</td>\n",
       "      <td>-1.0</td>\n",
       "      <td>-1.0</td>\n",
       "      <td>7.199000</td>\n",
       "      <td>20.20000</td>\n",
       "      <td>Premium</td>\n",
       "      <td>private</td>\n",
       "      <td>1</td>\n",
       "    </tr>\n",
       "    <tr>\n",
       "      <th>67170</th>\n",
       "      <td>638165</td>\n",
       "      <td>5</td>\n",
       "      <td>16</td>\n",
       "      <td>4567</td>\n",
       "      <td>354669</td>\n",
       "      <td>55.770791</td>\n",
       "      <td>37.511972</td>\n",
       "      <td>-1.0</td>\n",
       "      <td>-1.0</td>\n",
       "      <td>13.997000</td>\n",
       "      <td>27.71700</td>\n",
       "      <td>Standard</td>\n",
       "      <td>private</td>\n",
       "      <td>1</td>\n",
       "    </tr>\n",
       "    <tr>\n",
       "      <th>92696</th>\n",
       "      <td>599516</td>\n",
       "      <td>5</td>\n",
       "      <td>15</td>\n",
       "      <td>4850</td>\n",
       "      <td>376650</td>\n",
       "      <td>55.786988</td>\n",
       "      <td>37.615918</td>\n",
       "      <td>-1.0</td>\n",
       "      <td>-1.0</td>\n",
       "      <td>3.504000</td>\n",
       "      <td>12.51700</td>\n",
       "      <td>Economy</td>\n",
       "      <td>private</td>\n",
       "      <td>0</td>\n",
       "    </tr>\n",
       "    <tr>\n",
       "      <th>99178</th>\n",
       "      <td>531698</td>\n",
       "      <td>5</td>\n",
       "      <td>15</td>\n",
       "      <td>2442</td>\n",
       "      <td>139197</td>\n",
       "      <td>55.758865</td>\n",
       "      <td>37.657849</td>\n",
       "      <td>-1.0</td>\n",
       "      <td>-1.0</td>\n",
       "      <td>2.252000</td>\n",
       "      <td>7.40000</td>\n",
       "      <td>Standard</td>\n",
       "      <td>private</td>\n",
       "      <td>0</td>\n",
       "    </tr>\n",
       "  </tbody>\n",
       "</table>\n",
       "</div>"
      ],
      "text/plain": [
       "       offer_gk  weekday_key  hour_key  driver_gk  order_gk  driver_latitude  \\\n",
       "1687     760201            6        17       1479    217451        55.730637   \n",
       "9407     729617            1        21       1835    404650        55.484133   \n",
       "43328   1033378            3        10       5586    386108        55.762383   \n",
       "43688    299807            3        18         14     69484        55.640164   \n",
       "51365    833482            0        20         75    782429        55.619920   \n",
       "56004   1009826            3        19       4185    247078        55.758792   \n",
       "58769    212838            2         7       6304    542162        55.638462   \n",
       "60245    753313            1        16       1168    583148        55.984804   \n",
       "64117    936069            5        15        737    139197        55.753351   \n",
       "64694   1095202            3        20       5669    659570        55.741113   \n",
       "67170    638165            5        16       4567    354669        55.770791   \n",
       "92696    599516            5        15       4850    376650        55.786988   \n",
       "99178    531698            5        15       2442    139197        55.758865   \n",
       "\n",
       "       driver_longitude  origin_order_latitude  origin_order_longitude  \\\n",
       "1687          37.491326                   -1.0                    -1.0   \n",
       "9407          37.850971                   -1.0                    -1.0   \n",
       "43328         37.772572                   -1.0                    -1.0   \n",
       "43688         37.534014                   -1.0                    -1.0   \n",
       "51365         37.395172                   -1.0                    -1.0   \n",
       "56004         37.749308                   -1.0                    -1.0   \n",
       "58769         37.335678                   -1.0                    -1.0   \n",
       "60245         37.159184                   -1.0                    -1.0   \n",
       "64117         37.667157                   -1.0                    -1.0   \n",
       "64694         37.618121                   -1.0                    -1.0   \n",
       "67170         37.511972                   -1.0                    -1.0   \n",
       "92696         37.615918                   -1.0                    -1.0   \n",
       "99178         37.657849                   -1.0                    -1.0   \n",
       "\n",
       "       distance_km  duration_min offer_class_group ride_type_desc  \\\n",
       "1687      2.942000       6.30000           Economy        private   \n",
       "9407     24.458754      31.13273          Standard        private   \n",
       "43328    14.127000      21.43300           Economy        private   \n",
       "43688     9.998000      22.13300          Standard        private   \n",
       "51365    28.607000      32.96700           Economy        private   \n",
       "56004    11.281000      21.16700           Economy        private   \n",
       "58769    48.557000      47.30000           Economy        private   \n",
       "60245    24.458754      31.13273           Economy        private   \n",
       "64117     2.252000       7.40000          Standard        private   \n",
       "64694     7.199000      20.20000           Premium        private   \n",
       "67170    13.997000      27.71700          Standard        private   \n",
       "92696     3.504000      12.51700           Economy        private   \n",
       "99178     2.252000       7.40000          Standard        private   \n",
       "\n",
       "       driver_response  \n",
       "1687                 1  \n",
       "9407                 0  \n",
       "43328                1  \n",
       "43688                1  \n",
       "51365                0  \n",
       "56004                1  \n",
       "58769                0  \n",
       "60245                1  \n",
       "64117                1  \n",
       "64694                1  \n",
       "67170                1  \n",
       "92696                0  \n",
       "99178                0  "
      ]
     },
     "execution_count": 33,
     "metadata": {},
     "output_type": "execute_result"
    }
   ],
   "source": [
    "data[data.origin_order_latitude < 0]"
   ]
  },
  {
   "cell_type": "markdown",
   "metadata": {},
   "source": [
    "- удалить строки с отсутствующими данными по местонахождению такси или клиента"
   ]
  },
  {
   "cell_type": "code",
   "execution_count": 34,
   "metadata": {},
   "outputs": [],
   "source": [
    "data = data[data.origin_order_latitude > 0]\n",
    "data = data[data.driver_latitude > 0]"
   ]
  },
  {
   "cell_type": "code",
   "execution_count": 35,
   "metadata": {},
   "outputs": [
    {
     "data": {
      "text/html": [
       "<div>\n",
       "<style scoped>\n",
       "    .dataframe tbody tr th:only-of-type {\n",
       "        vertical-align: middle;\n",
       "    }\n",
       "\n",
       "    .dataframe tbody tr th {\n",
       "        vertical-align: top;\n",
       "    }\n",
       "\n",
       "    .dataframe thead th {\n",
       "        text-align: right;\n",
       "    }\n",
       "</style>\n",
       "<table border=\"1\" class=\"dataframe\">\n",
       "  <thead>\n",
       "    <tr style=\"text-align: right;\">\n",
       "      <th></th>\n",
       "      <th>offer_gk</th>\n",
       "      <th>weekday_key</th>\n",
       "      <th>hour_key</th>\n",
       "      <th>driver_gk</th>\n",
       "      <th>order_gk</th>\n",
       "      <th>driver_latitude</th>\n",
       "      <th>driver_longitude</th>\n",
       "      <th>origin_order_latitude</th>\n",
       "      <th>origin_order_longitude</th>\n",
       "      <th>distance_km</th>\n",
       "      <th>duration_min</th>\n",
       "      <th>driver_response</th>\n",
       "    </tr>\n",
       "  </thead>\n",
       "  <tbody>\n",
       "    <tr>\n",
       "      <th>count</th>\n",
       "      <td>9.952200e+04</td>\n",
       "      <td>99522.000000</td>\n",
       "      <td>99522.000000</td>\n",
       "      <td>99522.000000</td>\n",
       "      <td>99522.000000</td>\n",
       "      <td>99522.000000</td>\n",
       "      <td>99522.000000</td>\n",
       "      <td>99522.000000</td>\n",
       "      <td>99522.000000</td>\n",
       "      <td>99522.000000</td>\n",
       "      <td>99522.000000</td>\n",
       "      <td>99522.000000</td>\n",
       "    </tr>\n",
       "    <tr>\n",
       "      <th>mean</th>\n",
       "      <td>5.661311e+05</td>\n",
       "      <td>3.160005</td>\n",
       "      <td>13.831253</td>\n",
       "      <td>3444.702207</td>\n",
       "      <td>460910.110147</td>\n",
       "      <td>55.780952</td>\n",
       "      <td>37.546526</td>\n",
       "      <td>55.780264</td>\n",
       "      <td>37.546206</td>\n",
       "      <td>24.454716</td>\n",
       "      <td>31.129338</td>\n",
       "      <td>0.491590</td>\n",
       "    </tr>\n",
       "    <tr>\n",
       "      <th>std</th>\n",
       "      <td>3.259476e+05</td>\n",
       "      <td>2.054287</td>\n",
       "      <td>7.306149</td>\n",
       "      <td>2038.661786</td>\n",
       "      <td>266072.961996</td>\n",
       "      <td>0.153825</td>\n",
       "      <td>0.156982</td>\n",
       "      <td>0.156079</td>\n",
       "      <td>0.159810</td>\n",
       "      <td>16.791585</td>\n",
       "      <td>15.132282</td>\n",
       "      <td>0.499932</td>\n",
       "    </tr>\n",
       "    <tr>\n",
       "      <th>min</th>\n",
       "      <td>4.000000e+00</td>\n",
       "      <td>0.000000</td>\n",
       "      <td>0.000000</td>\n",
       "      <td>14.000000</td>\n",
       "      <td>18.000000</td>\n",
       "      <td>55.327636</td>\n",
       "      <td>36.984771</td>\n",
       "      <td>55.327917</td>\n",
       "      <td>36.994072</td>\n",
       "      <td>0.505000</td>\n",
       "      <td>0.983000</td>\n",
       "      <td>0.000000</td>\n",
       "    </tr>\n",
       "    <tr>\n",
       "      <th>25%</th>\n",
       "      <td>2.854350e+05</td>\n",
       "      <td>1.000000</td>\n",
       "      <td>8.000000</td>\n",
       "      <td>1421.000000</td>\n",
       "      <td>229173.500000</td>\n",
       "      <td>55.709316</td>\n",
       "      <td>37.413497</td>\n",
       "      <td>55.708576</td>\n",
       "      <td>37.407117</td>\n",
       "      <td>11.039250</td>\n",
       "      <td>20.467000</td>\n",
       "      <td>0.000000</td>\n",
       "    </tr>\n",
       "    <tr>\n",
       "      <th>50%</th>\n",
       "      <td>5.655090e+05</td>\n",
       "      <td>3.000000</td>\n",
       "      <td>16.000000</td>\n",
       "      <td>3506.000000</td>\n",
       "      <td>462534.000000</td>\n",
       "      <td>55.773134</td>\n",
       "      <td>37.533823</td>\n",
       "      <td>55.772749</td>\n",
       "      <td>37.532104</td>\n",
       "      <td>24.458754</td>\n",
       "      <td>31.132730</td>\n",
       "      <td>0.000000</td>\n",
       "    </tr>\n",
       "    <tr>\n",
       "      <th>75%</th>\n",
       "      <td>8.486658e+05</td>\n",
       "      <td>5.000000</td>\n",
       "      <td>20.000000</td>\n",
       "      <td>5242.000000</td>\n",
       "      <td>690894.000000</td>\n",
       "      <td>55.960729</td>\n",
       "      <td>37.624115</td>\n",
       "      <td>55.962043</td>\n",
       "      <td>37.623947</td>\n",
       "      <td>30.666000</td>\n",
       "      <td>37.867000</td>\n",
       "      <td>1.000000</td>\n",
       "    </tr>\n",
       "    <tr>\n",
       "      <th>max</th>\n",
       "      <td>1.130355e+06</td>\n",
       "      <td>6.000000</td>\n",
       "      <td>23.000000</td>\n",
       "      <td>6806.000000</td>\n",
       "      <td>920344.000000</td>\n",
       "      <td>56.174097</td>\n",
       "      <td>38.280547</td>\n",
       "      <td>56.172361</td>\n",
       "      <td>38.243608</td>\n",
       "      <td>129.372000</td>\n",
       "      <td>139.500000</td>\n",
       "      <td>1.000000</td>\n",
       "    </tr>\n",
       "  </tbody>\n",
       "</table>\n",
       "</div>"
      ],
      "text/plain": [
       "           offer_gk   weekday_key      hour_key     driver_gk       order_gk  \\\n",
       "count  9.952200e+04  99522.000000  99522.000000  99522.000000   99522.000000   \n",
       "mean   5.661311e+05      3.160005     13.831253   3444.702207  460910.110147   \n",
       "std    3.259476e+05      2.054287      7.306149   2038.661786  266072.961996   \n",
       "min    4.000000e+00      0.000000      0.000000     14.000000      18.000000   \n",
       "25%    2.854350e+05      1.000000      8.000000   1421.000000  229173.500000   \n",
       "50%    5.655090e+05      3.000000     16.000000   3506.000000  462534.000000   \n",
       "75%    8.486658e+05      5.000000     20.000000   5242.000000  690894.000000   \n",
       "max    1.130355e+06      6.000000     23.000000   6806.000000  920344.000000   \n",
       "\n",
       "       driver_latitude  driver_longitude  origin_order_latitude  \\\n",
       "count     99522.000000      99522.000000           99522.000000   \n",
       "mean         55.780952         37.546526              55.780264   \n",
       "std           0.153825          0.156982               0.156079   \n",
       "min          55.327636         36.984771              55.327917   \n",
       "25%          55.709316         37.413497              55.708576   \n",
       "50%          55.773134         37.533823              55.772749   \n",
       "75%          55.960729         37.624115              55.962043   \n",
       "max          56.174097         38.280547              56.172361   \n",
       "\n",
       "       origin_order_longitude   distance_km  duration_min  driver_response  \n",
       "count            99522.000000  99522.000000  99522.000000     99522.000000  \n",
       "mean                37.546206     24.454716     31.129338         0.491590  \n",
       "std                  0.159810     16.791585     15.132282         0.499932  \n",
       "min                 36.994072      0.505000      0.983000         0.000000  \n",
       "25%                 37.407117     11.039250     20.467000         0.000000  \n",
       "50%                 37.532104     24.458754     31.132730         0.000000  \n",
       "75%                 37.623947     30.666000     37.867000         1.000000  \n",
       "max                 38.243608    129.372000    139.500000         1.000000  "
      ]
     },
     "execution_count": 35,
     "metadata": {},
     "output_type": "execute_result"
    }
   ],
   "source": [
    "data.describe()"
   ]
  },
  {
   "cell_type": "markdown",
   "metadata": {},
   "source": [
    "## 4. Оценка зависимостей между переменными   "
   ]
  },
  {
   "cell_type": "code",
   "execution_count": 36,
   "metadata": {},
   "outputs": [],
   "source": [
    "# sns.pairplot(data)"
   ]
  },
  {
   "cell_type": "code",
   "execution_count": 37,
   "metadata": {},
   "outputs": [
    {
     "data": {
      "text/plain": [
       "<matplotlib.axes._subplots.AxesSubplot at 0x1b5c2341e48>"
      ]
     },
     "execution_count": 37,
     "metadata": {},
     "output_type": "execute_result"
    },
    {
     "data": {
      "image/png": "[encoded data removed]",
      "text/plain": [
       "<Figure size 936x936 with 2 Axes>"
      ]
     },
     "metadata": {
      "needs_background": "light"
     },
     "output_type": "display_data"
    }
   ],
   "source": [
    "f, ax = plt.subplots(figsize=(13, 13))\n",
    "corr = np.round_(data.corr(), decimals=2)\n",
    "sns.heatmap(corr,annot=True,cmap='RdYlGn',linewidths=0.2)"
   ]
  },
  {
   "cell_type": "markdown",
   "metadata": {},
   "source": [
    "- \"корреляция\" между координатами \n",
    "- корреляция между расстоянием и длительностью поездки - очевидно есть, один из показателей (длительность) можно убрать. Может быть полезным из длительности извлечь показатель, показывающий превышение длительности на километр (пробки, сложная дорога) на средним значением, или просто скорость"
   ]
  },
  {
   "cell_type": "code",
   "execution_count": 38,
   "metadata": {},
   "outputs": [
    {
     "name": "stdout",
     "output_type": "stream",
     "text": [
      "Корреляция Кендалла: коэф-т 0.8428668768775252 , p-value 0.0\n"
     ]
    },
    {
     "data": {
      "text/plain": [
       "<matplotlib.axes._subplots.AxesSubplot at 0x1b5c23b2b48>"
      ]
     },
     "execution_count": 38,
     "metadata": {},
     "output_type": "execute_result"
    },
    {
     "data": {
      "image/png": "[encoded data removed]",
      "text/plain": [
       "<Figure size 432x288 with 1 Axes>"
      ]
     },
     "metadata": {
      "needs_background": "light"
     },
     "output_type": "display_data"
    }
   ],
   "source": [
    "corr, p_value = sts.kendalltau(data.distance_km, data.duration_min)\n",
    "print('Корреляция Кендалла: коэф-т', corr,', p-value', p_value)\n",
    "sns.regplot(x=data.distance_km, y=data.duration_min, fit_reg=True,marker=\".\")"
   ]
  },
  {
   "cell_type": "code",
   "execution_count": 39,
   "metadata": {},
   "outputs": [
    {
     "data": {
      "text/plain": [
       "count    99522.000000\n",
       "mean         0.707784\n",
       "std          0.218477\n",
       "min          0.135333\n",
       "25%          0.536634\n",
       "50%          0.785628\n",
       "75%          0.825793\n",
       "max          1.474560\n",
       "Name: speed, dtype: float64"
      ]
     },
     "execution_count": 39,
     "metadata": {},
     "output_type": "execute_result"
    },
    {
     "data": {
      "image/png": "[encoded data removed]",
      "text/plain": [
       "<Figure size 432x288 with 1 Axes>"
      ]
     },
     "metadata": {
      "needs_background": "light"
     },
     "output_type": "display_data"
    }
   ],
   "source": [
    "data['speed'] = data.distance_km / data.duration_min\n",
    "data.speed.hist()\n",
    "data.speed.describe()"
   ]
  },
  {
   "cell_type": "code",
   "execution_count": 40,
   "metadata": {},
   "outputs": [
    {
     "name": "stdout",
     "output_type": "stream",
     "text": [
      "Корреляция Кендалла: коэф-т 0.7435819339255652 , p-value 0.0\n"
     ]
    },
    {
     "data": {
      "text/plain": [
       "<matplotlib.axes._subplots.AxesSubplot at 0x1b5c27a6688>"
      ]
     },
     "execution_count": 40,
     "metadata": {},
     "output_type": "execute_result"
    },
    {
     "data": {
      "image/png": "[encoded data removed]",
      "text/plain": [
       "<Figure size 432x288 with 1 Axes>"
      ]
     },
     "metadata": {
      "needs_background": "light"
     },
     "output_type": "display_data"
    }
   ],
   "source": [
    "corr, p_value = sts.kendalltau(data.distance_km, data.speed)\n",
    "print('Корреляция Кендалла: коэф-т', corr,', p-value', p_value)\n",
    "sns.regplot(x=data.distance_km, y=data.speed, fit_reg=True,marker=\".\")"
   ]
  },
  {
   "cell_type": "markdown",
   "metadata": {},
   "source": [
    "- корреляция расстояние -  скорость чуть меньше, чем корреяция расстояние - время (0,74 - 0,84)\n",
    "- на большие расстояния (между городами?) едут, наверное, по скоротным дорогам - скорость больше, чем в городе, но также ограничена"
   ]
  },
  {
   "cell_type": "code",
   "execution_count": 41,
   "metadata": {},
   "outputs": [
    {
     "data": {
      "text/plain": [
       "(0.49026328048027257, 0.8440739060465225)"
      ]
     },
     "execution_count": 41,
     "metadata": {},
     "output_type": "execute_result"
    }
   ],
   "source": [
    "data[data.distance_km < 20].speed.mean(), data[data.distance_km > 20].speed.mean()"
   ]
  },
  {
   "cell_type": "code",
   "execution_count": 42,
   "metadata": {},
   "outputs": [
    {
     "name": "stdout",
     "output_type": "stream",
     "text": [
      "P-value 0.0\n"
     ]
    },
    {
     "data": {
      "image/png": "[encoded data removed]",
      "text/plain": [
       "<Figure size 1440x360 with 1 Axes>"
      ]
     },
     "metadata": {
      "needs_background": "light"
     },
     "output_type": "display_data"
    }
   ],
   "source": [
    "# подготовка данных\n",
    "city_speed = data[data.distance_km < 20].speed\n",
    "intercity_speed = data[data.distance_km > 20].speed\n",
    "# двухвыборочный t-критерий для независимых выборок\n",
    "statistics, p_value = sts.ttest_ind(city_speed, intercity_speed)\n",
    "print(f'P-value {p_value}')\n",
    "\n",
    "plt.figure(figsize=(20,5))\n",
    "sns.distplot(city_speed, 50, label='<20 км')\n",
    "sns.distplot(intercity_speed, 50, label='> 20 км')\n",
    "plt.title('Плотность вероятности распределения скорости при разных расстояниях')\n",
    "plt.legend()\n",
    "plt.show()"
   ]
  },
  {
   "cell_type": "code",
   "execution_count": 43,
   "metadata": {},
   "outputs": [
    {
     "data": {
      "text/plain": [
       "0.785628298506822"
      ]
     },
     "execution_count": 43,
     "metadata": {},
     "output_type": "execute_result"
    }
   ],
   "source": [
    "distance_mean/duration_mean"
   ]
  },
  {
   "cell_type": "markdown",
   "metadata": {},
   "source": [
    "- скорости разные на поездках до 20 км и больше 20 км\n",
    "- \"столб\" около 0,8 это пропуски, заполненные средним занчением"
   ]
  },
  {
   "cell_type": "markdown",
   "metadata": {},
   "source": [
    "## 5. Преобразование категориальных признаков "
   ]
  },
  {
   "cell_type": "markdown",
   "metadata": {},
   "source": [
    "- Две категориальные переменные\n",
    "- сравнивать их между собой некорректно\n",
    "\n",
    "=> перекодировать с OneHotEncoder"
   ]
  },
  {
   "cell_type": "code",
   "execution_count": 44,
   "metadata": {},
   "outputs": [],
   "source": [
    "data.describe(include=['object'])\n",
    "cat_data = data[['offer_class_group', 'ride_type_desc']]"
   ]
  },
  {
   "cell_type": "code",
   "execution_count": 45,
   "metadata": {},
   "outputs": [
    {
     "data": {
      "text/plain": [
       "array(['Economy', 'Standard', 'Other', 'Premium'], dtype=object)"
      ]
     },
     "execution_count": 45,
     "metadata": {},
     "output_type": "execute_result"
    }
   ],
   "source": [
    "data.offer_class_group.unique()"
   ]
  },
  {
   "cell_type": "code",
   "execution_count": 46,
   "metadata": {},
   "outputs": [
    {
     "data": {
      "text/plain": [
       "array(['private', 'business'], dtype=object)"
      ]
     },
     "execution_count": 46,
     "metadata": {},
     "output_type": "execute_result"
    }
   ],
   "source": [
    "data.ride_type_desc.unique()"
   ]
  },
  {
   "cell_type": "code",
   "execution_count": 47,
   "metadata": {},
   "outputs": [],
   "source": [
    "from sklearn.preprocessing import OneHotEncoder\n",
    "\n",
    "ohe_enc = OneHotEncoder()\n",
    "ohe_cats = ohe_enc.fit_transform(cat_data).toarray()\n",
    "ohe_cats = pd.DataFrame(ohe_cats, columns=np.hstack(ohe_enc.categories_))"
   ]
  },
  {
   "cell_type": "code",
   "execution_count": 48,
   "metadata": {},
   "outputs": [
    {
     "data": {
      "text/html": [
       "<div>\n",
       "<style scoped>\n",
       "    .dataframe tbody tr th:only-of-type {\n",
       "        vertical-align: middle;\n",
       "    }\n",
       "\n",
       "    .dataframe tbody tr th {\n",
       "        vertical-align: top;\n",
       "    }\n",
       "\n",
       "    .dataframe thead th {\n",
       "        text-align: right;\n",
       "    }\n",
       "</style>\n",
       "<table border=\"1\" class=\"dataframe\">\n",
       "  <thead>\n",
       "    <tr style=\"text-align: right;\">\n",
       "      <th></th>\n",
       "      <th>Economy</th>\n",
       "      <th>Other</th>\n",
       "      <th>Premium</th>\n",
       "      <th>Standard</th>\n",
       "      <th>business</th>\n",
       "      <th>private</th>\n",
       "    </tr>\n",
       "  </thead>\n",
       "  <tbody>\n",
       "    <tr>\n",
       "      <th>0</th>\n",
       "      <td>1.0</td>\n",
       "      <td>0.0</td>\n",
       "      <td>0.0</td>\n",
       "      <td>0.0</td>\n",
       "      <td>0.0</td>\n",
       "      <td>1.0</td>\n",
       "    </tr>\n",
       "    <tr>\n",
       "      <th>1</th>\n",
       "      <td>0.0</td>\n",
       "      <td>0.0</td>\n",
       "      <td>0.0</td>\n",
       "      <td>1.0</td>\n",
       "      <td>0.0</td>\n",
       "      <td>1.0</td>\n",
       "    </tr>\n",
       "    <tr>\n",
       "      <th>2</th>\n",
       "      <td>1.0</td>\n",
       "      <td>0.0</td>\n",
       "      <td>0.0</td>\n",
       "      <td>0.0</td>\n",
       "      <td>0.0</td>\n",
       "      <td>1.0</td>\n",
       "    </tr>\n",
       "    <tr>\n",
       "      <th>3</th>\n",
       "      <td>1.0</td>\n",
       "      <td>0.0</td>\n",
       "      <td>0.0</td>\n",
       "      <td>0.0</td>\n",
       "      <td>0.0</td>\n",
       "      <td>1.0</td>\n",
       "    </tr>\n",
       "    <tr>\n",
       "      <th>4</th>\n",
       "      <td>1.0</td>\n",
       "      <td>0.0</td>\n",
       "      <td>0.0</td>\n",
       "      <td>0.0</td>\n",
       "      <td>0.0</td>\n",
       "      <td>1.0</td>\n",
       "    </tr>\n",
       "    <tr>\n",
       "      <th>...</th>\n",
       "      <td>...</td>\n",
       "      <td>...</td>\n",
       "      <td>...</td>\n",
       "      <td>...</td>\n",
       "      <td>...</td>\n",
       "      <td>...</td>\n",
       "    </tr>\n",
       "    <tr>\n",
       "      <th>99517</th>\n",
       "      <td>1.0</td>\n",
       "      <td>0.0</td>\n",
       "      <td>0.0</td>\n",
       "      <td>0.0</td>\n",
       "      <td>0.0</td>\n",
       "      <td>1.0</td>\n",
       "    </tr>\n",
       "    <tr>\n",
       "      <th>99518</th>\n",
       "      <td>1.0</td>\n",
       "      <td>0.0</td>\n",
       "      <td>0.0</td>\n",
       "      <td>0.0</td>\n",
       "      <td>0.0</td>\n",
       "      <td>1.0</td>\n",
       "    </tr>\n",
       "    <tr>\n",
       "      <th>99519</th>\n",
       "      <td>0.0</td>\n",
       "      <td>0.0</td>\n",
       "      <td>0.0</td>\n",
       "      <td>1.0</td>\n",
       "      <td>0.0</td>\n",
       "      <td>1.0</td>\n",
       "    </tr>\n",
       "    <tr>\n",
       "      <th>99520</th>\n",
       "      <td>1.0</td>\n",
       "      <td>0.0</td>\n",
       "      <td>0.0</td>\n",
       "      <td>0.0</td>\n",
       "      <td>0.0</td>\n",
       "      <td>1.0</td>\n",
       "    </tr>\n",
       "    <tr>\n",
       "      <th>99521</th>\n",
       "      <td>0.0</td>\n",
       "      <td>0.0</td>\n",
       "      <td>0.0</td>\n",
       "      <td>1.0</td>\n",
       "      <td>0.0</td>\n",
       "      <td>1.0</td>\n",
       "    </tr>\n",
       "  </tbody>\n",
       "</table>\n",
       "<p>99522 rows × 6 columns</p>\n",
       "</div>"
      ],
      "text/plain": [
       "       Economy  Other  Premium  Standard  business  private\n",
       "0          1.0    0.0      0.0       0.0       0.0      1.0\n",
       "1          0.0    0.0      0.0       1.0       0.0      1.0\n",
       "2          1.0    0.0      0.0       0.0       0.0      1.0\n",
       "3          1.0    0.0      0.0       0.0       0.0      1.0\n",
       "4          1.0    0.0      0.0       0.0       0.0      1.0\n",
       "...        ...    ...      ...       ...       ...      ...\n",
       "99517      1.0    0.0      0.0       0.0       0.0      1.0\n",
       "99518      1.0    0.0      0.0       0.0       0.0      1.0\n",
       "99519      0.0    0.0      0.0       1.0       0.0      1.0\n",
       "99520      1.0    0.0      0.0       0.0       0.0      1.0\n",
       "99521      0.0    0.0      0.0       1.0       0.0      1.0\n",
       "\n",
       "[99522 rows x 6 columns]"
      ]
     },
     "execution_count": 48,
     "metadata": {},
     "output_type": "execute_result"
    }
   ],
   "source": [
    "ohe_cats"
   ]
  },
  {
   "cell_type": "markdown",
   "metadata": {},
   "source": [
    "- по одному из признаков - убрать!!!"
   ]
  },
  {
   "cell_type": "code",
   "execution_count": 49,
   "metadata": {},
   "outputs": [],
   "source": [
    "ohe_cats.drop(columns=['business','Other'], inplace=True )"
   ]
  },
  {
   "cell_type": "markdown",
   "metadata": {},
   "source": [
    "## 6. Выделение/преобразование признаков. Удаление лишних"
   ]
  },
  {
   "cell_type": "code",
   "execution_count": 50,
   "metadata": {},
   "outputs": [
    {
     "name": "stdout",
     "output_type": "stream",
     "text": [
      "<class 'pandas.core.frame.DataFrame'>\n",
      "Int64Index: 99522 entries, 0 to 99999\n",
      "Data columns (total 15 columns):\n",
      " #   Column                  Non-Null Count  Dtype  \n",
      "---  ------                  --------------  -----  \n",
      " 0   offer_gk                99522 non-null  int64  \n",
      " 1   weekday_key             99522 non-null  int64  \n",
      " 2   hour_key                99522 non-null  int64  \n",
      " 3   driver_gk               99522 non-null  int64  \n",
      " 4   order_gk                99522 non-null  int64  \n",
      " 5   driver_latitude         99522 non-null  float64\n",
      " 6   driver_longitude        99522 non-null  float64\n",
      " 7   origin_order_latitude   99522 non-null  float64\n",
      " 8   origin_order_longitude  99522 non-null  float64\n",
      " 9   distance_km             99522 non-null  float64\n",
      " 10  duration_min            99522 non-null  float64\n",
      " 11  offer_class_group       99522 non-null  object \n",
      " 12  ride_type_desc          99522 non-null  object \n",
      " 13  driver_response         99522 non-null  int64  \n",
      " 14  speed                   99522 non-null  float64\n",
      "dtypes: float64(7), int64(6), object(2)\n",
      "memory usage: 12.1+ MB\n"
     ]
    }
   ],
   "source": [
    "data.info()"
   ]
  },
  {
   "cell_type": "markdown",
   "metadata": {},
   "source": [
    "- признак - количество предложений заказа нескольким таксистам"
   ]
  },
  {
   "cell_type": "code",
   "execution_count": 51,
   "metadata": {},
   "outputs": [],
   "source": [
    "orders = data.groupby(by='order_gk').offer_gk.count()\n",
    "data.loc[:,'offer_num'] = data.loc[:, 'order_gk'].apply(lambda x: orders.loc[x])"
   ]
  },
  {
   "cell_type": "code",
   "execution_count": 52,
   "metadata": {},
   "outputs": [
    {
     "data": {
      "text/plain": [
       "0        2\n",
       "1        1\n",
       "2        1\n",
       "3        1\n",
       "4        1\n",
       "        ..\n",
       "99995    4\n",
       "99996    2\n",
       "99997    6\n",
       "99998    6\n",
       "99999    3\n",
       "Name: offer_num, Length: 99522, dtype: int64"
      ]
     },
     "execution_count": 52,
     "metadata": {},
     "output_type": "execute_result"
    }
   ],
   "source": [
    "data.offer_num"
   ]
  },
  {
   "cell_type": "markdown",
   "metadata": {},
   "source": [
    "- расстояние между такси и клиентом"
   ]
  },
  {
   "cell_type": "code",
   "execution_count": 53,
   "metadata": {},
   "outputs": [],
   "source": [
    "# ! pip install geopy\n",
    "from geopy import distance"
   ]
  },
  {
   "cell_type": "code",
   "execution_count": 54,
   "metadata": {},
   "outputs": [
    {
     "data": {
      "text/plain": [
       "count    99522.000000\n",
       "mean         0.990610\n",
       "std          0.949616\n",
       "min          0.000000\n",
       "25%          0.405637\n",
       "50%          0.654126\n",
       "75%          1.319985\n",
       "max         22.358308\n",
       "Name: origin_dist, dtype: float64"
      ]
     },
     "execution_count": 54,
     "metadata": {},
     "output_type": "execute_result"
    }
   ],
   "source": [
    "def dist(row):    \n",
    "    return distance.distance(\n",
    "        (row.driver_latitude, row.driver_longitude), \n",
    "        (row.origin_order_latitude, row.origin_order_longitude)).km\n",
    "\n",
    "data['origin_dist'] = data.apply(dist, axis=1)\n",
    "data.origin_dist.describe()\n",
    "# data.origin_dist.head()"
   ]
  },
  {
   "cell_type": "code",
   "execution_count": 55,
   "metadata": {},
   "outputs": [
    {
     "name": "stdout",
     "output_type": "stream",
     "text": [
      "P-value 4.574067737502727e-148\n"
     ]
    },
    {
     "data": {
      "image/png": "[encoded data removed]",
      "text/plain": [
       "<Figure size 1440x360 with 1 Axes>"
      ]
     },
     "metadata": {
      "needs_background": "light"
     },
     "output_type": "display_data"
    }
   ],
   "source": [
    "# проверка одинаковости выорок исходных расстояний принятых и отвергнутых заявок\n",
    "# подготовка данных\n",
    "accept = data[data.driver_response == 1].origin_dist\n",
    "not_accept = data[data.driver_response == 0].origin_dist\n",
    "\n",
    "# двухвыборочный t-критерий для независимых выборок\n",
    "statistics, p_value = sts.ttest_ind(accept, not_accept)\n",
    "print(f'P-value {p_value}')\n",
    "\n",
    "plt.figure(figsize=(20,5))\n",
    "sns.distplot(accept, 50, label='принятые заявки')\n",
    "sns.distplot(not_accept, 50, label='отклоненные заявки')\n",
    "plt.title('Плотность вероятности распределения исходного расстояния такси-клиент')\n",
    "plt.legend()\n",
    "plt.show()"
   ]
  },
  {
   "cell_type": "code",
   "execution_count": 56,
   "metadata": {},
   "outputs": [
    {
     "data": {
      "text/plain": [
       "4.49128189463407"
      ]
     },
     "execution_count": 56,
     "metadata": {},
     "output_type": "execute_result"
    }
   ],
   "source": [
    "data.origin_dist.quantile(0.99)"
   ]
  },
  {
   "cell_type": "code",
   "execution_count": 57,
   "metadata": {},
   "outputs": [
    {
     "data": {
      "text/plain": [
       "(996, 17)"
      ]
     },
     "execution_count": 57,
     "metadata": {},
     "output_type": "execute_result"
    }
   ],
   "source": [
    "data[data.origin_dist > data.origin_dist.quantile(0.99)].shape"
   ]
  },
  {
   "cell_type": "markdown",
   "metadata": {},
   "source": [
    "- есть 996 заявок, в которых таксисту нужно ехать до клиента более 4.5 км (вплоть до 22 км)\n",
    "- 99% заявок укладываются в 4.5 км, т.е. все, что выше можно считать выбросами"
   ]
  },
  {
   "cell_type": "code",
   "execution_count": 58,
   "metadata": {},
   "outputs": [],
   "source": [
    "data = data[data.origin_dist < data.origin_dist.quantile(0.99)]"
   ]
  },
  {
   "cell_type": "markdown",
   "metadata": {},
   "source": [
    "- выборки расстояний у принятых и отвергнутых заявок статистически отличаются"
   ]
  },
  {
   "cell_type": "code",
   "execution_count": 59,
   "metadata": {},
   "outputs": [
    {
     "data": {
      "text/plain": [
       "(98526, 6)"
      ]
     },
     "execution_count": 59,
     "metadata": {},
     "output_type": "execute_result"
    }
   ],
   "source": [
    "data.shape\n",
    "num_data = data.drop(columns=[\n",
    "    'offer_gk', 'order_gk','driver_gk', \n",
    "    'driver_latitude', 'driver_longitude',\n",
    "    'origin_order_latitude', 'origin_order_longitude',\n",
    "    'duration_min',\n",
    "    'offer_class_group', 'ride_type_desc',\n",
    "    'driver_response'\n",
    "])\n",
    "num_data.shape"
   ]
  },
  {
   "cell_type": "code",
   "execution_count": 60,
   "metadata": {},
   "outputs": [
    {
     "data": {
      "text/html": [
       "<div>\n",
       "<style scoped>\n",
       "    .dataframe tbody tr th:only-of-type {\n",
       "        vertical-align: middle;\n",
       "    }\n",
       "\n",
       "    .dataframe tbody tr th {\n",
       "        vertical-align: top;\n",
       "    }\n",
       "\n",
       "    .dataframe thead th {\n",
       "        text-align: right;\n",
       "    }\n",
       "</style>\n",
       "<table border=\"1\" class=\"dataframe\">\n",
       "  <thead>\n",
       "    <tr style=\"text-align: right;\">\n",
       "      <th></th>\n",
       "      <th>weekday_key</th>\n",
       "      <th>hour_key</th>\n",
       "      <th>distance_km</th>\n",
       "      <th>speed</th>\n",
       "      <th>offer_num</th>\n",
       "      <th>origin_dist</th>\n",
       "    </tr>\n",
       "  </thead>\n",
       "  <tbody>\n",
       "    <tr>\n",
       "      <th>count</th>\n",
       "      <td>98526.000000</td>\n",
       "      <td>98526.000000</td>\n",
       "      <td>98526.000000</td>\n",
       "      <td>98526.000000</td>\n",
       "      <td>98526.000000</td>\n",
       "      <td>98526.000000</td>\n",
       "    </tr>\n",
       "    <tr>\n",
       "      <th>mean</th>\n",
       "      <td>3.165489</td>\n",
       "      <td>13.885685</td>\n",
       "      <td>24.382992</td>\n",
       "      <td>0.707190</td>\n",
       "      <td>1.766133</td>\n",
       "      <td>0.945831</td>\n",
       "    </tr>\n",
       "    <tr>\n",
       "      <th>std</th>\n",
       "      <td>2.052166</td>\n",
       "      <td>7.275603</td>\n",
       "      <td>16.742663</td>\n",
       "      <td>0.218704</td>\n",
       "      <td>1.605311</td>\n",
       "      <td>0.835043</td>\n",
       "    </tr>\n",
       "    <tr>\n",
       "      <th>min</th>\n",
       "      <td>0.000000</td>\n",
       "      <td>0.000000</td>\n",
       "      <td>0.505000</td>\n",
       "      <td>0.135333</td>\n",
       "      <td>1.000000</td>\n",
       "      <td>0.000000</td>\n",
       "    </tr>\n",
       "    <tr>\n",
       "      <th>25%</th>\n",
       "      <td>1.000000</td>\n",
       "      <td>8.000000</td>\n",
       "      <td>10.985000</td>\n",
       "      <td>0.535729</td>\n",
       "      <td>1.000000</td>\n",
       "      <td>0.405458</td>\n",
       "    </tr>\n",
       "    <tr>\n",
       "      <th>50%</th>\n",
       "      <td>3.000000</td>\n",
       "      <td>16.000000</td>\n",
       "      <td>24.458754</td>\n",
       "      <td>0.785628</td>\n",
       "      <td>1.000000</td>\n",
       "      <td>0.649994</td>\n",
       "    </tr>\n",
       "    <tr>\n",
       "      <th>75%</th>\n",
       "      <td>5.000000</td>\n",
       "      <td>20.000000</td>\n",
       "      <td>30.486250</td>\n",
       "      <td>0.825417</td>\n",
       "      <td>2.000000</td>\n",
       "      <td>1.290963</td>\n",
       "    </tr>\n",
       "    <tr>\n",
       "      <th>max</th>\n",
       "      <td>6.000000</td>\n",
       "      <td>23.000000</td>\n",
       "      <td>129.372000</td>\n",
       "      <td>1.474560</td>\n",
       "      <td>14.000000</td>\n",
       "      <td>4.489634</td>\n",
       "    </tr>\n",
       "  </tbody>\n",
       "</table>\n",
       "</div>"
      ],
      "text/plain": [
       "        weekday_key      hour_key   distance_km         speed     offer_num  \\\n",
       "count  98526.000000  98526.000000  98526.000000  98526.000000  98526.000000   \n",
       "mean       3.165489     13.885685     24.382992      0.707190      1.766133   \n",
       "std        2.052166      7.275603     16.742663      0.218704      1.605311   \n",
       "min        0.000000      0.000000      0.505000      0.135333      1.000000   \n",
       "25%        1.000000      8.000000     10.985000      0.535729      1.000000   \n",
       "50%        3.000000     16.000000     24.458754      0.785628      1.000000   \n",
       "75%        5.000000     20.000000     30.486250      0.825417      2.000000   \n",
       "max        6.000000     23.000000    129.372000      1.474560     14.000000   \n",
       "\n",
       "        origin_dist  \n",
       "count  98526.000000  \n",
       "mean       0.945831  \n",
       "std        0.835043  \n",
       "min        0.000000  \n",
       "25%        0.405458  \n",
       "50%        0.649994  \n",
       "75%        1.290963  \n",
       "max        4.489634  "
      ]
     },
     "execution_count": 60,
     "metadata": {},
     "output_type": "execute_result"
    }
   ],
   "source": [
    "num_data.describe()"
   ]
  },
  {
   "cell_type": "code",
   "execution_count": 61,
   "metadata": {},
   "outputs": [],
   "source": [
    "# проба: исключить из модели origin_dist и speed\n",
    "# num_data.drop(columns=['origin_dist', 'speed'], inplace=True)"
   ]
  },
  {
   "cell_type": "code",
   "execution_count": 62,
   "metadata": {},
   "outputs": [],
   "source": [
    "# нормализация числовых данных\n",
    "from sklearn.preprocessing import MinMaxScaler\n",
    "\n",
    "min_max = MinMaxScaler()\n",
    "new_numbers = min_max.fit_transform(num_data)\n",
    "num_data = pd.DataFrame(new_numbers, columns=num_data.columns)"
   ]
  },
  {
   "cell_type": "code",
   "execution_count": 63,
   "metadata": {},
   "outputs": [
    {
     "data": {
      "text/html": [
       "<div>\n",
       "<style scoped>\n",
       "    .dataframe tbody tr th:only-of-type {\n",
       "        vertical-align: middle;\n",
       "    }\n",
       "\n",
       "    .dataframe tbody tr th {\n",
       "        vertical-align: top;\n",
       "    }\n",
       "\n",
       "    .dataframe thead th {\n",
       "        text-align: right;\n",
       "    }\n",
       "</style>\n",
       "<table border=\"1\" class=\"dataframe\">\n",
       "  <thead>\n",
       "    <tr style=\"text-align: right;\">\n",
       "      <th></th>\n",
       "      <th>weekday_key</th>\n",
       "      <th>hour_key</th>\n",
       "      <th>distance_km</th>\n",
       "      <th>speed</th>\n",
       "      <th>offer_num</th>\n",
       "      <th>origin_dist</th>\n",
       "      <th>Economy</th>\n",
       "      <th>Premium</th>\n",
       "      <th>Standard</th>\n",
       "      <th>private</th>\n",
       "    </tr>\n",
       "  </thead>\n",
       "  <tbody>\n",
       "    <tr>\n",
       "      <th>0</th>\n",
       "      <td>0.833333</td>\n",
       "      <td>0.869565</td>\n",
       "      <td>0.185880</td>\n",
       "      <td>0.485575</td>\n",
       "      <td>0.076923</td>\n",
       "      <td>0.304558</td>\n",
       "      <td>1.0</td>\n",
       "      <td>0.0</td>\n",
       "      <td>0.0</td>\n",
       "      <td>1.0</td>\n",
       "    </tr>\n",
       "    <tr>\n",
       "      <th>1</th>\n",
       "      <td>0.833333</td>\n",
       "      <td>0.608696</td>\n",
       "      <td>0.141984</td>\n",
       "      <td>0.455692</td>\n",
       "      <td>0.000000</td>\n",
       "      <td>0.762481</td>\n",
       "      <td>0.0</td>\n",
       "      <td>0.0</td>\n",
       "      <td>1.0</td>\n",
       "      <td>1.0</td>\n",
       "    </tr>\n",
       "    <tr>\n",
       "      <th>2</th>\n",
       "      <td>1.000000</td>\n",
       "      <td>0.608696</td>\n",
       "      <td>0.048438</td>\n",
       "      <td>0.413027</td>\n",
       "      <td>0.000000</td>\n",
       "      <td>0.091623</td>\n",
       "      <td>1.0</td>\n",
       "      <td>0.0</td>\n",
       "      <td>0.0</td>\n",
       "      <td>1.0</td>\n",
       "    </tr>\n",
       "    <tr>\n",
       "      <th>3</th>\n",
       "      <td>0.333333</td>\n",
       "      <td>0.260870</td>\n",
       "      <td>0.185880</td>\n",
       "      <td>0.485575</td>\n",
       "      <td>0.000000</td>\n",
       "      <td>0.144653</td>\n",
       "      <td>1.0</td>\n",
       "      <td>0.0</td>\n",
       "      <td>0.0</td>\n",
       "      <td>1.0</td>\n",
       "    </tr>\n",
       "    <tr>\n",
       "      <th>4</th>\n",
       "      <td>0.666667</td>\n",
       "      <td>0.695652</td>\n",
       "      <td>0.092173</td>\n",
       "      <td>0.379278</td>\n",
       "      <td>0.000000</td>\n",
       "      <td>0.237016</td>\n",
       "      <td>1.0</td>\n",
       "      <td>0.0</td>\n",
       "      <td>0.0</td>\n",
       "      <td>1.0</td>\n",
       "    </tr>\n",
       "  </tbody>\n",
       "</table>\n",
       "</div>"
      ],
      "text/plain": [
       "   weekday_key  hour_key  distance_km     speed  offer_num  origin_dist  \\\n",
       "0     0.833333  0.869565     0.185880  0.485575   0.076923     0.304558   \n",
       "1     0.833333  0.608696     0.141984  0.455692   0.000000     0.762481   \n",
       "2     1.000000  0.608696     0.048438  0.413027   0.000000     0.091623   \n",
       "3     0.333333  0.260870     0.185880  0.485575   0.000000     0.144653   \n",
       "4     0.666667  0.695652     0.092173  0.379278   0.000000     0.237016   \n",
       "\n",
       "   Economy  Premium  Standard  private  \n",
       "0      1.0      0.0       0.0      1.0  \n",
       "1      0.0      0.0       1.0      1.0  \n",
       "2      1.0      0.0       0.0      1.0  \n",
       "3      1.0      0.0       0.0      1.0  \n",
       "4      1.0      0.0       0.0      1.0  "
      ]
     },
     "execution_count": 63,
     "metadata": {},
     "output_type": "execute_result"
    }
   ],
   "source": [
    "X = num_data.merge(ohe_cats, left_index=True, right_index=True)\n",
    "X.head(5)"
   ]
  },
  {
   "cell_type": "code",
   "execution_count": 64,
   "metadata": {},
   "outputs": [],
   "source": [
    "y = data.driver_response"
   ]
  },
  {
   "cell_type": "markdown",
   "metadata": {},
   "source": [
    "## 7. Разделение выборки на обучаемую и тестовую"
   ]
  },
  {
   "cell_type": "code",
   "execution_count": 65,
   "metadata": {},
   "outputs": [],
   "source": [
    "from sklearn.model_selection import train_test_split\n",
    "x_train, x_test, y_train,y_test = train_test_split(X, y, test_size=0.2, random_state=13)"
   ]
  },
  {
   "cell_type": "markdown",
   "metadata": {},
   "source": [
    "## 8. Обучение модели"
   ]
  },
  {
   "cell_type": "markdown",
   "metadata": {},
   "source": [
    "### RandomForest"
   ]
  },
  {
   "cell_type": "code",
   "execution_count": 66,
   "metadata": {},
   "outputs": [],
   "source": [
    "from sklearn.ensemble import RandomForestClassifier"
   ]
  },
  {
   "cell_type": "code",
   "execution_count": 67,
   "metadata": {},
   "outputs": [
    {
     "name": "stdout",
     "output_type": "stream",
     "text": [
      "              precision    recall  f1-score   support\n",
      "\n",
      "           0       0.78      0.68      0.73     10090\n",
      "           1       0.71      0.79      0.75      9616\n",
      "\n",
      "    accuracy                           0.74     19706\n",
      "   macro avg       0.74      0.74      0.74     19706\n",
      "weighted avg       0.74      0.74      0.74     19706\n",
      "\n",
      "Модель \"рандомных деревьев\" дала точность предсказания порядка 0.7377448492844819.\n"
     ]
    },
    {
     "data": {
      "image/png": "[encoded data removed]",
      "text/plain": [
       "<Figure size 432x432 with 1 Axes>"
      ]
     },
     "metadata": {
      "needs_background": "light"
     },
     "output_type": "display_data"
    }
   ],
   "source": [
    "from sklearn.ensemble import RandomForestClassifier\n",
    "\n",
    "# создание модели деревья решений\n",
    "#  100 деревьев в качестве параметра\n",
    "model=RandomForestClassifier(n_estimators=100)\n",
    "\n",
    "# обучение модели\n",
    "model.fit(x_train, y_train)\n",
    "\n",
    "# расчет качества модели - classification report:\n",
    "from sklearn.metrics import classification_report\n",
    "\n",
    "model_pred = model.predict(x_test)\n",
    "\n",
    "print(classification_report(y_test, model_pred))\n",
    "\n",
    "print(f'Модель \"рандомных деревьев\" дала точность предсказания порядка {model.score(x_test, y_test)}.')\n",
    "\n",
    "# Наиболее важные атрибуты для модели Random Forest:\n",
    "headers = list(x_train.columns.values)\n",
    "\n",
    "feature_imp = pd.Series(model.feature_importances_,index=headers).sort_values(ascending=False)\n",
    "\n",
    "f, ax = plt.subplots(figsize=(6, 6))\n",
    "sns.barplot(x=feature_imp, y=feature_imp.index)\n",
    "\n",
    "plt.xlabel('Важность атрибутов')\n",
    "plt.ylabel('Атрибуты')\n",
    "plt.title(\"Наиболее важные атрибуты\")\n",
    "# plt.legend()\n",
    "plt.show()"
   ]
  },
  {
   "cell_type": "markdown",
   "metadata": {},
   "source": [
    "### XGBoost"
   ]
  },
  {
   "cell_type": "code",
   "execution_count": 68,
   "metadata": {},
   "outputs": [],
   "source": [
    "import xgboost as xgb\n",
    "# from sklearn import cross_validation\n",
    "from sklearn.metrics import accuracy_score"
   ]
  },
  {
   "cell_type": "code",
   "execution_count": 69,
   "metadata": {},
   "outputs": [
    {
     "data": {
      "text/plain": [
       "XGBClassifier(base_score=0.5, booster='gbtree', colsample_bylevel=1,\n",
       "              colsample_bynode=1, colsample_bytree=1, gamma=0,\n",
       "              learning_rate=0.1, max_delta_step=0, max_depth=3,\n",
       "              min_child_weight=1, missing=None, n_estimators=100, n_jobs=1,\n",
       "              nthread=None, objective='binary:logistic', random_state=0,\n",
       "              reg_alpha=0, reg_lambda=1, scale_pos_weight=1, seed=None,\n",
       "              silent=None, subsample=1, verbosity=1)"
      ]
     },
     "execution_count": 69,
     "metadata": {},
     "output_type": "execute_result"
    }
   ],
   "source": [
    "# модель\n",
    "model = xgb.XGBClassifier()\n",
    "model.fit(x_train, y_train)"
   ]
  },
  {
   "cell_type": "code",
   "execution_count": 70,
   "metadata": {},
   "outputs": [],
   "source": [
    "# предсказание\n",
    "y_pred = model.predict(x_test)\n",
    "predictions = [round(value) for value in y_pred]"
   ]
  },
  {
   "cell_type": "code",
   "execution_count": 71,
   "metadata": {},
   "outputs": [
    {
     "name": "stdout",
     "output_type": "stream",
     "text": [
      "Точность: 75.14%\n"
     ]
    }
   ],
   "source": [
    "# оценка\n",
    "accuracy = accuracy_score(y_test, predictions)\n",
    "print(\"Точность: %.2f%%\" % (accuracy * 100.0))"
   ]
  },
  {
   "cell_type": "markdown",
   "metadata": {},
   "source": [
    "- 0.74 - 0.75\n",
    "- 0.70 - 0.74 - без origin_dist, speed\n"
   ]
  },
  {
   "cell_type": "markdown",
   "metadata": {},
   "source": [
    "### Заключение:\n",
    "- Построенная модель позволяет предсказывать решение водителя такси в вероятностью (точностью) 70-75% (в зависимости от разбиения на тренировочные и тестовые данные, набора переменных)."
   ]
  }
 ],
 "metadata": {
  "kernelspec": {
   "display_name": "Python 3",
   "language": "python",
   "name": "python3"
  },
  "language_info": {
   "codemirror_mode": {
    "name": "ipython",
    "version": 3
   },
   "file_extension": ".py",
   "mimetype": "text/x-python",
   "name": "python",
   "nbconvert_exporter": "python",
   "pygments_lexer": "ipython3",
   "version": "3.7.6"
  }
 },
 "nbformat": 4,
 "nbformat_minor": 4
}
